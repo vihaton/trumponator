{
 "cells": [
  {
   "cell_type": "code",
   "execution_count": 1,
   "metadata": {},
   "outputs": [],
   "source": [
    "import pandas as pd\n",
    "import json"
   ]
  },
  {
   "cell_type": "code",
   "execution_count": 2,
   "metadata": {},
   "outputs": [],
   "source": [
    "dir = 'source/raw_trump_tweets_2.json'\n",
    "\n",
    "df = pd.read_json(open(dir, 'r'))"
   ]
  },
  {
   "cell_type": "code",
   "execution_count": 4,
   "metadata": {},
   "outputs": [
    {
     "name": "stdout",
     "output_type": "stream",
     "text": [
      "0       Jobless Claims fell to their lowest level in 4...\n",
      "1       Consumer confidence hits an 18 year high, clos...\n",
      "2       The Democrats are playing a high level CON GAM...\n",
      "3       “These law enforcement people took the law int...\n",
      "4       73rd Session of the United Nations General Ass...\n",
      "5       “Consumer confidence rose in September, notchi...\n",
      "6       “Remarks by President Trump at a Luncheon Host...\n",
      "7       “Remarks by President Trump to the 73rd Sessio...\n",
      "8       Rush Limbaugh to Republicans: “You can kiss th...\n",
      "9         Thank you Dr. Jeffress! https://t.co/cm7NjQh0ti\n",
      "10                Thank you Mark! https://t.co/NVGs6WbQe2\n",
      "11                                https://t.co/h43dehf0WV\n",
      "12      Will be speaking at the United Nations this mo...\n",
      "13      Despite requests, I have no plans to meet Iran...\n",
      "14      Republican Party Favorability is the highest i...\n",
      "15      The Democrats are working hard to destroy a wo...\n",
      "16                                 REMEMBER THE MIDTERMS!\n",
      "17                                https://t.co/FXqSWusSTV\n",
      "18      It was my great honor to welcome President @Em...\n",
      "19      It was my great honor to welcome President @Al...\n",
      "20      Joint Statement on the United States-Korea Fre...\n",
      "21      Brett Kavanaugh and his wife, Ashley, will be ...\n",
      "22      US-Korea Free Trade Agreement Signing Ceremony...\n",
      "23      It was my great honor to welcome and meet with...\n",
      "24      Today, we commit to fighting the drug epidemic...\n",
      "25      “Remarks by President Trump at ‘Global Call to...\n",
      "26      RT @SCEMD: Now is the time to put safety first...\n",
      "27      Prime Minster @AbeShinzo is coming up to Trump...\n",
      "28      Going to New York. Will be with Prime Minister...\n",
      "29      Tiger is playing great. Looks like a big win c...\n",
      "                              ...                        \n",
      "3169    RT @billoreilly: FNC dominated ratings last ni...\n",
      "3170    RT @Jenniffer2012: Thank you @realDonaldTrump ...\n",
      "3171    It is a \"miracle\" how fast the Las Vegas Metro...\n",
      "3172    So proud of @FEMA, Military, and First Respond...\n",
      "3173    Great meeting with Governor Mapp of the #USVI....\n",
      "3174    Leaving Puerto Rico now for D.C. Will be in La...\n",
      "3175    I am so proud of our great Country. God bless ...\n",
      "3176    My warmest condolences and sympathies to the v...\n",
      "3177    Congratulations to #TeamUSA🇺🇸🏆on your great @P...\n",
      "3178    Being nice to Rocket Man hasn't worked in 25 y...\n",
      "3179    ...Save your energy Rex, we'll do what has to ...\n",
      "3180    I told Rex Tillerson, our wonderful Secretary ...\n",
      "3181    ...for safety. Thank you to the Governor of P....\n",
      "3182    ...people are now starting to recognize the am...\n",
      "3183    We have done a great job with the almost impos...\n",
      "3184    19,000 RESPECTING our National Anthem! #StandF...\n",
      "3185    In analyzing the Alabama Primary race,FAKE NEW...\n",
      "3186    Because of #FakeNews my people are not getting...\n",
      "3187    Very important that NFL players STAND tomorrow...\n",
      "3188    I will be in PR on Tues. to further ensure we ...\n",
      "3189    Results of recovery efforts will speak much lo...\n",
      "3190    We must all be united in offering assistance t...\n",
      "3191    @ricardorossello ......#FakeNews critics are w...\n",
      "3192    My Administration, Governor @RicardoRossello, ...\n",
      "3193    To the people of Puerto Rico:\\nDo not believe ...\n",
      "3194    Congresswoman Jennifer Gonzalez-Colon of Puert...\n",
      "3195    Just spoke to Governor Kenneth Mapp of the U.S...\n",
      "3196    The Governor of Puerto Rico, Ricardo Rossello,...\n",
      "3197    Despite the Fake News Media in conjunction wit...\n",
      "3198    The Fake News Networks are working overtime in...\n",
      "Name: text, Length: 3199, dtype: object\n"
     ]
    }
   ],
   "source": [
    "print(df['text'])\n",
    "    "
   ]
  },
  {
   "cell_type": "code",
   "execution_count": 5,
   "metadata": {},
   "outputs": [],
   "source": [
    "df['pre_clean_len'] = [len(t) for t in df.text]"
   ]
  },
  {
   "cell_type": "code",
   "execution_count": 19,
   "metadata": {},
   "outputs": [
    {
     "data": {
      "text/plain": [
       "0        54\n",
       "1       140\n",
       "2       139\n",
       "3       114\n",
       "4        81\n",
       "5       140\n",
       "6       121\n",
       "7       137\n",
       "8       119\n",
       "9        47\n",
       "10       39\n",
       "11       23\n",
       "12      139\n",
       "13      139\n",
       "14      109\n",
       "15      140\n",
       "16       22\n",
       "17       23\n",
       "18      140\n",
       "19      140\n",
       "20      112\n",
       "21      139\n",
       "22       71\n",
       "23      140\n",
       "24       86\n",
       "25      121\n",
       "26      140\n",
       "27      140\n",
       "28      139\n",
       "29       85\n",
       "       ... \n",
       "3169    140\n",
       "3170    140\n",
       "3171    136\n",
       "3172     85\n",
       "3173    140\n",
       "3174    140\n",
       "3175     54\n",
       "3176    116\n",
       "3177     91\n",
       "3178    135\n",
       "3179     54\n",
       "3180    129\n",
       "3181    137\n",
       "3182    140\n",
       "3183    140\n",
       "3184     83\n",
       "3185    140\n",
       "3186    140\n",
       "3187    133\n",
       "3188    144\n",
       "3189    137\n",
       "3190    134\n",
       "3191    140\n",
       "3192    132\n",
       "3193     71\n",
       "3194    137\n",
       "3195    140\n",
       "3196    117\n",
       "3197    116\n",
       "3198    139\n",
       "Name: pre_clean_len, Length: 3199, dtype: int64"
      ]
     },
     "execution_count": 19,
     "metadata": {},
     "output_type": "execute_result"
    }
   ],
   "source": [
    "df['pre_clean_len']"
   ]
  },
  {
   "cell_type": "code",
   "execution_count": 7,
   "metadata": {},
   "outputs": [
    {
     "data": {
      "text/plain": [
       "148"
      ]
     },
     "execution_count": 7,
     "metadata": {},
     "output_type": "execute_result"
    }
   ],
   "source": [
    "max(df['pre_clean_len'])"
   ]
  },
  {
   "cell_type": "code",
   "execution_count": 20,
   "metadata": {},
   "outputs": [
    {
     "data": {
      "text/plain": [
       "8"
      ]
     },
     "execution_count": 20,
     "metadata": {},
     "output_type": "execute_result"
    }
   ],
   "source": [
    "min(df['pre_clean_len'])"
   ]
  },
  {
   "cell_type": "code",
   "execution_count": 12,
   "metadata": {},
   "outputs": [
    {
     "data": {
      "text/plain": [
       "\"@ricardorossello ......#FakeNews critics are working overtime, but we're getting great marks from the people that truly matter! \\n#PRStrong🇵🇷\""
      ]
     },
     "execution_count": 12,
     "metadata": {},
     "output_type": "execute_result"
    }
   ],
   "source": [
    "df.text[3191]"
   ]
  },
  {
   "cell_type": "code",
   "execution_count": 14,
   "metadata": {},
   "outputs": [
    {
     "name": "stdout",
     "output_type": "stream",
     "text": [
      "@ricardorossello ......#FakeNews critics are working overtime, but we're getting great marks from the people that truly matter! \n",
      "#PRStrong🇵🇷\n"
     ]
    }
   ],
   "source": [
    "from bs4 import BeautifulSoup\n",
    "example1 = BeautifulSoup(df.text[3191], 'lxml')\n",
    "print(example1.get_text())"
   ]
  },
  {
   "cell_type": "code",
   "execution_count": 18,
   "metadata": {},
   "outputs": [
    {
     "data": {
      "text/plain": [
       "' ricardorossello        FakeNews critics are working overtime  but we re getting great marks from the people that truly matter    PRStrong  '"
      ]
     },
     "execution_count": 18,
     "metadata": {},
     "output_type": "execute_result"
    }
   ],
   "source": [
    "import re\n",
    "re.sub(\"[^a-zA-Z]\", \" \", df.text[3191])"
   ]
  },
  {
   "cell_type": "code",
   "execution_count": 21,
   "metadata": {},
   "outputs": [],
   "source": [
    "from nltk.tokenize import WordPunctTokenizer\n",
    "tok = WordPunctTokenizer()\n",
    "pat1 = r'@[A-Za-z0-9]+'\n",
    "pat2 = r'https?://[A-Za-z0-9./]+'\n",
    "combined_pat = r'|'.join((pat1, pat2))"
   ]
  },
  {
   "cell_type": "code",
   "execution_count": 25,
   "metadata": {},
   "outputs": [],
   "source": [
    "def tweet_cleaner(text):\n",
    "    soup = BeautifulSoup(text, 'lxml')\n",
    "    souped = soup.get_text()\n",
    "    #stripped = re.sub(combined_pat, '', souped)\n",
    "    #try:\n",
    "    #    clean = stripped.decode(\"utf-8-sig\").replace(u\"\\ufffd\", \"?\")\n",
    "    #except:\n",
    "    #    clean = stripped\n",
    "    letters_only = re.sub(\"[^a-zA-Z]\", \" \", souped)\n",
    "    lower_case = letters_only.lower()\n",
    "\n",
    "    words = tok.tokenize(lower_case)\n",
    "    return (\" \".join(words)).strip()\n",
    "\n"
   ]
  },
  {
   "cell_type": "code",
   "execution_count": 28,
   "metadata": {},
   "outputs": [
    {
     "data": {
      "text/plain": [
       "['jobless claims fell to their lowest level in years',\n",
       " 'consumer confidence hits an year high close to breaking the all time record a big jump from last years peop https t co ftdzq lwuu',\n",
       " 'the democrats are playing a high level con game in their vicious effort to destroy a fine person it is called the https t co ma jxndi',\n",
       " 'these law enforcement people took the law into their own hands when it came to president trump lindseygrahamsc',\n",
       " 'rd session of the united nations general assembly unga https t co xjyx rrh f',\n",
       " 'consumer confidence rose in september notching its highest level in about years the consumer board s index ro https t co ywjgz yu z',\n",
       " 'remarks by president trump at a luncheon hosted by the secretary general of the united nations https t co wt mdnmdi',\n",
       " 'remarks by president trump to the rd session of the united nations general assembly https t co oshhko zy https t co fm lsse',\n",
       " 'rush limbaugh to republicans you can kiss the midterms goodbye if you don t get highly qualified kavanaugh approved',\n",
       " 'thank you dr jeffress https t co cm njqh ti']"
      ]
     },
     "execution_count": 28,
     "metadata": {},
     "output_type": "execute_result"
    }
   ],
   "source": [
    "testing = df.text[:10]\n",
    "test_result = []\n",
    "for t in testing:\n",
    "    test_result.append(tweet_cleaner(t))\n",
    "test_result"
   ]
  },
  {
   "cell_type": "code",
   "execution_count": null,
   "metadata": {},
   "outputs": [],
   "source": []
  }
 ],
 "metadata": {
  "kernelspec": {
   "display_name": "Python 3",
   "language": "python",
   "name": "python3"
  },
  "language_info": {
   "codemirror_mode": {
    "name": "ipython",
    "version": 3
   },
   "file_extension": ".py",
   "mimetype": "text/x-python",
   "name": "python",
   "nbconvert_exporter": "python",
   "pygments_lexer": "ipython3",
   "version": "3.6.5"
  }
 },
 "nbformat": 4,
 "nbformat_minor": 2
}
