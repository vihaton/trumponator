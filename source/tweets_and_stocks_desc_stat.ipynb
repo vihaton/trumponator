{
 "cells": [
  {
   "cell_type": "code",
   "execution_count": 1,
   "metadata": {},
   "outputs": [],
   "source": [
    "import pandas as pd\n",
    "import numpy as np\n",
    "from datetime import datetime\n",
    "from collections import Counter\n",
    "from sklearn.feature_extraction.text import TfidfVectorizer\n",
    "import matplotlib.pyplot as plt\n",
    "import textwrap\n",
    "from scipy.stats import trim_mean, kurtosis\n",
    "from scipy.stats.mstats import mode, gmean, hmean\n",
    "import seaborn as sns\n",
    "from matplotlib import pyplot\n",
    "import scipy.stats as stats\n",
    "from scipy.stats import chi2_contingency\n",
    "from scipy.stats import spearmanr\n",
    "from scipy.stats import pearsonr\n",
    "from scipy.stats import kendalltau\n",
    "import math\n",
    "\n",
    "#parameters for selecting data: type in the start date, the latest available date in the data is the end date\n",
    "param_start_date='11/08/2016'\n",
    "#if param_period is set as after, then selecting the time period after the param_start_date\n",
    "#if param_period is set as before, then selecting the time period before the param_start_date for equal number of tweets as after the date\n",
    "#if param_period is empty then selecting all the data\n",
    "param_period=''"
   ]
  },
  {
   "cell_type": "code",
   "execution_count": 2,
   "metadata": {},
   "outputs": [
    {
     "name": "stdout",
     "output_type": "stream",
     "text": [
      "Index(['daily change', 'date', 'difference', 'orig changes', 'orig stock',\n",
      "       'predicted changes', 'prev stock', 'text', 'timestamp', 'tweet'],\n",
      "      dtype='object')\n",
      "Number of tweets:  1381\n"
     ]
    }
   ],
   "source": [
    "#read tweets and stock market data\n",
    "name_tweets = \"tweet_stock_results.json\"\n",
    "\n",
    "with open(name_tweets, \"r\") as file:\n",
    "    tweets_dfxx = pd.read_json(file, orient='index')\n",
    "print(tweets_dfxx.columns)\n",
    "\n",
    "tweets_dfxx.sort_index(inplace=True)\n",
    "tweets_dfxx = tweets_dfxx.reset_index(drop=True)\n",
    "\n",
    "#keep only the tweet data and drop empty rows\n",
    "tweets_dataframe=tweets_dfxx[tweets_dfxx[\"orig changes\"].notnull()]\n",
    "\n",
    "print(\"Number of tweets: \", len(tweets_dataframe))\n",
    "\n",
    "if param_period=='':\n",
    "    tweets_df=tweets_dataframe\n",
    "else:\n",
    "\n",
    "    #select the data sets based on the param_start_date\n",
    "    tweets_dfa=tweets_dataframe.loc[tweets_dataframe[\"timestamp\"] > datetime.strptime(param_start_date, '%m/%d/%Y')]\n",
    "    print(\"Number of tweets after the start date: \", len(tweets_dfa))\n",
    "\n",
    "    before=len(tweets_dataframe)-2*len(tweets_dfa)\n",
    "    tweets_dfb=tweets_dataframe.loc[tweets_dataframe.index>before]\n",
    "    tweets_dfb=tweets_dfb.loc[tweets_dfb[\"timestamp\"] <= datetime.strptime(param_start_date, '%m/%d/%Y')]\n",
    "    print(\"Number of tweets before the start date: \", len(tweets_dfb))\n",
    "\n",
    "    if param_period=='after':\n",
    "        tweets_df=tweets_dfa\n",
    "    if param_period=='before':\n",
    "        tweets_df=tweets_dfb    "
   ]
  },
  {
   "cell_type": "code",
   "execution_count": 3,
   "metadata": {},
   "outputs": [
    {
     "name": "stdout",
     "output_type": "stream",
     "text": [
      "283\n",
      "207\n",
      "290\n",
      "309\n",
      "138\n",
      "154\n"
     ]
    }
   ],
   "source": [
    "#partition of the data in six classes\n",
    "tweets_dfbp=tweets_df.loc[tweets_df[\"orig changes\"]=='BIGPOS']\n",
    "print(len(tweets_dfbp))\n",
    "tweets_dfbn=tweets_df.loc[tweets_df[\"orig changes\"]=='BIGNEG']\n",
    "print(len(tweets_dfbn))\n",
    "tweets_dfmp=tweets_df.loc[tweets_df[\"orig changes\"]=='MEDPOS']\n",
    "print(len(tweets_dfmp))\n",
    "tweets_dfmn=tweets_df.loc[tweets_df[\"orig changes\"]=='MEDNEG']\n",
    "print(len(tweets_dfmn))\n",
    "tweets_dfsp=tweets_df.loc[tweets_df[\"orig changes\"]=='SMAPOS']\n",
    "print(len(tweets_dfsp))\n",
    "tweets_dfsn=tweets_df.loc[tweets_df[\"orig changes\"]=='SMANEG']\n",
    "print(len(tweets_dfsn))"
   ]
  },
  {
   "cell_type": "code",
   "execution_count": 4,
   "metadata": {},
   "outputs": [],
   "source": [
    "def most_common(data,number):\n",
    "    most_common = Counter(\" \".join(data[\"text\"].dropna()).split()).most_common(number)\n",
    "    print(\"Most common words: \", most_common)\n",
    "\n",
    "\n",
    "def aggregate_tfidf(data,number):\n",
    "    # Ignore too common terms (max_df = .25)\n",
    "    v_data = TfidfVectorizer(max_df = .25)\n",
    "    X_data = v_data.fit_transform(data[\"text\"])\n",
    "\n",
    "    X_mean= X_data.mean(axis=0)\n",
    "    vec =[]\n",
    "    for i in range(len(data)):\n",
    "        vec.append(X_mean.item(i))\n",
    "\n",
    "    data['tf_idf']=pd.Series(vec, index=data.index)\n",
    "    #print(data.head())\n",
    "    \n",
    "    highest = [v_data.get_feature_names()[id] for id in (-X_data.mean(axis=0).A).argsort()[0][:number]]\n",
    "    #print(\"Highest scores: \", highest)\n",
    "\n"
   ]
  },
  {
   "cell_type": "code",
   "execution_count": 5,
   "metadata": {},
   "outputs": [
    {
     "name": "stderr",
     "output_type": "stream",
     "text": [
      "C:\\Users\\Suvi\\Anaconda3\\lib\\site-packages\\ipykernel_launcher.py:16: SettingWithCopyWarning: \n",
      "A value is trying to be set on a copy of a slice from a DataFrame.\n",
      "Try using .loc[row_indexer,col_indexer] = value instead\n",
      "\n",
      "See the caveats in the documentation: http://pandas.pydata.org/pandas-docs/stable/indexing.html#indexing-view-versus-copy\n",
      "  app.launch_new_instance()\n"
     ]
    }
   ],
   "source": [
    "#print most common x words\n",
    "#most_common(tweets_dfbp,20)\n",
    "\n",
    "#aggregate TF/IDF for sentence vector and print most common x words\n",
    "aggregate_tfidf(tweets_dfbp,20)\n",
    "aggregate_tfidf(tweets_dfbn,20)\n",
    "aggregate_tfidf(tweets_dfmp,20)\n",
    "aggregate_tfidf(tweets_dfmn,20)\n",
    "aggregate_tfidf(tweets_dfsp,20)\n",
    "aggregate_tfidf(tweets_dfsn,20)\n"
   ]
  },
  {
   "cell_type": "code",
   "execution_count": 6,
   "metadata": {},
   "outputs": [
    {
     "name": "stdout",
     "output_type": "stream",
     "text": [
      "490\n",
      "599\n",
      "292\n",
      "1089\n",
      "1381\n",
      "      daily change       date  difference orig changes  orig stock  \\\n",
      "3885      113.3106 2015-06-15         0.0       MEDPOS  17791.1699   \n",
      "3886      113.3106 2015-06-15         1.0       MEDPOS  17791.1699   \n",
      "3887      113.3106 2015-06-15         1.0       MEDPOS  17791.1699   \n",
      "3888       31.2597 2015-06-16         0.0       MEDPOS  17904.4805   \n",
      "3889       31.2597 2015-06-16         1.0       MEDPOS  17904.4805   \n",
      "\n",
      "     predicted changes  prev stock  \\\n",
      "3885            MEDNEG  17898.8398   \n",
      "3886            MEDPOS  17898.8398   \n",
      "3887            MEDPOS  17898.8398   \n",
      "3888            MEDNEG  17791.1699   \n",
      "3889            MEDPOS  17791.1699   \n",
      "\n",
      "                                                   text           timestamp  \\\n",
      "3885  https https i d vote twice for you if i could ... 2015-06-15 11:30:53   \n",
      "3886         tomorrow at am makeamericagreatagain https 2015-06-15 14:28:43   \n",
      "3887                                       thanks https 2015-06-15 16:30:03   \n",
      "3888  https https no amercian really can impact such... 2015-06-16 07:29:11   \n",
      "3889  i am officially running for president of the u... 2015-06-16 15:57:23   \n",
      "\n",
      "                                                  tweet    tf_idf  \n",
      "3885  \"@FuturisticHub: @realDonaldTrump I'd vote twi...  0.000951  \n",
      "3886  Tomorrow at 11AM #MakeAmericaGreatAgain https:...  0.001026  \n",
      "3887                   Thanks.  https://t.co/qh8TxiZPlX  0.000927  \n",
      "3888  \"@PianoBecca: @realDonaldTrump No Amercian, re...  0.006336  \n",
      "3889  I am officially running for President of the U...  0.001455  \n"
     ]
    }
   ],
   "source": [
    "tweets_dfb=tweets_dfbp.append(tweets_dfbn)\n",
    "print(len(tweets_dfb))\n",
    "tweets_dfm=tweets_dfmp.append(tweets_dfmn)\n",
    "print(len(tweets_dfm))\n",
    "tweets_dfs=tweets_dfsp.append(tweets_dfsn)\n",
    "print(len(tweets_dfs))\n",
    "tweets_dfbm=tweets_dfb.append(tweets_dfm)\n",
    "print(len(tweets_dfbm))\n",
    "tweets_dfbms=tweets_dfbm.append(tweets_dfs)\n",
    "print(len(tweets_dfbms))\n",
    "tweets_dfbms.sort_index(inplace=True)\n",
    "print(tweets_dfbms.head())"
   ]
  },
  {
   "cell_type": "code",
   "execution_count": 7,
   "metadata": {},
   "outputs": [
    {
     "data": {
      "text/html": [
       "<div>\n",
       "<style scoped>\n",
       "    .dataframe tbody tr th:only-of-type {\n",
       "        vertical-align: middle;\n",
       "    }\n",
       "\n",
       "    .dataframe tbody tr th {\n",
       "        vertical-align: top;\n",
       "    }\n",
       "\n",
       "    .dataframe thead th {\n",
       "        text-align: right;\n",
       "    }\n",
       "</style>\n",
       "<table border=\"1\" class=\"dataframe\">\n",
       "  <thead>\n",
       "    <tr style=\"text-align: right;\">\n",
       "      <th></th>\n",
       "      <th>orig changes</th>\n",
       "      <th>median</th>\n",
       "      <th>std</th>\n",
       "      <th>mean</th>\n",
       "      <th>amin</th>\n",
       "      <th>amax</th>\n",
       "    </tr>\n",
       "  </thead>\n",
       "  <tbody>\n",
       "    <tr>\n",
       "      <th>0</th>\n",
       "      <td>BIGNEG</td>\n",
       "      <td>17910.33010</td>\n",
       "      <td>3565.195180</td>\n",
       "      <td>19706.576553</td>\n",
       "      <td>15871.3496</td>\n",
       "      <td>26743.5000</td>\n",
       "    </tr>\n",
       "    <tr>\n",
       "      <th>1</th>\n",
       "      <td>BIGPOS</td>\n",
       "      <td>17619.50980</td>\n",
       "      <td>3520.708994</td>\n",
       "      <td>19416.034615</td>\n",
       "      <td>15660.1797</td>\n",
       "      <td>26405.7598</td>\n",
       "    </tr>\n",
       "    <tr>\n",
       "      <th>2</th>\n",
       "      <td>MEDNEG</td>\n",
       "      <td>18223.02930</td>\n",
       "      <td>2956.903471</td>\n",
       "      <td>19907.156937</td>\n",
       "      <td>16014.3799</td>\n",
       "      <td>26562.0508</td>\n",
       "    </tr>\n",
       "    <tr>\n",
       "      <th>3</th>\n",
       "      <td>MEDPOS</td>\n",
       "      <td>18538.12015</td>\n",
       "      <td>3134.742799</td>\n",
       "      <td>20298.227451</td>\n",
       "      <td>15766.7402</td>\n",
       "      <td>26656.9805</td>\n",
       "    </tr>\n",
       "    <tr>\n",
       "      <th>4</th>\n",
       "      <td>SMANEG</td>\n",
       "      <td>18162.34960</td>\n",
       "      <td>2600.894231</td>\n",
       "      <td>19312.942647</td>\n",
       "      <td>16027.0498</td>\n",
       "      <td>26214.5996</td>\n",
       "    </tr>\n",
       "    <tr>\n",
       "      <th>5</th>\n",
       "      <td>SMAPOS</td>\n",
       "      <td>18128.66020</td>\n",
       "      <td>2750.987928</td>\n",
       "      <td>19809.453216</td>\n",
       "      <td>16351.3799</td>\n",
       "      <td>26145.9902</td>\n",
       "    </tr>\n",
       "  </tbody>\n",
       "</table>\n",
       "</div>"
      ],
      "text/plain": [
       "  orig changes       median          std          mean        amin        amax\n",
       "0       BIGNEG  17910.33010  3565.195180  19706.576553  15871.3496  26743.5000\n",
       "1       BIGPOS  17619.50980  3520.708994  19416.034615  15660.1797  26405.7598\n",
       "2       MEDNEG  18223.02930  2956.903471  19907.156937  16014.3799  26562.0508\n",
       "3       MEDPOS  18538.12015  3134.742799  20298.227451  15766.7402  26656.9805\n",
       "4       SMANEG  18162.34960  2600.894231  19312.942647  16027.0498  26214.5996\n",
       "5       SMAPOS  18128.66020  2750.987928  19809.453216  16351.3799  26145.9902"
      ]
     },
     "execution_count": 7,
     "metadata": {},
     "output_type": "execute_result"
    }
   ],
   "source": [
    "#descriptive statistics\n",
    "\n",
    "\n",
    "#stats for stock market data in predicted and original classes - not very informative\n",
    "grouped_data = tweets_df.groupby(['orig changes']) #try adding 'predicted changes'\n",
    "grouped_data['orig stock'].apply(mode, axis=None).reset_index()\n",
    "descr = grouped_data['orig stock'].aggregate([np.median, np.std, np.mean, np.min, np.max]).reset_index()\n",
    "descr"
   ]
  },
  {
   "cell_type": "code",
   "execution_count": 8,
   "metadata": {},
   "outputs": [
    {
     "data": {
      "text/html": [
       "<div>\n",
       "<style scoped>\n",
       "    .dataframe tbody tr th:only-of-type {\n",
       "        vertical-align: middle;\n",
       "    }\n",
       "\n",
       "    .dataframe tbody tr th {\n",
       "        vertical-align: top;\n",
       "    }\n",
       "\n",
       "    .dataframe thead th {\n",
       "        text-align: right;\n",
       "    }\n",
       "</style>\n",
       "<table border=\"1\" class=\"dataframe\">\n",
       "  <thead>\n",
       "    <tr style=\"text-align: right;\">\n",
       "      <th></th>\n",
       "      <th>orig changes</th>\n",
       "      <th>median</th>\n",
       "      <th>std</th>\n",
       "      <th>mean</th>\n",
       "      <th>amin</th>\n",
       "      <th>amax</th>\n",
       "    </tr>\n",
       "  </thead>\n",
       "  <tbody>\n",
       "    <tr>\n",
       "      <th>0</th>\n",
       "      <td>BIGNEG</td>\n",
       "      <td>0.001574</td>\n",
       "      <td>0.003166</td>\n",
       "      <td>0.002812</td>\n",
       "      <td>0.000934</td>\n",
       "      <td>0.020716</td>\n",
       "    </tr>\n",
       "    <tr>\n",
       "      <th>1</th>\n",
       "      <td>BIGPOS</td>\n",
       "      <td>0.001145</td>\n",
       "      <td>0.003366</td>\n",
       "      <td>0.002285</td>\n",
       "      <td>0.000799</td>\n",
       "      <td>0.030849</td>\n",
       "    </tr>\n",
       "    <tr>\n",
       "      <th>2</th>\n",
       "      <td>MEDNEG</td>\n",
       "      <td>0.001014</td>\n",
       "      <td>0.003200</td>\n",
       "      <td>0.002101</td>\n",
       "      <td>0.000777</td>\n",
       "      <td>0.031185</td>\n",
       "    </tr>\n",
       "    <tr>\n",
       "      <th>3</th>\n",
       "      <td>MEDPOS</td>\n",
       "      <td>0.001148</td>\n",
       "      <td>0.002676</td>\n",
       "      <td>0.002120</td>\n",
       "      <td>0.000795</td>\n",
       "      <td>0.024046</td>\n",
       "    </tr>\n",
       "    <tr>\n",
       "      <th>4</th>\n",
       "      <td>SMANEG</td>\n",
       "      <td>0.002128</td>\n",
       "      <td>0.004762</td>\n",
       "      <td>0.003891</td>\n",
       "      <td>0.001442</td>\n",
       "      <td>0.035326</td>\n",
       "    </tr>\n",
       "    <tr>\n",
       "      <th>5</th>\n",
       "      <td>SMAPOS</td>\n",
       "      <td>0.002225</td>\n",
       "      <td>0.003680</td>\n",
       "      <td>0.003839</td>\n",
       "      <td>0.001588</td>\n",
       "      <td>0.022126</td>\n",
       "    </tr>\n",
       "  </tbody>\n",
       "</table>\n",
       "</div>"
      ],
      "text/plain": [
       "  orig changes    median       std      mean      amin      amax\n",
       "0       BIGNEG  0.001574  0.003166  0.002812  0.000934  0.020716\n",
       "1       BIGPOS  0.001145  0.003366  0.002285  0.000799  0.030849\n",
       "2       MEDNEG  0.001014  0.003200  0.002101  0.000777  0.031185\n",
       "3       MEDPOS  0.001148  0.002676  0.002120  0.000795  0.024046\n",
       "4       SMANEG  0.002128  0.004762  0.003891  0.001442  0.035326\n",
       "5       SMAPOS  0.002225  0.003680  0.003839  0.001588  0.022126"
      ]
     },
     "execution_count": 8,
     "metadata": {},
     "output_type": "execute_result"
    }
   ],
   "source": [
    "#stats for TF/IDF-scores in predicted and original classes \n",
    "grouped_data = tweets_dfbms.groupby(['orig changes']) #try adding 'predicted changes'\n",
    "grouped_data['tf_idf'].apply(mode, axis=None).reset_index()\n",
    "descr = grouped_data['tf_idf'].aggregate([np.median, np.std, np.mean, np.min, np.max]).reset_index()\n",
    "descr"
   ]
  },
  {
   "cell_type": "code",
   "execution_count": 9,
   "metadata": {},
   "outputs": [
    {
     "data": {
      "text/plain": [
       "<matplotlib.axes._subplots.AxesSubplot at 0x20cc070ed30>"
      ]
     },
     "execution_count": 9,
     "metadata": {},
     "output_type": "execute_result"
    },
    {
     "data": {
      "image/png": "[encoded data removed]",
      "text/plain": [
       "<Figure size 432x288 with 1 Axes>"
      ]
     },
     "metadata": {},
     "output_type": "display_data"
    }
   ],
   "source": [
    "#distribution of TF/IDF scores within original stock market classes\n",
    "sns.boxplot(x=\"orig changes\", y=\"tf_idf\", data=tweets_dfbms)"
   ]
  },
  {
   "cell_type": "code",
   "execution_count": 10,
   "metadata": {},
   "outputs": [
    {
     "name": "stderr",
     "output_type": "stream",
     "text": [
      "C:\\Users\\Suvi\\Anaconda3\\lib\\site-packages\\matplotlib\\axes\\_axes.py:6462: UserWarning: The 'normed' kwarg is deprecated, and has been replaced by the 'density' kwarg.\n",
      "  warnings.warn(\"The 'normed' kwarg is deprecated, and has been \"\n"
     ]
    },
    {
     "data": {
      "text/plain": [
       "<matplotlib.axes._subplots.AxesSubplot at 0x20cc067ef60>"
      ]
     },
     "execution_count": 10,
     "metadata": {},
     "output_type": "execute_result"
    },
    {
     "data": {
      "image/png": "[encoded data removed]",
      "text/plain": [
       "<Figure size 432x288 with 1 Axes>"
      ]
     },
     "metadata": {},
     "output_type": "display_data"
    }
   ],
   "source": [
    "# Density Plot and Histogram of TF/IDF scores -not Gaussian\n",
    "sns.distplot(tweets_dfbms['tf_idf'], hist=True, kde=True, \n",
    "             bins=int(180/5), color = 'darkblue', \n",
    "             hist_kws={'edgecolor':'black'},\n",
    "             kde_kws={'linewidth': 4})"
   ]
  },
  {
   "cell_type": "code",
   "execution_count": 11,
   "metadata": {},
   "outputs": [
    {
     "name": "stderr",
     "output_type": "stream",
     "text": [
      "C:\\Users\\Suvi\\Anaconda3\\lib\\site-packages\\matplotlib\\axes\\_axes.py:6462: UserWarning: The 'normed' kwarg is deprecated, and has been replaced by the 'density' kwarg.\n",
      "  warnings.warn(\"The 'normed' kwarg is deprecated, and has been \"\n"
     ]
    },
    {
     "data": {
      "text/plain": [
       "<matplotlib.axes._subplots.AxesSubplot at 0x20cc0628d68>"
      ]
     },
     "execution_count": 11,
     "metadata": {},
     "output_type": "execute_result"
    },
    {
     "data": {
      "image/png": "[encoded data removed]",
      "text/plain": [
       "<Figure size 432x288 with 1 Axes>"
      ]
     },
     "metadata": {},
     "output_type": "display_data"
    }
   ],
   "source": [
    "# Density Plot and Histogram of daily change -clearly Gaussian, normally distributed\n",
    "sns.distplot(tweets_dfbms['daily change'], hist=True, kde=True, \n",
    "             bins=int(180/5), color = 'darkblue', \n",
    "             hist_kws={'edgecolor':'black'},\n",
    "             kde_kws={'linewidth': 4})"
   ]
  },
  {
   "cell_type": "code",
   "execution_count": 12,
   "metadata": {},
   "outputs": [
    {
     "data": {
      "image/png": "[encoded data removed]",
      "text/plain": [
       "<Figure size 432x288 with 1 Axes>"
      ]
     },
     "metadata": {},
     "output_type": "display_data"
    }
   ],
   "source": [
    "# plotting the data\n",
    "pyplot.scatter(tweets_dfbms['tf_idf'],tweets_dfbms['daily change'])\n",
    "pyplot.xlabel('tf_idf', fontweight='bold', color = 'black', fontsize='10', horizontalalignment='center')\n",
    "pyplot.ylabel('Stock market daily change', fontweight='bold', color = 'black', fontsize='10', verticalalignment='center')\n",
    "pyplot.show()"
   ]
  },
  {
   "cell_type": "code",
   "execution_count": 13,
   "metadata": {},
   "outputs": [
    {
     "name": "stdout",
     "output_type": "stream",
     "text": [
      "Test method                 \t Corr coefficient \t p-value \t Results\n",
      "-----------------------------------------------------------------------------------------------\n",
      "Spearmans correlation test \t -0.09           \t 0.001         \t Samples are correlated\n",
      "Kendalltau correlation test \t -0.06           \t 0.001         \t Samples are correlated\n",
      "Pearsons correlation test \t -0.04           \t 0.145         \t Samples are uncorrelated\n"
     ]
    }
   ],
   "source": [
    "#Test of independency for two variables\n",
    "#Spearman's and Kendall's Tau Correlation tests can be done also for non-normally distributed variables\n",
    "#Pearson's correlation is reliable only for normally distributed variables\n",
    "#if the p-value is much lower than 0.05, we reject the null hypothesis \n",
    "#and conclude that there is a statistically significant correlation\n",
    "\n",
    "# calculate the correlation between two variables\n",
    "def correlation_test(data1, data2, alpha):\n",
    "    coef1, p_value1 = spearmanr(data1, data2)\n",
    "    coef2, p_value2 = kendalltau(data1, data2)\n",
    "    coef3, p_value3 = pearsonr(data1, data2)\n",
    "    test=[['Spearmans correlation test',coef1,p_value1], ['Kendalltau correlation test',coef2,p_value2], \n",
    "          ['Pearsons correlation test',coef3,p_value3]]\n",
    "    \n",
    "    print(\"Test method                \", '\\t', \"Corr coefficient\", '\\t', \"p-value\", '\\t', \"Results\")\n",
    "    print(\"-----------------------------------------------------------------------------------------------\")\n",
    "    \n",
    "    for value in test:\n",
    "        #print(value[0], 'correlation coefficient: %.3f' % value[1])\n",
    "\n",
    "        # interpret the significance\n",
    "        if value[2] > alpha:\n",
    "            #print('Samples are uncorrelated (fail to reject H0) p=%.3f' % value[2])\n",
    "            result='Samples are uncorrelated'\n",
    "\n",
    "        else:\n",
    "            #print('Samples are correlated (reject H0) p=%.3f' % value[2])\n",
    "            result='Samples are correlated'\n",
    "        \n",
    "        print(value[0] , '\\t', \"%.2f\" % value[1], '         ', '\\t', \"%.3f\" % value[2], '       ', '\\t', result)\n",
    "          \n",
    "\n",
    "correlation_test(tweets_dfbms['tf_idf'],tweets_dfbms['daily change'], 0.05)  \n"
   ]
  },
  {
   "cell_type": "code",
   "execution_count": 14,
   "metadata": {},
   "outputs": [
    {
     "data": {
      "image/png": "[encoded data removed]",
      "text/plain": [
       "<Figure size 432x288 with 2 Axes>"
      ]
     },
     "metadata": {},
     "output_type": "display_data"
    }
   ],
   "source": [
    "import matplotlib.pyplot as plt\n",
    "import numpy as np\n",
    "import pandas as pd\n",
    "\n",
    "width = .6\n",
    "\n",
    "m1_t = pd.DataFrame({\n",
    " 'tweets yearly': [3829,0,0,0,0,0,0,0,0,0,0,0,4460,0,0,0,0,0,0,0,0,0,0,0,4905,0,0,0,0,0,0,0,0,0,0,0,2454,0,0,0],\n",
    " 'tweets monthly': [318,790,355,409,790,576,591,492,494,441,284,351,303,378,\n",
    "               325,296,530,290,276,428,308,294,304,310,424,490,534,640,650,\n",
    "               327,196,203,174,166,245,254,372,324,363,353]})\n",
    "\n",
    "m1_t[['tweets yearly']].plot(kind='bar', width = width)\n",
    "m1_t['tweets monthly'].plot(color='red',secondary_y=True)\n",
    "plt.ylabel('Number of tweets monthly')\n",
    "\n",
    "ax = plt.gca()\n",
    "plt.xlim([-width, len(m1_t['tweets yearly'])-width])\n",
    "ax.set_xticklabels((2015,'','','','','','','','','','','',2016,'','','','','','','','','','','',2017,\n",
    "                    '','','','','','','','','','','',2018,'','','')\n",
    ")\n",
    "plt.show()"
   ]
  }
 ],
 "metadata": {
  "kernelspec": {
   "display_name": "Python 3",
   "language": "python",
   "name": "python3"
  },
  "language_info": {
   "codemirror_mode": {
    "name": "ipython",
    "version": 3
   },
   "file_extension": ".py",
   "mimetype": "text/x-python",
   "name": "python",
   "nbconvert_exporter": "python",
   "pygments_lexer": "ipython3",
   "version": "3.6.4"
  }
 },
 "nbformat": 4,
 "nbformat_minor": 2
}
