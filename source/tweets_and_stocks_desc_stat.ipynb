{
 "cells": [
  {
   "cell_type": "code",
   "execution_count": 1,
   "metadata": {},
   "outputs": [],
   "source": [
    "import pandas as pd\n",
    "import numpy as np\n",
    "from datetime import datetime\n",
    "from collections import Counter\n",
    "from sklearn.feature_extraction.text import TfidfVectorizer\n",
    "import matplotlib.pyplot as plt\n",
    "import textwrap\n",
    "from scipy.stats import trim_mean, kurtosis\n",
    "from scipy.stats.mstats import mode, gmean, hmean\n",
    "import seaborn as sns\n",
    "from matplotlib import pyplot\n",
    "import scipy.stats as stats\n",
    "from scipy.stats import chi2_contingency\n",
    "from scipy.stats import spearmanr\n",
    "from scipy.stats import pearsonr\n",
    "from scipy.stats import kendalltau\n",
    "import math\n",
    "\n",
    "#parameters for selecting data: type in the start date, the latest available date in the data is the end date\n",
    "param_start_date='11/08/2016'\n",
    "#if param_period is set as after, then selecting the time period after the param_start_date\n",
    "#if param_period is set as before, then selecting the time period before the param_start_date for equal number of tweets as after the date\n",
    "#if param_period is empty then selecting all the data\n",
    "param_period=''"
   ]
  },
  {
   "cell_type": "code",
   "execution_count": 2,
   "metadata": {},
   "outputs": [
    {
     "name": "stdout",
     "output_type": "stream",
     "text": [
      "Index(['daily change', 'date', 'difference', 'orig changes', 'orig stock',\n",
      "       'predicted changes', 'prev stock', 'text', 'timestamp', 'tweet'],\n",
      "      dtype='object')\n",
      "Number of tweets:  1685\n"
     ]
    }
   ],
   "source": [
    "#read tweets and stock market data\n",
    "name_tweets = \"tweet_stock_results.json\"\n",
    "\n",
    "with open(name_tweets, \"r\") as file:\n",
    "    tweets_dfxx = pd.read_json(file, orient='index')\n",
    "print(tweets_dfxx.columns)\n",
    "\n",
    "tweets_dfxx.sort_index(inplace=True)\n",
    "tweets_dfxx = tweets_dfxx.reset_index(drop=True)\n",
    "\n",
    "#keep only the tweet data and drop empty rows\n",
    "tweets_dataframe=tweets_dfxx[tweets_dfxx[\"orig changes\"].notnull()]\n",
    "\n",
    "print(\"Number of tweets: \", len(tweets_dataframe))\n",
    "\n",
    "if param_period=='':\n",
    "    tweets_df=tweets_dataframe\n",
    "else:\n",
    "\n",
    "    #select the data sets based on the param_start_date\n",
    "    tweets_dfa=tweets_dataframe.loc[tweets_dataframe[\"timestamp\"] > datetime.strptime(param_start_date, '%m/%d/%Y')]\n",
    "    print(\"Number of tweets after the start date: \", len(tweets_dfa))\n",
    "\n",
    "    before=len(tweets_dataframe)-2*len(tweets_dfa)\n",
    "    tweets_dfb=tweets_dataframe.loc[tweets_dataframe.index>before]\n",
    "    tweets_dfb=tweets_dfb.loc[tweets_dfb[\"timestamp\"] <= datetime.strptime(param_start_date, '%m/%d/%Y')]\n",
    "    print(\"Number of tweets before the start date: \", len(tweets_dfb))\n",
    "\n",
    "    if param_period=='after':\n",
    "        tweets_df=tweets_dfa\n",
    "    if param_period=='before':\n",
    "        tweets_df=tweets_dfb    "
   ]
  },
  {
   "cell_type": "code",
   "execution_count": 3,
   "metadata": {},
   "outputs": [
    {
     "name": "stdout",
     "output_type": "stream",
     "text": [
      "294\n",
      "207\n",
      "422\n",
      "395\n",
      "159\n",
      "208\n"
     ]
    }
   ],
   "source": [
    "#partition of the data in six classes\n",
    "tweets_dfbp=tweets_df.loc[tweets_df[\"orig changes\"]=='BIGPOS']\n",
    "print(len(tweets_dfbp))\n",
    "tweets_dfbn=tweets_df.loc[tweets_df[\"orig changes\"]=='BIGNEG']\n",
    "print(len(tweets_dfbn))\n",
    "tweets_dfmp=tweets_df.loc[tweets_df[\"orig changes\"]=='MEDPOS']\n",
    "print(len(tweets_dfmp))\n",
    "tweets_dfmn=tweets_df.loc[tweets_df[\"orig changes\"]=='MEDNEG']\n",
    "print(len(tweets_dfmn))\n",
    "tweets_dfsp=tweets_df.loc[tweets_df[\"orig changes\"]=='SMAPOS']\n",
    "print(len(tweets_dfsp))\n",
    "tweets_dfsn=tweets_df.loc[tweets_df[\"orig changes\"]=='SMANEG']\n",
    "print(len(tweets_dfsn))"
   ]
  },
  {
   "cell_type": "code",
   "execution_count": 4,
   "metadata": {},
   "outputs": [],
   "source": [
    "def most_common(data,number):\n",
    "    most_common = Counter(\" \".join(data[\"text\"].dropna()).split()).most_common(number)\n",
    "    print(\"Most common words: \", most_common)\n",
    "\n",
    "\n",
    "def aggregate_tfidf(data,number):\n",
    "    # Ignore too common terms (max_df = .25)\n",
    "    v_data = TfidfVectorizer(max_df = .25)\n",
    "    X_data = v_data.fit_transform(data[\"text\"])\n",
    "\n",
    "    X_mean= X_data.mean(axis=0)\n",
    "    vec =[]\n",
    "    for i in range(len(data)):\n",
    "        vec.append(X_mean.item(i))\n",
    "\n",
    "    data['tf_idf']=pd.Series(vec, index=data.index)\n",
    "    #print(data.head())\n",
    "    \n",
    "    highest = [v_data.get_feature_names()[id] for id in (-X_data.mean(axis=0).A).argsort()[0][:number]]\n",
    "    #print(\"Highest scores: \", highest)\n",
    "\n"
   ]
  },
  {
   "cell_type": "code",
   "execution_count": 5,
   "metadata": {},
   "outputs": [
    {
     "name": "stderr",
     "output_type": "stream",
     "text": [
      "C:\\Users\\Suvi\\Anaconda3\\lib\\site-packages\\ipykernel_launcher.py:16: SettingWithCopyWarning: \n",
      "A value is trying to be set on a copy of a slice from a DataFrame.\n",
      "Try using .loc[row_indexer,col_indexer] = value instead\n",
      "\n",
      "See the caveats in the documentation: http://pandas.pydata.org/pandas-docs/stable/indexing.html#indexing-view-versus-copy\n",
      "  app.launch_new_instance()\n"
     ]
    }
   ],
   "source": [
    "#print most common x words\n",
    "#most_common(tweets_dfbp,20)\n",
    "\n",
    "#aggregate TF/IDF for sentence vector and print most common x words\n",
    "aggregate_tfidf(tweets_dfbp,20)\n",
    "aggregate_tfidf(tweets_dfbn,20)\n",
    "aggregate_tfidf(tweets_dfmp,20)\n",
    "aggregate_tfidf(tweets_dfmn,20)\n",
    "aggregate_tfidf(tweets_dfsp,20)\n",
    "aggregate_tfidf(tweets_dfsn,20)\n"
   ]
  },
  {
   "cell_type": "code",
   "execution_count": 6,
   "metadata": {},
   "outputs": [
    {
     "name": "stdout",
     "output_type": "stream",
     "text": [
      "501\n",
      "817\n",
      "367\n",
      "1318\n",
      "1685\n",
      "      daily change       date  difference orig changes  orig stock  \\\n",
      "3885      113.3106 2015-06-15         1.0       MEDPOS  17791.1699   \n",
      "3886      113.3106 2015-06-15         0.0       MEDPOS  17791.1699   \n",
      "3887      113.3106 2015-06-15         0.0       MEDPOS  17791.1699   \n",
      "3888      113.3106 2015-06-15         1.0       MEDPOS  17791.1699   \n",
      "3889      113.3106 2015-06-15         0.0       MEDPOS  17791.1699   \n",
      "\n",
      "     predicted changes  prev stock  \\\n",
      "3885            MEDPOS  17898.8398   \n",
      "3886            SMAPOS  17898.8398   \n",
      "3887            BIGNEG  17898.8398   \n",
      "3888            MEDPOS  17898.8398   \n",
      "3889            BIGNEG  17898.8398   \n",
      "\n",
      "                                                   text           timestamp  \\\n",
      "3885  https https i d vote twice for you if i could ... 2015-06-15 11:30:53   \n",
      "3886  https https trump time for a true leader to le... 2015-06-15 11:41:38   \n",
      "3887  https politicians are not going to get us out ... 2015-06-15 11:43:49   \n",
      "3888                            live on periscope https 2015-06-15 14:55:16   \n",
      "3889                                        great https 2015-06-15 16:43:56   \n",
      "\n",
      "                                                  tweet    tf_idf  \n",
      "3885  \"@FuturisticHub: @realDonaldTrump I'd vote twi...  0.000668  \n",
      "3886  \"@fyrftr211: @realDonaldTrump #Trump2016. Time...  0.000746  \n",
      "3887  \"@LooneyTunes002: Politicians are not going to...  0.000836  \n",
      "3888         LIVE on #Periscope https://t.co/H8lRtZBGEb  0.001458  \n",
      "3889                     Great! https://t.co/U7G3tR4nFS  0.001778  \n"
     ]
    }
   ],
   "source": [
    "tweets_dfb=tweets_dfbp.append(tweets_dfbn)\n",
    "print(len(tweets_dfb))\n",
    "tweets_dfm=tweets_dfmp.append(tweets_dfmn)\n",
    "print(len(tweets_dfm))\n",
    "tweets_dfs=tweets_dfsp.append(tweets_dfsn)\n",
    "print(len(tweets_dfs))\n",
    "tweets_dfbm=tweets_dfb.append(tweets_dfm)\n",
    "print(len(tweets_dfbm))\n",
    "tweets_dfbms=tweets_dfbm.append(tweets_dfs)\n",
    "print(len(tweets_dfbms))\n",
    "tweets_dfbms.sort_index(inplace=True)\n",
    "print(tweets_dfbms.head())"
   ]
  },
  {
   "cell_type": "code",
   "execution_count": 7,
   "metadata": {},
   "outputs": [
    {
     "name": "stdout",
     "output_type": "stream",
     "text": [
      "Predicted change is identical to the real stock market change 733\n",
      "Predicted change is not identical to the real stock market change 952\n",
      "Predicted change is not equal but the direction is the same with the real stock market change 381\n",
      "The direction of predicted change is opposite to the stock market change 571\n"
     ]
    }
   ],
   "source": [
    "tweets_dfx=tweets_df.loc[tweets_df[\"orig changes\"]!=tweets_df[\"predicted changes\"]]\n",
    "print(\"Predicted change is identical to the real stock market change\",len(tweets_df)-len(tweets_dfx))\n",
    "print(\"Predicted change is not identical to the real stock market change\",len(tweets_dfx))\n",
    "\n",
    "\n",
    "tweets_df1x=tweets_dfx.loc[(tweets_dfx[\"orig changes\"].values=='BIGPOS') | (tweets_dfx[\"orig changes\"].values=='MEDPOS') |\n",
    "                         (tweets_dfx[\"orig changes\"].values=='SMAPOS')]\n",
    "tweets_df1=tweets_df1x.loc[(tweets_df1x[\"predicted changes\"].values=='BIGPOS') | (tweets_df1x[\"predicted changes\"].values=='MEDPOS') |\n",
    "                         (tweets_df1x[\"predicted changes\"].values=='SMAPOS')]\n",
    "\n",
    "tweets_df2x=tweets_dfx.loc[(tweets_dfx[\"orig changes\"].values=='BIGNEG') | (tweets_dfx[\"orig changes\"].values=='MEDNEG') |\n",
    "                         (tweets_dfx[\"orig changes\"].values=='SMANEG')]\n",
    "tweets_df2=tweets_df2x.loc[(tweets_df2x[\"predicted changes\"].values=='BIGNEG') | (tweets_df2x[\"predicted changes\"].values=='MEDNEG') |\n",
    "                         (tweets_df2x[\"predicted changes\"].values=='SMANEG')]\n",
    "\n",
    "print(\"Predicted change is not equal but the direction is the same with the real stock market change\",len(tweets_df1)+len(tweets_df2))\n",
    "\n",
    "print(\"The direction of predicted change is opposite to the stock market change\",len(tweets_dfx)-(len(tweets_df1)+len(tweets_df2)))\n"
   ]
  },
  {
   "cell_type": "code",
   "execution_count": 8,
   "metadata": {},
   "outputs": [
    {
     "data": {
      "image/png": "[encoded data removed]",
      "text/plain": [
       "<Figure size 432x288 with 1 Axes>"
      ]
     },
     "metadata": {},
     "output_type": "display_data"
    }
   ],
   "source": [
    "# Pie chart, where the slices will be ordered and plotted counter-clockwise:\n",
    "text1=textwrap.fill('Predicted change is identical to the real stock market change', width=40)\n",
    "text2=textwrap.fill('Predicted change is not equal but the direction is the same with the real stock market change', width=50)\n",
    "text3=textwrap.fill('The direction of predicted change is opposite to the stock market change', width=50)\n",
    "labels = text1, text2, text3\n",
    "colors  = (\"green\", \"blue\", \"red\")\n",
    "sizes = [len(tweets_df)-len(tweets_dfx),len(tweets_df1)+len(tweets_df2),len(tweets_dfx)-(len(tweets_df1)+len(tweets_df2))]\n",
    "#print(len(tweets_df),len(tweets_df1), len(tweets_df2))\n",
    "\n",
    "fig1, ax1 = plt.subplots()\n",
    "ax1.pie(sizes, labels=labels, colors=colors, autopct='%1.1f%%', shadow=True, startangle=90)\n",
    "ax1.axis('equal')  # Equal aspect ratio ensures that pie is drawn as a circle.\n",
    "\n",
    "plt.show()"
   ]
  },
  {
   "cell_type": "code",
   "execution_count": 9,
   "metadata": {},
   "outputs": [
    {
     "data": {
      "text/html": [
       "<div>\n",
       "<style scoped>\n",
       "    .dataframe tbody tr th:only-of-type {\n",
       "        vertical-align: middle;\n",
       "    }\n",
       "\n",
       "    .dataframe tbody tr th {\n",
       "        vertical-align: top;\n",
       "    }\n",
       "\n",
       "    .dataframe thead th {\n",
       "        text-align: right;\n",
       "    }\n",
       "</style>\n",
       "<table border=\"1\" class=\"dataframe\">\n",
       "  <thead>\n",
       "    <tr style=\"text-align: right;\">\n",
       "      <th></th>\n",
       "      <th>orig changes</th>\n",
       "      <th>median</th>\n",
       "      <th>std</th>\n",
       "      <th>mean</th>\n",
       "      <th>amin</th>\n",
       "      <th>amax</th>\n",
       "    </tr>\n",
       "  </thead>\n",
       "  <tbody>\n",
       "    <tr>\n",
       "      <th>0</th>\n",
       "      <td>BIGNEG</td>\n",
       "      <td>17749.08980</td>\n",
       "      <td>3363.192650</td>\n",
       "      <td>19335.126438</td>\n",
       "      <td>15914.7402</td>\n",
       "      <td>26743.5000</td>\n",
       "    </tr>\n",
       "    <tr>\n",
       "      <th>1</th>\n",
       "      <td>BIGPOS</td>\n",
       "      <td>17740.83010</td>\n",
       "      <td>3597.364175</td>\n",
       "      <td>19976.542655</td>\n",
       "      <td>15660.1797</td>\n",
       "      <td>26405.7598</td>\n",
       "    </tr>\n",
       "    <tr>\n",
       "      <th>2</th>\n",
       "      <td>MEDNEG</td>\n",
       "      <td>18502.99020</td>\n",
       "      <td>2921.560010</td>\n",
       "      <td>20100.856458</td>\n",
       "      <td>16014.3799</td>\n",
       "      <td>26562.0508</td>\n",
       "    </tr>\n",
       "    <tr>\n",
       "      <th>3</th>\n",
       "      <td>MEDPOS</td>\n",
       "      <td>20896.60940</td>\n",
       "      <td>2926.116295</td>\n",
       "      <td>20688.680231</td>\n",
       "      <td>15766.7402</td>\n",
       "      <td>26656.9805</td>\n",
       "    </tr>\n",
       "    <tr>\n",
       "      <th>4</th>\n",
       "      <td>SMANEG</td>\n",
       "      <td>19890.96975</td>\n",
       "      <td>2524.382521</td>\n",
       "      <td>20181.044877</td>\n",
       "      <td>16027.0498</td>\n",
       "      <td>26214.5996</td>\n",
       "    </tr>\n",
       "    <tr>\n",
       "      <th>5</th>\n",
       "      <td>SMAPOS</td>\n",
       "      <td>20611.85940</td>\n",
       "      <td>2822.631892</td>\n",
       "      <td>20512.299729</td>\n",
       "      <td>15988.0801</td>\n",
       "      <td>26145.9902</td>\n",
       "    </tr>\n",
       "  </tbody>\n",
       "</table>\n",
       "</div>"
      ],
      "text/plain": [
       "  orig changes       median          std          mean        amin        amax\n",
       "0       BIGNEG  17749.08980  3363.192650  19335.126438  15914.7402  26743.5000\n",
       "1       BIGPOS  17740.83010  3597.364175  19976.542655  15660.1797  26405.7598\n",
       "2       MEDNEG  18502.99020  2921.560010  20100.856458  16014.3799  26562.0508\n",
       "3       MEDPOS  20896.60940  2926.116295  20688.680231  15766.7402  26656.9805\n",
       "4       SMANEG  19890.96975  2524.382521  20181.044877  16027.0498  26214.5996\n",
       "5       SMAPOS  20611.85940  2822.631892  20512.299729  15988.0801  26145.9902"
      ]
     },
     "execution_count": 9,
     "metadata": {},
     "output_type": "execute_result"
    }
   ],
   "source": [
    "#descriptive statistics\n",
    "\n",
    "\n",
    "#stats for stock market data in predicted and original classes - not very informative\n",
    "grouped_data = tweets_df.groupby(['orig changes']) #try adding 'predicted changes'\n",
    "grouped_data['orig stock'].apply(mode, axis=None).reset_index()\n",
    "descr = grouped_data['orig stock'].aggregate([np.median, np.std, np.mean, np.min, np.max]).reset_index()\n",
    "descr"
   ]
  },
  {
   "cell_type": "code",
   "execution_count": 10,
   "metadata": {},
   "outputs": [
    {
     "data": {
      "text/html": [
       "<div>\n",
       "<style scoped>\n",
       "    .dataframe tbody tr th:only-of-type {\n",
       "        vertical-align: middle;\n",
       "    }\n",
       "\n",
       "    .dataframe tbody tr th {\n",
       "        vertical-align: top;\n",
       "    }\n",
       "\n",
       "    .dataframe thead th {\n",
       "        text-align: right;\n",
       "    }\n",
       "</style>\n",
       "<table border=\"1\" class=\"dataframe\">\n",
       "  <thead>\n",
       "    <tr style=\"text-align: right;\">\n",
       "      <th></th>\n",
       "      <th>orig changes</th>\n",
       "      <th>median</th>\n",
       "      <th>std</th>\n",
       "      <th>mean</th>\n",
       "      <th>amin</th>\n",
       "      <th>amax</th>\n",
       "    </tr>\n",
       "  </thead>\n",
       "  <tbody>\n",
       "    <tr>\n",
       "      <th>0</th>\n",
       "      <td>BIGNEG</td>\n",
       "      <td>0.001590</td>\n",
       "      <td>0.004487</td>\n",
       "      <td>0.003113</td>\n",
       "      <td>0.001116</td>\n",
       "      <td>0.036860</td>\n",
       "    </tr>\n",
       "    <tr>\n",
       "      <th>1</th>\n",
       "      <td>BIGPOS</td>\n",
       "      <td>0.001125</td>\n",
       "      <td>0.002593</td>\n",
       "      <td>0.002090</td>\n",
       "      <td>0.000801</td>\n",
       "      <td>0.020798</td>\n",
       "    </tr>\n",
       "    <tr>\n",
       "      <th>2</th>\n",
       "      <td>MEDNEG</td>\n",
       "      <td>0.000871</td>\n",
       "      <td>0.002353</td>\n",
       "      <td>0.001729</td>\n",
       "      <td>0.000592</td>\n",
       "      <td>0.021138</td>\n",
       "    </tr>\n",
       "    <tr>\n",
       "      <th>3</th>\n",
       "      <td>MEDPOS</td>\n",
       "      <td>0.000836</td>\n",
       "      <td>0.002463</td>\n",
       "      <td>0.001669</td>\n",
       "      <td>0.000584</td>\n",
       "      <td>0.020161</td>\n",
       "    </tr>\n",
       "    <tr>\n",
       "      <th>4</th>\n",
       "      <td>SMANEG</td>\n",
       "      <td>0.001507</td>\n",
       "      <td>0.003319</td>\n",
       "      <td>0.002824</td>\n",
       "      <td>0.001093</td>\n",
       "      <td>0.021234</td>\n",
       "    </tr>\n",
       "    <tr>\n",
       "      <th>5</th>\n",
       "      <td>SMAPOS</td>\n",
       "      <td>0.001825</td>\n",
       "      <td>0.003259</td>\n",
       "      <td>0.003213</td>\n",
       "      <td>0.001389</td>\n",
       "      <td>0.024217</td>\n",
       "    </tr>\n",
       "  </tbody>\n",
       "</table>\n",
       "</div>"
      ],
      "text/plain": [
       "  orig changes    median       std      mean      amin      amax\n",
       "0       BIGNEG  0.001590  0.004487  0.003113  0.001116  0.036860\n",
       "1       BIGPOS  0.001125  0.002593  0.002090  0.000801  0.020798\n",
       "2       MEDNEG  0.000871  0.002353  0.001729  0.000592  0.021138\n",
       "3       MEDPOS  0.000836  0.002463  0.001669  0.000584  0.020161\n",
       "4       SMANEG  0.001507  0.003319  0.002824  0.001093  0.021234\n",
       "5       SMAPOS  0.001825  0.003259  0.003213  0.001389  0.024217"
      ]
     },
     "execution_count": 10,
     "metadata": {},
     "output_type": "execute_result"
    }
   ],
   "source": [
    "#stats for TF/IDF-scores in predicted and original classes \n",
    "grouped_data = tweets_dfbms.groupby(['orig changes']) #try adding 'predicted changes'\n",
    "grouped_data['tf_idf'].apply(mode, axis=None).reset_index()\n",
    "descr = grouped_data['tf_idf'].aggregate([np.median, np.std, np.mean, np.min, np.max]).reset_index()\n",
    "descr"
   ]
  },
  {
   "cell_type": "code",
   "execution_count": 11,
   "metadata": {
    "scrolled": true
   },
   "outputs": [
    {
     "data": {
      "text/html": [
       "<div>\n",
       "<style scoped>\n",
       "    .dataframe tbody tr th:only-of-type {\n",
       "        vertical-align: middle;\n",
       "    }\n",
       "\n",
       "    .dataframe tbody tr th {\n",
       "        vertical-align: top;\n",
       "    }\n",
       "\n",
       "    .dataframe thead th {\n",
       "        text-align: right;\n",
       "    }\n",
       "</style>\n",
       "<table border=\"1\" class=\"dataframe\">\n",
       "  <thead>\n",
       "    <tr style=\"text-align: right;\">\n",
       "      <th>predicted changes</th>\n",
       "      <th>BIGNEG</th>\n",
       "      <th>BIGPOS</th>\n",
       "      <th>MEDNEG</th>\n",
       "      <th>MEDPOS</th>\n",
       "      <th>SMANEG</th>\n",
       "      <th>SMAPOS</th>\n",
       "      <th>All</th>\n",
       "    </tr>\n",
       "    <tr>\n",
       "      <th>orig changes</th>\n",
       "      <th></th>\n",
       "      <th></th>\n",
       "      <th></th>\n",
       "      <th></th>\n",
       "      <th></th>\n",
       "      <th></th>\n",
       "      <th></th>\n",
       "    </tr>\n",
       "  </thead>\n",
       "  <tbody>\n",
       "    <tr>\n",
       "      <th>BIGNEG</th>\n",
       "      <td>59</td>\n",
       "      <td>29</td>\n",
       "      <td>41</td>\n",
       "      <td>30</td>\n",
       "      <td>25</td>\n",
       "      <td>23</td>\n",
       "      <td>207</td>\n",
       "    </tr>\n",
       "    <tr>\n",
       "      <th>BIGPOS</th>\n",
       "      <td>31</td>\n",
       "      <td>87</td>\n",
       "      <td>52</td>\n",
       "      <td>53</td>\n",
       "      <td>43</td>\n",
       "      <td>28</td>\n",
       "      <td>294</td>\n",
       "    </tr>\n",
       "    <tr>\n",
       "      <th>MEDNEG</th>\n",
       "      <td>48</td>\n",
       "      <td>51</td>\n",
       "      <td>163</td>\n",
       "      <td>63</td>\n",
       "      <td>35</td>\n",
       "      <td>35</td>\n",
       "      <td>395</td>\n",
       "    </tr>\n",
       "    <tr>\n",
       "      <th>MEDPOS</th>\n",
       "      <td>43</td>\n",
       "      <td>46</td>\n",
       "      <td>47</td>\n",
       "      <td>228</td>\n",
       "      <td>32</td>\n",
       "      <td>26</td>\n",
       "      <td>422</td>\n",
       "    </tr>\n",
       "    <tr>\n",
       "      <th>SMANEG</th>\n",
       "      <td>22</td>\n",
       "      <td>14</td>\n",
       "      <td>23</td>\n",
       "      <td>22</td>\n",
       "      <td>117</td>\n",
       "      <td>10</td>\n",
       "      <td>208</td>\n",
       "    </tr>\n",
       "    <tr>\n",
       "      <th>SMAPOS</th>\n",
       "      <td>14</td>\n",
       "      <td>12</td>\n",
       "      <td>24</td>\n",
       "      <td>22</td>\n",
       "      <td>8</td>\n",
       "      <td>79</td>\n",
       "      <td>159</td>\n",
       "    </tr>\n",
       "    <tr>\n",
       "      <th>All</th>\n",
       "      <td>217</td>\n",
       "      <td>239</td>\n",
       "      <td>350</td>\n",
       "      <td>418</td>\n",
       "      <td>260</td>\n",
       "      <td>201</td>\n",
       "      <td>1685</td>\n",
       "    </tr>\n",
       "  </tbody>\n",
       "</table>\n",
       "</div>"
      ],
      "text/plain": [
       "predicted changes  BIGNEG  BIGPOS  MEDNEG  MEDPOS  SMANEG  SMAPOS   All\n",
       "orig changes                                                           \n",
       "BIGNEG                 59      29      41      30      25      23   207\n",
       "BIGPOS                 31      87      52      53      43      28   294\n",
       "MEDNEG                 48      51     163      63      35      35   395\n",
       "MEDPOS                 43      46      47     228      32      26   422\n",
       "SMANEG                 22      14      23      22     117      10   208\n",
       "SMAPOS                 14      12      24      22       8      79   159\n",
       "All                   217     239     350     418     260     201  1685"
      ]
     },
     "execution_count": 11,
     "metadata": {},
     "output_type": "execute_result"
    }
   ],
   "source": [
    "#2 Way Cross table/frequency table for amounts of tweet distribution between original stock market change classes and \n",
    "#predicted classes\n",
    "pd.crosstab(tweets_df['orig changes'],tweets_df['predicted changes'], margins=True)"
   ]
  },
  {
   "cell_type": "code",
   "execution_count": 12,
   "metadata": {},
   "outputs": [
    {
     "data": {
      "text/html": [
       "<div>\n",
       "<style scoped>\n",
       "    .dataframe tbody tr th:only-of-type {\n",
       "        vertical-align: middle;\n",
       "    }\n",
       "\n",
       "    .dataframe tbody tr th {\n",
       "        vertical-align: top;\n",
       "    }\n",
       "\n",
       "    .dataframe thead th {\n",
       "        text-align: right;\n",
       "    }\n",
       "</style>\n",
       "<table border=\"1\" class=\"dataframe\">\n",
       "  <thead>\n",
       "    <tr style=\"text-align: right;\">\n",
       "      <th>predicted changes</th>\n",
       "      <th>BIGNEG</th>\n",
       "      <th>BIGPOS</th>\n",
       "      <th>MEDNEG</th>\n",
       "      <th>MEDPOS</th>\n",
       "      <th>SMANEG</th>\n",
       "      <th>SMAPOS</th>\n",
       "    </tr>\n",
       "    <tr>\n",
       "      <th>orig changes</th>\n",
       "      <th></th>\n",
       "      <th></th>\n",
       "      <th></th>\n",
       "      <th></th>\n",
       "      <th></th>\n",
       "      <th></th>\n",
       "    </tr>\n",
       "  </thead>\n",
       "  <tbody>\n",
       "    <tr>\n",
       "      <th>BIGNEG</th>\n",
       "      <td>28.50</td>\n",
       "      <td>14.01</td>\n",
       "      <td>19.81</td>\n",
       "      <td>14.49</td>\n",
       "      <td>12.08</td>\n",
       "      <td>11.11</td>\n",
       "    </tr>\n",
       "    <tr>\n",
       "      <th>BIGPOS</th>\n",
       "      <td>10.54</td>\n",
       "      <td>29.59</td>\n",
       "      <td>17.69</td>\n",
       "      <td>18.03</td>\n",
       "      <td>14.63</td>\n",
       "      <td>9.52</td>\n",
       "    </tr>\n",
       "    <tr>\n",
       "      <th>MEDNEG</th>\n",
       "      <td>12.15</td>\n",
       "      <td>12.91</td>\n",
       "      <td>41.27</td>\n",
       "      <td>15.95</td>\n",
       "      <td>8.86</td>\n",
       "      <td>8.86</td>\n",
       "    </tr>\n",
       "    <tr>\n",
       "      <th>MEDPOS</th>\n",
       "      <td>10.19</td>\n",
       "      <td>10.90</td>\n",
       "      <td>11.14</td>\n",
       "      <td>54.03</td>\n",
       "      <td>7.58</td>\n",
       "      <td>6.16</td>\n",
       "    </tr>\n",
       "    <tr>\n",
       "      <th>SMANEG</th>\n",
       "      <td>10.58</td>\n",
       "      <td>6.73</td>\n",
       "      <td>11.06</td>\n",
       "      <td>10.58</td>\n",
       "      <td>56.25</td>\n",
       "      <td>4.81</td>\n",
       "    </tr>\n",
       "    <tr>\n",
       "      <th>SMAPOS</th>\n",
       "      <td>8.81</td>\n",
       "      <td>7.55</td>\n",
       "      <td>15.09</td>\n",
       "      <td>13.84</td>\n",
       "      <td>5.03</td>\n",
       "      <td>49.69</td>\n",
       "    </tr>\n",
       "    <tr>\n",
       "      <th>All</th>\n",
       "      <td>12.88</td>\n",
       "      <td>14.18</td>\n",
       "      <td>20.77</td>\n",
       "      <td>24.81</td>\n",
       "      <td>15.43</td>\n",
       "      <td>11.93</td>\n",
       "    </tr>\n",
       "  </tbody>\n",
       "</table>\n",
       "</div>"
      ],
      "text/plain": [
       "predicted changes  BIGNEG  BIGPOS  MEDNEG  MEDPOS  SMANEG  SMAPOS\n",
       "orig changes                                                     \n",
       "BIGNEG              28.50   14.01   19.81   14.49   12.08   11.11\n",
       "BIGPOS              10.54   29.59   17.69   18.03   14.63    9.52\n",
       "MEDNEG              12.15   12.91   41.27   15.95    8.86    8.86\n",
       "MEDPOS              10.19   10.90   11.14   54.03    7.58    6.16\n",
       "SMANEG              10.58    6.73   11.06   10.58   56.25    4.81\n",
       "SMAPOS               8.81    7.55   15.09   13.84    5.03   49.69\n",
       "All                 12.88   14.18   20.77   24.81   15.43   11.93"
      ]
     },
     "execution_count": 12,
     "metadata": {},
     "output_type": "execute_result"
    }
   ],
   "source": [
    "    #2 Way Cross table/frequency percentage table for amounts of tweet distribution between original stock market change classes and \n",
    "#predicted classes\n",
    "pd.crosstab(tweets_df['orig changes'],tweets_df['predicted changes'], margins=True, normalize='index')\\\n",
    "        .round(4)*100"
   ]
  },
  {
   "cell_type": "code",
   "execution_count": 13,
   "metadata": {},
   "outputs": [
    {
     "data": {
      "text/plain": [
       "<matplotlib.axes._subplots.AxesSubplot at 0x27f3b6ec208>"
      ]
     },
     "execution_count": 13,
     "metadata": {},
     "output_type": "execute_result"
    },
    {
     "data": {
      "image/png": "[encoded data removed]",
      "text/plain": [
       "<Figure size 432x288 with 1 Axes>"
      ]
     },
     "metadata": {},
     "output_type": "display_data"
    }
   ],
   "source": [
    "#distribution of TF/IDF scores within original stock market classes\n",
    "sns.boxplot(x=\"orig changes\", y=\"tf_idf\", data=tweets_dfbms)"
   ]
  },
  {
   "cell_type": "code",
   "execution_count": 14,
   "metadata": {},
   "outputs": [
    {
     "name": "stderr",
     "output_type": "stream",
     "text": [
      "C:\\Users\\Suvi\\Anaconda3\\lib\\site-packages\\matplotlib\\axes\\_axes.py:6462: UserWarning: The 'normed' kwarg is deprecated, and has been replaced by the 'density' kwarg.\n",
      "  warnings.warn(\"The 'normed' kwarg is deprecated, and has been \"\n"
     ]
    },
    {
     "data": {
      "text/plain": [
       "<matplotlib.axes._subplots.AxesSubplot at 0x27f3b585630>"
      ]
     },
     "execution_count": 14,
     "metadata": {},
     "output_type": "execute_result"
    },
    {
     "data": {
      "image/png": "[encoded data removed]",
      "text/plain": [
       "<Figure size 432x288 with 1 Axes>"
      ]
     },
     "metadata": {},
     "output_type": "display_data"
    }
   ],
   "source": [
    "# Density Plot and Histogram of TF/IDF scores -not Gaussian\n",
    "sns.distplot(tweets_dfbms['tf_idf'], hist=True, kde=True, \n",
    "             bins=int(180/5), color = 'darkblue', \n",
    "             hist_kws={'edgecolor':'black'},\n",
    "             kde_kws={'linewidth': 4})"
   ]
  },
  {
   "cell_type": "code",
   "execution_count": 15,
   "metadata": {},
   "outputs": [
    {
     "name": "stderr",
     "output_type": "stream",
     "text": [
      "C:\\Users\\Suvi\\Anaconda3\\lib\\site-packages\\matplotlib\\axes\\_axes.py:6462: UserWarning: The 'normed' kwarg is deprecated, and has been replaced by the 'density' kwarg.\n",
      "  warnings.warn(\"The 'normed' kwarg is deprecated, and has been \"\n"
     ]
    },
    {
     "data": {
      "text/plain": [
       "<matplotlib.axes._subplots.AxesSubplot at 0x27f3b55c748>"
      ]
     },
     "execution_count": 15,
     "metadata": {},
     "output_type": "execute_result"
    },
    {
     "data": {
      "image/png": "[encoded data removed]",
      "text/plain": [
       "<Figure size 432x288 with 1 Axes>"
      ]
     },
     "metadata": {},
     "output_type": "display_data"
    }
   ],
   "source": [
    "# Density Plot and Histogram of daily change -clearly Gaussian, normally distributed\n",
    "sns.distplot(tweets_dfbms['daily change'], hist=True, kde=True, \n",
    "             bins=int(180/5), color = 'darkblue', \n",
    "             hist_kws={'edgecolor':'black'},\n",
    "             kde_kws={'linewidth': 4})"
   ]
  },
  {
   "cell_type": "code",
   "execution_count": 16,
   "metadata": {},
   "outputs": [
    {
     "data": {
      "image/png": "[encoded data removed]",
      "text/plain": [
       "<Figure size 432x288 with 1 Axes>"
      ]
     },
     "metadata": {},
     "output_type": "display_data"
    }
   ],
   "source": [
    "# plotting the data\n",
    "pyplot.scatter(tweets_dfbms['tf_idf'],tweets_dfbms['daily change'])\n",
    "pyplot.xlabel('tf_idf', fontweight='bold', color = 'black', fontsize='10', horizontalalignment='center')\n",
    "pyplot.ylabel('Stock market daily change', fontweight='bold', color = 'black', fontsize='10', verticalalignment='center')\n",
    "pyplot.show()"
   ]
  },
  {
   "cell_type": "code",
   "execution_count": 18,
   "metadata": {},
   "outputs": [
    {
     "name": "stdout",
     "output_type": "stream",
     "text": [
      "Test method                 \t Corr coefficient \t p-value \t Results\n",
      "-----------------------------------------------------------------------------------------------\n",
      "Spearmans correlation test \t -0.10           \t 0.000         \t Samples are correlated\n",
      "Kendalltau correlation test \t -0.06           \t 0.000         \t Samples are correlated\n",
      "Pearsons correlation test \t -0.06           \t 0.016         \t Samples are correlated\n"
     ]
    }
   ],
   "source": [
    "#Test of independency for two variables\n",
    "#Spearman's and Kendall's Tau Correlation tests can be done also for non-normally distributed variables\n",
    "#Pearson's correlation is reliable only for normally distributed variables\n",
    "#if the p-value is much lower than 0.05, we reject the null hypothesis \n",
    "#and conclude that there is a statistically significant correlation\n",
    "\n",
    "# calculate the correlation between two variables\n",
    "def correlation_test(data1, data2, alpha):\n",
    "    coef1, p_value1 = spearmanr(data1, data2)\n",
    "    coef2, p_value2 = kendalltau(data1, data2)\n",
    "    coef3, p_value3 = pearsonr(data1, data2)\n",
    "    test=[['Spearmans correlation test',coef1,p_value1], ['Kendalltau correlation test',coef2,p_value2], \n",
    "          ['Pearsons correlation test',coef3,p_value3]]\n",
    "    \n",
    "    print(\"Test method                \", '\\t', \"Corr coefficient\", '\\t', \"p-value\", '\\t', \"Results\")\n",
    "    print(\"-----------------------------------------------------------------------------------------------\")\n",
    "    \n",
    "    for value in test:\n",
    "        #print(value[0], 'correlation coefficient: %.3f' % value[1])\n",
    "\n",
    "        # interpret the significance\n",
    "        if value[2] > alpha:\n",
    "            #print('Samples are uncorrelated (fail to reject H0) p=%.3f' % value[2])\n",
    "            result='Samples are uncorrelated'\n",
    "\n",
    "        else:\n",
    "            #print('Samples are correlated (reject H0) p=%.3f' % value[2])\n",
    "            result='Samples are correlated'\n",
    "        \n",
    "        print(value[0] , '\\t', \"%.2f\" % value[1], '         ', '\\t', \"%.3f\" % value[2], '       ', '\\t', result)\n",
    "          \n",
    "\n",
    "correlation_test(tweets_dfbms['tf_idf'],tweets_dfbms['daily change'], 0.05)  \n"
   ]
  },
  {
   "cell_type": "code",
   "execution_count": null,
   "metadata": {},
   "outputs": [],
   "source": [
    "\n",
    "\n",
    "\n"
   ]
  },
  {
   "cell_type": "code",
   "execution_count": null,
   "metadata": {},
   "outputs": [],
   "source": []
  }
 ],
 "metadata": {
  "kernelspec": {
   "display_name": "Python 3",
   "language": "python",
   "name": "python3"
  },
  "language_info": {
   "codemirror_mode": {
    "name": "ipython",
    "version": 3
   },
   "file_extension": ".py",
   "mimetype": "text/x-python",
   "name": "python",
   "nbconvert_exporter": "python",
   "pygments_lexer": "ipython3",
   "version": "3.6.4"
  }
 },
 "nbformat": 4,
 "nbformat_minor": 2
}
