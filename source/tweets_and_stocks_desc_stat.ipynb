{
 "cells": [
  {
   "cell_type": "code",
   "execution_count": 105,
   "metadata": {},
   "outputs": [],
   "source": [
    "import pandas as pd\n",
    "import numpy as np\n",
    "from datetime import datetime\n",
    "from collections import Counter\n",
    "from sklearn.feature_extraction.text import TfidfVectorizer\n",
    "import matplotlib.pyplot as plt\n",
    "import textwrap\n",
    "from scipy.stats import trim_mean, kurtosis\n",
    "from scipy.stats.mstats import mode, gmean, hmean\n",
    "import seaborn as sns\n",
    "from matplotlib import pyplot\n",
    "import scipy.stats as stats\n",
    "from scipy.stats import chi2_contingency\n",
    "from scipy.stats import spearmanr\n",
    "from scipy.stats import pearsonr\n",
    "from scipy.stats import kendalltau\n",
    "import math\n",
    "\n",
    "#parameters for selecting data: type in the start date, the latest available date in the data is the end date\n",
    "param_start_date='11/08/2016'"
   ]
  },
  {
   "cell_type": "code",
   "execution_count": 106,
   "metadata": {},
   "outputs": [
    {
     "name": "stdout",
     "output_type": "stream",
     "text": [
      "Index(['daily change', 'date', 'difference', 'orig changes', 'orig stock',\n",
      "       'predicted changes', 'prev stock', 'text', 'timestamp', 'tweet'],\n",
      "      dtype='object')\n",
      "Number of tweets:  5762\n",
      "Number of tweets after the start date:  980\n"
     ]
    }
   ],
   "source": [
    "#read tweets and stock market data\n",
    "name_tweets = \"tweet_stock_results.json\"\n",
    "\n",
    "with open(name_tweets, \"r\") as file:\n",
    "    tweets_df = pd.read_json(file, orient='index')\n",
    "print(tweets_df.columns)\n",
    "\n",
    "tweets_df.sort_index(inplace=True)\n",
    "tweets_df = tweets_df.reset_index(drop=True)\n",
    "#tweets_df=tweets_df1.loc[tweets_df1.index<=14]\n",
    "print(\"Number of tweets: \", len(tweets_df))\n",
    "\n",
    "#select the data sets based on the param_start_date\n",
    "tweets_df=tweets_df.loc[tweets_df[\"timestamp\"] > datetime.strptime(param_start_date, '%m/%d/%Y')]\n",
    "print(\"Number of tweets after the start date: \", len(tweets_df))"
   ]
  },
  {
   "cell_type": "code",
   "execution_count": 107,
   "metadata": {},
   "outputs": [
    {
     "name": "stdout",
     "output_type": "stream",
     "text": [
      "132\n",
      "63\n",
      "259\n",
      "189\n",
      "94\n",
      "117\n"
     ]
    }
   ],
   "source": [
    "#partition of the data in six classes\n",
    "tweets_dfbp=tweets_df.loc[tweets_df[\"orig changes\"]=='BIGPOS']\n",
    "print(len(tweets_dfbp))\n",
    "tweets_dfbn=tweets_df.loc[tweets_df[\"orig changes\"]=='BIGNEG']\n",
    "print(len(tweets_dfbn))\n",
    "tweets_dfmp=tweets_df.loc[tweets_df[\"orig changes\"]=='MEDPOS']\n",
    "print(len(tweets_dfmp))\n",
    "tweets_dfmn=tweets_df.loc[tweets_df[\"orig changes\"]=='MEDNEG']\n",
    "print(len(tweets_dfmn))\n",
    "tweets_dfsp=tweets_df.loc[tweets_df[\"orig changes\"]=='SMAPOS']\n",
    "print(len(tweets_dfsp))\n",
    "tweets_dfsn=tweets_df.loc[tweets_df[\"orig changes\"]=='SMANEG']\n",
    "print(len(tweets_dfsn))"
   ]
  },
  {
   "cell_type": "code",
   "execution_count": 108,
   "metadata": {},
   "outputs": [],
   "source": [
    "def most_common(data,number):\n",
    "    most_common = Counter(\" \".join(data[\"text\"].dropna()).split()).most_common(number)\n",
    "    print(\"Most common words: \", most_common)\n",
    "\n",
    "\n",
    "def aggregate_tfidf(data,number):\n",
    "    # Ignore too common terms (max_df = .25)\n",
    "    v_data = TfidfVectorizer(max_df = .25)\n",
    "    X_data = v_data.fit_transform(data[\"text\"])\n",
    "\n",
    "    X_mean= X_data.mean(axis=0)\n",
    "    vec =[]\n",
    "    for i in range(len(data)):\n",
    "        vec.append(X_mean.item(i))\n",
    "\n",
    "    data['tf_idf']=pd.Series(vec, index=data.index)\n",
    "    #print(data.head())\n",
    "    \n",
    "    highest = [v_data.get_feature_names()[id] for id in (-X_data.mean(axis=0).A).argsort()[0][:number]]\n",
    "    #print(\"Highest scores: \", highest)\n",
    "\n"
   ]
  },
  {
   "cell_type": "code",
   "execution_count": 109,
   "metadata": {},
   "outputs": [
    {
     "name": "stderr",
     "output_type": "stream",
     "text": [
      "C:\\Users\\Suvi\\Anaconda3\\lib\\site-packages\\ipykernel_launcher.py:16: SettingWithCopyWarning: \n",
      "A value is trying to be set on a copy of a slice from a DataFrame.\n",
      "Try using .loc[row_indexer,col_indexer] = value instead\n",
      "\n",
      "See the caveats in the documentation: http://pandas.pydata.org/pandas-docs/stable/indexing.html#indexing-view-versus-copy\n",
      "  app.launch_new_instance()\n"
     ]
    }
   ],
   "source": [
    "#print most common x words\n",
    "#most_common(tweets_dfbp,20)\n",
    "\n",
    "#aggregate TF/IDF for sentence vector and print most common x words\n",
    "aggregate_tfidf(tweets_dfbp,20)\n",
    "aggregate_tfidf(tweets_dfbn,20)\n",
    "aggregate_tfidf(tweets_dfmp,20)\n",
    "aggregate_tfidf(tweets_dfmn,20)\n",
    "aggregate_tfidf(tweets_dfsp,20)\n",
    "aggregate_tfidf(tweets_dfsn,20)\n"
   ]
  },
  {
   "cell_type": "code",
   "execution_count": 110,
   "metadata": {},
   "outputs": [
    {
     "name": "stdout",
     "output_type": "stream",
     "text": [
      "195\n",
      "448\n",
      "211\n",
      "643\n",
      "854\n",
      "      daily change       date  difference orig changes  orig stock  \\\n",
      "4782      256.9493 2016-11-08         0.0       BIGPOS  18332.7402   \n",
      "4783      256.9493 2016-11-08         1.0       BIGPOS  18332.7402   \n",
      "4784      256.9493 2016-11-08         1.0       BIGPOS  18332.7402   \n",
      "4785      256.9493 2016-11-08         1.0       BIGPOS  18332.7402   \n",
      "4786      256.9493 2016-11-08         1.0       BIGPOS  18332.7402   \n",
      "\n",
      "     predicted changes  prev stock  \\\n",
      "4782            MEDPOS  18259.5996   \n",
      "4783            BIGPOS  18259.5996   \n",
      "4784            BIGPOS  18259.5996   \n",
      "4785            BIGPOS  18259.5996   \n",
      "4786            BIGPOS  18259.5996   \n",
      "\n",
      "                                                   text           timestamp  \\\n",
      "4782  rt https https in michigan this is your moveme... 2016-11-08 04:27:18   \n",
      "4783  rt https thanks new hampshire nh newhampshire ... 2016-11-08 04:29:10   \n",
      "4784                            electionday https https 2016-11-08 18:23:39   \n",
      "4785  still time to votetrump ivoted electionnight h... 2016-11-08 23:03:42   \n",
      "4786  just out according to https utah officials rep... 2016-11-08 21:28:24   \n",
      "\n",
      "                                                  tweet    tf_idf  \n",
      "4782  RT @detroitnews: .@IvankaTrump in Michigan: ‘T...  0.002216  \n",
      "4783  RT @DonaldJTrumpJr: Thanks New Hampshire!!! \\n...  0.006990  \n",
      "4784  #ElectionDay https://t.co/MXrAxYnTjY https://t...  0.002605  \n",
      "4785  Still time to #VoteTrump! \\n#iVoted #ElectionN...  0.002195  \n",
      "4786  Just out according to @CNN: \"Utah officials re...  0.002056  \n"
     ]
    }
   ],
   "source": [
    "tweets_dfb=tweets_dfbp.append(tweets_dfbn)\n",
    "print(len(tweets_dfb))\n",
    "tweets_dfm=tweets_dfmp.append(tweets_dfmn)\n",
    "print(len(tweets_dfm))\n",
    "tweets_dfs=tweets_dfsp.append(tweets_dfsn)\n",
    "print(len(tweets_dfs))\n",
    "tweets_dfbm=tweets_dfb.append(tweets_dfm)\n",
    "print(len(tweets_dfbm))\n",
    "tweets_dfbms=tweets_dfbm.append(tweets_dfs)\n",
    "print(len(tweets_dfbms))\n",
    "tweets_dfbms.sort_index(inplace=True)\n",
    "print(tweets_dfbms.head())"
   ]
  },
  {
   "cell_type": "code",
   "execution_count": 111,
   "metadata": {},
   "outputs": [
    {
     "name": "stdout",
     "output_type": "stream",
     "text": [
      "Predicted change is identical to the real stock market change 500\n",
      "Predicted change is not identical to the real stock market change 480\n",
      "Predicted change is not equal but the direction is the same with the real stock market change 132\n",
      "The direction of predicted change is opposite to the stock market change 348\n"
     ]
    }
   ],
   "source": [
    "tweets_dfx=tweets_df.loc[tweets_df[\"orig changes\"]!=tweets_df[\"predicted changes\"]]\n",
    "print(\"Predicted change is identical to the real stock market change\",len(tweets_df)-len(tweets_dfx))\n",
    "print(\"Predicted change is not identical to the real stock market change\",len(tweets_dfx))\n",
    "\n",
    "\n",
    "tweets_df1x=tweets_dfx.loc[(tweets_dfx[\"orig changes\"].values=='BIGPOS') | (tweets_dfx[\"orig changes\"].values=='MEDPOS') |\n",
    "                         (tweets_dfx[\"orig changes\"].values=='SMAPOS')]\n",
    "tweets_df1=tweets_df1x.loc[(tweets_df1x[\"predicted changes\"].values=='BIGPOS') | (tweets_df1x[\"predicted changes\"].values=='MEDPOS') |\n",
    "                         (tweets_df1x[\"predicted changes\"].values=='SMAPOS')]\n",
    "\n",
    "\n",
    "tweets_df2x=tweets_dfx.loc[(tweets_dfx[\"orig changes\"].values=='BIGNEG') | (tweets_dfx[\"orig changes\"].values=='MEDNEG') |\n",
    "                         (tweets_dfx[\"orig changes\"].values=='SMANEG')]\n",
    "tweets_df2=tweets_df2x.loc[(tweets_df2x[\"predicted changes\"].values=='BIGNEG') | (tweets_df2x[\"predicted changes\"].values=='MEDNEG') |\n",
    "                         (tweets_df2x[\"predicted changes\"].values=='SMANEG')]\n",
    "\n",
    "print(\"Predicted change is not equal but the direction is the same with the real stock market change\",len(tweets_df1)+len(tweets_df2))\n",
    "\n",
    "print(\"The direction of predicted change is opposite to the stock market change\",len(tweets_dfx)-(len(tweets_df1)+len(tweets_df2)))\n"
   ]
  },
  {
   "cell_type": "code",
   "execution_count": 112,
   "metadata": {},
   "outputs": [
    {
     "data": {
      "image/png": "[encoded data removed]",
      "text/plain": [
       "<Figure size 432x288 with 1 Axes>"
      ]
     },
     "metadata": {},
     "output_type": "display_data"
    }
   ],
   "source": [
    "# Pie chart, where the slices will be ordered and plotted counter-clockwise:\n",
    "text1=textwrap.fill('Predicted change is identical to the real stock market change', width=40)\n",
    "text2=textwrap.fill('Predicted change is not equal but the direction is the same with the real stock market change', width=50)\n",
    "text3=textwrap.fill('The direction of predicted change is opposite to the stock market change', width=50)\n",
    "labels = text1, text2, text3\n",
    "colors  = (\"green\", \"blue\", \"red\")\n",
    "sizes = [len(tweets_df)-len(tweets_dfx),len(tweets_df1)+len(tweets_df2),len(tweets_dfx)-(len(tweets_df1)+len(tweets_df2))]\n",
    "#print(len(tweets_df),len(tweets_df1), len(tweets_df2))\n",
    "\n",
    "fig1, ax1 = plt.subplots()\n",
    "ax1.pie(sizes, labels=labels, colors=colors, autopct='%1.1f%%', shadow=True, startangle=90)\n",
    "ax1.axis('equal')  # Equal aspect ratio ensures that pie is drawn as a circle.\n",
    "\n",
    "plt.show()"
   ]
  },
  {
   "cell_type": "code",
   "execution_count": 113,
   "metadata": {},
   "outputs": [
    {
     "data": {
      "text/html": [
       "<div>\n",
       "<style scoped>\n",
       "    .dataframe tbody tr th:only-of-type {\n",
       "        vertical-align: middle;\n",
       "    }\n",
       "\n",
       "    .dataframe tbody tr th {\n",
       "        vertical-align: top;\n",
       "    }\n",
       "\n",
       "    .dataframe thead th {\n",
       "        text-align: right;\n",
       "    }\n",
       "</style>\n",
       "<table border=\"1\" class=\"dataframe\">\n",
       "  <thead>\n",
       "    <tr style=\"text-align: right;\">\n",
       "      <th></th>\n",
       "      <th>orig changes</th>\n",
       "      <th>median</th>\n",
       "      <th>std</th>\n",
       "      <th>mean</th>\n",
       "      <th>amin</th>\n",
       "      <th>amax</th>\n",
       "    </tr>\n",
       "  </thead>\n",
       "  <tbody>\n",
       "    <tr>\n",
       "      <th>0</th>\n",
       "      <td>BIGNEG</td>\n",
       "      <td>24667.7793</td>\n",
       "      <td>1628.258815</td>\n",
       "      <td>24131.578094</td>\n",
       "      <td>20591.8594</td>\n",
       "      <td>26743.5000</td>\n",
       "    </tr>\n",
       "    <tr>\n",
       "      <th>1</th>\n",
       "      <td>BIGPOS</td>\n",
       "      <td>24174.8203</td>\n",
       "      <td>2247.158583</td>\n",
       "      <td>23545.534376</td>\n",
       "      <td>18332.7402</td>\n",
       "      <td>26405.7598</td>\n",
       "    </tr>\n",
       "    <tr>\n",
       "      <th>2</th>\n",
       "      <td>MEDNEG</td>\n",
       "      <td>22349.5898</td>\n",
       "      <td>2092.027032</td>\n",
       "      <td>22712.494199</td>\n",
       "      <td>18903.8203</td>\n",
       "      <td>26562.0508</td>\n",
       "    </tr>\n",
       "    <tr>\n",
       "      <th>3</th>\n",
       "      <td>MEDPOS</td>\n",
       "      <td>22557.5996</td>\n",
       "      <td>1849.943184</td>\n",
       "      <td>22673.089176</td>\n",
       "      <td>18868.1406</td>\n",
       "      <td>26656.9805</td>\n",
       "    </tr>\n",
       "    <tr>\n",
       "      <th>4</th>\n",
       "      <td>SMANEG</td>\n",
       "      <td>21414.3398</td>\n",
       "      <td>1856.154648</td>\n",
       "      <td>22003.693655</td>\n",
       "      <td>19826.7695</td>\n",
       "      <td>26214.5996</td>\n",
       "    </tr>\n",
       "    <tr>\n",
       "      <th>5</th>\n",
       "      <td>SMAPOS</td>\n",
       "      <td>22016.2402</td>\n",
       "      <td>2061.108044</td>\n",
       "      <td>22429.295313</td>\n",
       "      <td>18847.6602</td>\n",
       "      <td>26145.9902</td>\n",
       "    </tr>\n",
       "  </tbody>\n",
       "</table>\n",
       "</div>"
      ],
      "text/plain": [
       "  orig changes      median          std          mean        amin        amax\n",
       "0       BIGNEG  24667.7793  1628.258815  24131.578094  20591.8594  26743.5000\n",
       "1       BIGPOS  24174.8203  2247.158583  23545.534376  18332.7402  26405.7598\n",
       "2       MEDNEG  22349.5898  2092.027032  22712.494199  18903.8203  26562.0508\n",
       "3       MEDPOS  22557.5996  1849.943184  22673.089176  18868.1406  26656.9805\n",
       "4       SMANEG  21414.3398  1856.154648  22003.693655  19826.7695  26214.5996\n",
       "5       SMAPOS  22016.2402  2061.108044  22429.295313  18847.6602  26145.9902"
      ]
     },
     "execution_count": 113,
     "metadata": {},
     "output_type": "execute_result"
    }
   ],
   "source": [
    "#descriptive statistics\n",
    "\n",
    "\n",
    "#stats for stock market data in predicted and original classes - not very informative\n",
    "grouped_data = tweets_df.groupby(['orig changes']) #try adding 'predicted changes'\n",
    "grouped_data['orig stock'].apply(mode, axis=None).reset_index()\n",
    "descr = grouped_data['orig stock'].aggregate([np.median, np.std, np.mean, np.min, np.max]).reset_index()\n",
    "descr"
   ]
  },
  {
   "cell_type": "code",
   "execution_count": 114,
   "metadata": {},
   "outputs": [
    {
     "data": {
      "text/html": [
       "<div>\n",
       "<style scoped>\n",
       "    .dataframe tbody tr th:only-of-type {\n",
       "        vertical-align: middle;\n",
       "    }\n",
       "\n",
       "    .dataframe tbody tr th {\n",
       "        vertical-align: top;\n",
       "    }\n",
       "\n",
       "    .dataframe thead th {\n",
       "        text-align: right;\n",
       "    }\n",
       "</style>\n",
       "<table border=\"1\" class=\"dataframe\">\n",
       "  <thead>\n",
       "    <tr style=\"text-align: right;\">\n",
       "      <th></th>\n",
       "      <th>orig changes</th>\n",
       "      <th>median</th>\n",
       "      <th>std</th>\n",
       "      <th>mean</th>\n",
       "      <th>amin</th>\n",
       "      <th>amax</th>\n",
       "    </tr>\n",
       "  </thead>\n",
       "  <tbody>\n",
       "    <tr>\n",
       "      <th>0</th>\n",
       "      <td>BIGNEG</td>\n",
       "      <td>0.004646</td>\n",
       "      <td>0.005218</td>\n",
       "      <td>0.007056</td>\n",
       "      <td>0.003572</td>\n",
       "      <td>0.027230</td>\n",
       "    </tr>\n",
       "    <tr>\n",
       "      <th>1</th>\n",
       "      <td>BIGPOS</td>\n",
       "      <td>0.002277</td>\n",
       "      <td>0.003595</td>\n",
       "      <td>0.003778</td>\n",
       "      <td>0.001749</td>\n",
       "      <td>0.021032</td>\n",
       "    </tr>\n",
       "    <tr>\n",
       "      <th>2</th>\n",
       "      <td>MEDNEG</td>\n",
       "      <td>0.001651</td>\n",
       "      <td>0.003174</td>\n",
       "      <td>0.002965</td>\n",
       "      <td>0.001164</td>\n",
       "      <td>0.021470</td>\n",
       "    </tr>\n",
       "    <tr>\n",
       "      <th>3</th>\n",
       "      <td>MEDPOS</td>\n",
       "      <td>0.001216</td>\n",
       "      <td>0.003067</td>\n",
       "      <td>0.002401</td>\n",
       "      <td>0.000923</td>\n",
       "      <td>0.022242</td>\n",
       "    </tr>\n",
       "    <tr>\n",
       "      <th>4</th>\n",
       "      <td>SMANEG</td>\n",
       "      <td>0.002542</td>\n",
       "      <td>0.004421</td>\n",
       "      <td>0.004398</td>\n",
       "      <td>0.001866</td>\n",
       "      <td>0.028865</td>\n",
       "    </tr>\n",
       "    <tr>\n",
       "      <th>5</th>\n",
       "      <td>SMAPOS</td>\n",
       "      <td>0.003019</td>\n",
       "      <td>0.004570</td>\n",
       "      <td>0.005035</td>\n",
       "      <td>0.002336</td>\n",
       "      <td>0.029328</td>\n",
       "    </tr>\n",
       "  </tbody>\n",
       "</table>\n",
       "</div>"
      ],
      "text/plain": [
       "  orig changes    median       std      mean      amin      amax\n",
       "0       BIGNEG  0.004646  0.005218  0.007056  0.003572  0.027230\n",
       "1       BIGPOS  0.002277  0.003595  0.003778  0.001749  0.021032\n",
       "2       MEDNEG  0.001651  0.003174  0.002965  0.001164  0.021470\n",
       "3       MEDPOS  0.001216  0.003067  0.002401  0.000923  0.022242\n",
       "4       SMANEG  0.002542  0.004421  0.004398  0.001866  0.028865\n",
       "5       SMAPOS  0.003019  0.004570  0.005035  0.002336  0.029328"
      ]
     },
     "execution_count": 114,
     "metadata": {},
     "output_type": "execute_result"
    }
   ],
   "source": [
    "#stats for TF/IDF-scores in predicted and original classes \n",
    "grouped_data = tweets_dfbms.groupby(['orig changes']) #try adding 'predicted changes'\n",
    "grouped_data['tf_idf'].apply(mode, axis=None).reset_index()\n",
    "descr = grouped_data['tf_idf'].aggregate([np.median, np.std, np.mean, np.min, np.max]).reset_index()\n",
    "descr"
   ]
  },
  {
   "cell_type": "code",
   "execution_count": 116,
   "metadata": {},
   "outputs": [
    {
     "data": {
      "text/html": [
       "<div>\n",
       "<style scoped>\n",
       "    .dataframe tbody tr th:only-of-type {\n",
       "        vertical-align: middle;\n",
       "    }\n",
       "\n",
       "    .dataframe tbody tr th {\n",
       "        vertical-align: top;\n",
       "    }\n",
       "\n",
       "    .dataframe thead th {\n",
       "        text-align: right;\n",
       "    }\n",
       "</style>\n",
       "<table border=\"1\" class=\"dataframe\">\n",
       "  <thead>\n",
       "    <tr style=\"text-align: right;\">\n",
       "      <th>predicted changes</th>\n",
       "      <th>BIGNEG</th>\n",
       "      <th>BIGPOS</th>\n",
       "      <th>MEDNEG</th>\n",
       "      <th>MEDPOS</th>\n",
       "      <th>SMANEG</th>\n",
       "      <th>SMAPOS</th>\n",
       "      <th>All</th>\n",
       "    </tr>\n",
       "    <tr>\n",
       "      <th>orig changes</th>\n",
       "      <th></th>\n",
       "      <th></th>\n",
       "      <th></th>\n",
       "      <th></th>\n",
       "      <th></th>\n",
       "      <th></th>\n",
       "      <th></th>\n",
       "    </tr>\n",
       "  </thead>\n",
       "  <tbody>\n",
       "    <tr>\n",
       "      <th>BIGNEG</th>\n",
       "      <td>16</td>\n",
       "      <td>8</td>\n",
       "      <td>13</td>\n",
       "      <td>16</td>\n",
       "      <td>5</td>\n",
       "      <td>5</td>\n",
       "      <td>63</td>\n",
       "    </tr>\n",
       "    <tr>\n",
       "      <th>BIGPOS</th>\n",
       "      <td>16</td>\n",
       "      <td>56</td>\n",
       "      <td>11</td>\n",
       "      <td>29</td>\n",
       "      <td>9</td>\n",
       "      <td>11</td>\n",
       "      <td>132</td>\n",
       "    </tr>\n",
       "    <tr>\n",
       "      <th>MEDNEG</th>\n",
       "      <td>11</td>\n",
       "      <td>21</td>\n",
       "      <td>104</td>\n",
       "      <td>34</td>\n",
       "      <td>11</td>\n",
       "      <td>8</td>\n",
       "      <td>189</td>\n",
       "    </tr>\n",
       "    <tr>\n",
       "      <th>MEDPOS</th>\n",
       "      <td>14</td>\n",
       "      <td>14</td>\n",
       "      <td>28</td>\n",
       "      <td>179</td>\n",
       "      <td>14</td>\n",
       "      <td>10</td>\n",
       "      <td>259</td>\n",
       "    </tr>\n",
       "    <tr>\n",
       "      <th>SMANEG</th>\n",
       "      <td>5</td>\n",
       "      <td>9</td>\n",
       "      <td>8</td>\n",
       "      <td>13</td>\n",
       "      <td>80</td>\n",
       "      <td>2</td>\n",
       "      <td>117</td>\n",
       "    </tr>\n",
       "    <tr>\n",
       "      <th>SMAPOS</th>\n",
       "      <td>2</td>\n",
       "      <td>7</td>\n",
       "      <td>10</td>\n",
       "      <td>8</td>\n",
       "      <td>2</td>\n",
       "      <td>65</td>\n",
       "      <td>94</td>\n",
       "    </tr>\n",
       "    <tr>\n",
       "      <th>All</th>\n",
       "      <td>64</td>\n",
       "      <td>115</td>\n",
       "      <td>174</td>\n",
       "      <td>279</td>\n",
       "      <td>121</td>\n",
       "      <td>101</td>\n",
       "      <td>854</td>\n",
       "    </tr>\n",
       "  </tbody>\n",
       "</table>\n",
       "</div>"
      ],
      "text/plain": [
       "predicted changes  BIGNEG  BIGPOS  MEDNEG  MEDPOS  SMANEG  SMAPOS  All\n",
       "orig changes                                                          \n",
       "BIGNEG                 16       8      13      16       5       5   63\n",
       "BIGPOS                 16      56      11      29       9      11  132\n",
       "MEDNEG                 11      21     104      34      11       8  189\n",
       "MEDPOS                 14      14      28     179      14      10  259\n",
       "SMANEG                  5       9       8      13      80       2  117\n",
       "SMAPOS                  2       7      10       8       2      65   94\n",
       "All                    64     115     174     279     121     101  854"
      ]
     },
     "execution_count": 116,
     "metadata": {},
     "output_type": "execute_result"
    }
   ],
   "source": [
    "#2 Way Cross table/frequency table for amounts of tweet distribution between original stock market change classes and \n",
    "#predicted classes\n",
    "pd.crosstab(tweets_df['orig changes'],tweets_df['predicted changes'], margins=True)"
   ]
  },
  {
   "cell_type": "code",
   "execution_count": 117,
   "metadata": {},
   "outputs": [
    {
     "data": {
      "text/html": [
       "<div>\n",
       "<style scoped>\n",
       "    .dataframe tbody tr th:only-of-type {\n",
       "        vertical-align: middle;\n",
       "    }\n",
       "\n",
       "    .dataframe tbody tr th {\n",
       "        vertical-align: top;\n",
       "    }\n",
       "\n",
       "    .dataframe thead th {\n",
       "        text-align: right;\n",
       "    }\n",
       "</style>\n",
       "<table border=\"1\" class=\"dataframe\">\n",
       "  <thead>\n",
       "    <tr style=\"text-align: right;\">\n",
       "      <th>predicted changes</th>\n",
       "      <th>BIGNEG</th>\n",
       "      <th>BIGPOS</th>\n",
       "      <th>MEDNEG</th>\n",
       "      <th>MEDPOS</th>\n",
       "      <th>SMANEG</th>\n",
       "      <th>SMAPOS</th>\n",
       "    </tr>\n",
       "    <tr>\n",
       "      <th>orig changes</th>\n",
       "      <th></th>\n",
       "      <th></th>\n",
       "      <th></th>\n",
       "      <th></th>\n",
       "      <th></th>\n",
       "      <th></th>\n",
       "    </tr>\n",
       "  </thead>\n",
       "  <tbody>\n",
       "    <tr>\n",
       "      <th>BIGNEG</th>\n",
       "      <td>25.40</td>\n",
       "      <td>12.70</td>\n",
       "      <td>20.63</td>\n",
       "      <td>25.40</td>\n",
       "      <td>7.94</td>\n",
       "      <td>7.94</td>\n",
       "    </tr>\n",
       "    <tr>\n",
       "      <th>BIGPOS</th>\n",
       "      <td>12.12</td>\n",
       "      <td>42.42</td>\n",
       "      <td>8.33</td>\n",
       "      <td>21.97</td>\n",
       "      <td>6.82</td>\n",
       "      <td>8.33</td>\n",
       "    </tr>\n",
       "    <tr>\n",
       "      <th>MEDNEG</th>\n",
       "      <td>5.82</td>\n",
       "      <td>11.11</td>\n",
       "      <td>55.03</td>\n",
       "      <td>17.99</td>\n",
       "      <td>5.82</td>\n",
       "      <td>4.23</td>\n",
       "    </tr>\n",
       "    <tr>\n",
       "      <th>MEDPOS</th>\n",
       "      <td>5.41</td>\n",
       "      <td>5.41</td>\n",
       "      <td>10.81</td>\n",
       "      <td>69.11</td>\n",
       "      <td>5.41</td>\n",
       "      <td>3.86</td>\n",
       "    </tr>\n",
       "    <tr>\n",
       "      <th>SMANEG</th>\n",
       "      <td>4.27</td>\n",
       "      <td>7.69</td>\n",
       "      <td>6.84</td>\n",
       "      <td>11.11</td>\n",
       "      <td>68.38</td>\n",
       "      <td>1.71</td>\n",
       "    </tr>\n",
       "    <tr>\n",
       "      <th>SMAPOS</th>\n",
       "      <td>2.13</td>\n",
       "      <td>7.45</td>\n",
       "      <td>10.64</td>\n",
       "      <td>8.51</td>\n",
       "      <td>2.13</td>\n",
       "      <td>69.15</td>\n",
       "    </tr>\n",
       "    <tr>\n",
       "      <th>All</th>\n",
       "      <td>7.49</td>\n",
       "      <td>13.47</td>\n",
       "      <td>20.37</td>\n",
       "      <td>32.67</td>\n",
       "      <td>14.17</td>\n",
       "      <td>11.83</td>\n",
       "    </tr>\n",
       "  </tbody>\n",
       "</table>\n",
       "</div>"
      ],
      "text/plain": [
       "predicted changes  BIGNEG  BIGPOS  MEDNEG  MEDPOS  SMANEG  SMAPOS\n",
       "orig changes                                                     \n",
       "BIGNEG              25.40   12.70   20.63   25.40    7.94    7.94\n",
       "BIGPOS              12.12   42.42    8.33   21.97    6.82    8.33\n",
       "MEDNEG               5.82   11.11   55.03   17.99    5.82    4.23\n",
       "MEDPOS               5.41    5.41   10.81   69.11    5.41    3.86\n",
       "SMANEG               4.27    7.69    6.84   11.11   68.38    1.71\n",
       "SMAPOS               2.13    7.45   10.64    8.51    2.13   69.15\n",
       "All                  7.49   13.47   20.37   32.67   14.17   11.83"
      ]
     },
     "execution_count": 117,
     "metadata": {},
     "output_type": "execute_result"
    }
   ],
   "source": [
    "#2 Way Cross table/frequency percentage table for amounts of tweet distribution between original stock market change classes and \n",
    "#predicted classes\n",
    "pd.crosstab(tweets_df['orig changes'],tweets_df['predicted changes'], margins=True, normalize='index')\\\n",
    "        .round(4)*100"
   ]
  },
  {
   "cell_type": "code",
   "execution_count": 118,
   "metadata": {},
   "outputs": [
    {
     "data": {
      "text/plain": [
       "<matplotlib.axes._subplots.AxesSubplot at 0x24c01c4a588>"
      ]
     },
     "execution_count": 118,
     "metadata": {},
     "output_type": "execute_result"
    },
    {
     "data": {
      "image/png": "[encoded data removed]",
      "text/plain": [
       "<Figure size 432x288 with 1 Axes>"
      ]
     },
     "metadata": {},
     "output_type": "display_data"
    }
   ],
   "source": [
    "#distribution of TF/IDF scores within original stock market classes\n",
    "sns.boxplot(x=\"orig changes\", y=\"tf_idf\", data=tweets_dfbms)"
   ]
  },
  {
   "cell_type": "code",
   "execution_count": 119,
   "metadata": {},
   "outputs": [
    {
     "name": "stderr",
     "output_type": "stream",
     "text": [
      "C:\\Users\\Suvi\\Anaconda3\\lib\\site-packages\\matplotlib\\axes\\_axes.py:6462: UserWarning: The 'normed' kwarg is deprecated, and has been replaced by the 'density' kwarg.\n",
      "  warnings.warn(\"The 'normed' kwarg is deprecated, and has been \"\n"
     ]
    },
    {
     "data": {
      "text/plain": [
       "<matplotlib.axes._subplots.AxesSubplot at 0x24c01b19f60>"
      ]
     },
     "execution_count": 119,
     "metadata": {},
     "output_type": "execute_result"
    },
    {
     "data": {
      "image/png": "[encoded data removed]",
      "text/plain": [
       "<Figure size 432x288 with 1 Axes>"
      ]
     },
     "metadata": {},
     "output_type": "display_data"
    }
   ],
   "source": [
    "# Density Plot and Histogram of TF/IDF scores -not Gaussian\n",
    "sns.distplot(tweets_dfbms['tf_idf'], hist=True, kde=True, \n",
    "             bins=int(180/5), color = 'darkblue', \n",
    "             hist_kws={'edgecolor':'black'},\n",
    "             kde_kws={'linewidth': 4})"
   ]
  },
  {
   "cell_type": "code",
   "execution_count": 120,
   "metadata": {},
   "outputs": [
    {
     "name": "stderr",
     "output_type": "stream",
     "text": [
      "C:\\Users\\Suvi\\Anaconda3\\lib\\site-packages\\matplotlib\\axes\\_axes.py:6462: UserWarning: The 'normed' kwarg is deprecated, and has been replaced by the 'density' kwarg.\n",
      "  warnings.warn(\"The 'normed' kwarg is deprecated, and has been \"\n"
     ]
    },
    {
     "data": {
      "text/plain": [
       "<matplotlib.axes._subplots.AxesSubplot at 0x24c01ad9be0>"
      ]
     },
     "execution_count": 120,
     "metadata": {},
     "output_type": "execute_result"
    },
    {
     "data": {
      "image/png": "[encoded data removed]",
      "text/plain": [
       "<Figure size 432x288 with 1 Axes>"
      ]
     },
     "metadata": {},
     "output_type": "display_data"
    }
   ],
   "source": [
    "# Density Plot and Histogram of daily change -clearly Gaussian, normally distributed\n",
    "sns.distplot(tweets_dfbms['daily change'], hist=True, kde=True, \n",
    "             bins=int(180/5), color = 'darkblue', \n",
    "             hist_kws={'edgecolor':'black'},\n",
    "             kde_kws={'linewidth': 4})"
   ]
  },
  {
   "cell_type": "code",
   "execution_count": 121,
   "metadata": {},
   "outputs": [
    {
     "data": {
      "image/png": "[encoded data removed]",
      "text/plain": [
       "<Figure size 432x288 with 1 Axes>"
      ]
     },
     "metadata": {},
     "output_type": "display_data"
    }
   ],
   "source": [
    "# plotting the data\n",
    "pyplot.scatter(tweets_dfbms['tf_idf'],tweets_dfbms['daily change'])\n",
    "pyplot.show()"
   ]
  },
  {
   "cell_type": "code",
   "execution_count": 122,
   "metadata": {},
   "outputs": [
    {
     "name": "stdout",
     "output_type": "stream",
     "text": [
      "Spearmans correlation coefficient: -0.216\n",
      "Samples are correlated (reject H0) p=0.000\n",
      "Kendalltau correlation coefficient: -0.137\n",
      "Samples are correlated (reject H0) p=0.000\n",
      "Pearsons correlation coefficient: -0.149\n",
      "Samples are correlated (reject H0) p=0.000\n"
     ]
    }
   ],
   "source": [
    "#Chi-Square test of independency for two variables\n",
    "#Spearman's and Kendall's Tau Correlation tests can be done also for non-normally distributed variables\n",
    "#Pearson's correlation is reliable only for normally distributed variables\n",
    "#if the p-value is much lower than 0.05, we reject the null hypothesis \n",
    "#and conclude that there is a statistically significant correlation\n",
    "\n",
    "# calculate the correlation between two variables\n",
    "def chisquare_result(data1, data2, alpha):\n",
    "    coef1, p_value1 = spearmanr(data1, data2)\n",
    "    coef2, p_value2 = kendalltau(data1, data2)\n",
    "    coef3, p_value3 = pearsonr(data1, data2)\n",
    "    test=[['Spearmans',coef1,p_value1], ['Kendalltau',coef2,p_value2], ['Pearsons',coef3,p_value3]]\n",
    "    \n",
    "    for value in test:\n",
    "        print(value[0], 'correlation coefficient: %.3f' % value[1])\n",
    "\n",
    "        # interpret the significance\n",
    "        if math.fabs(value[2]) > alpha:\n",
    "            print('Samples are uncorrelated (fail to reject H0) p=%.3f' % value[2])\n",
    "        else:\n",
    "            print('Samples are correlated (reject H0) p=%.3f' % value[2])\n",
    "          \n",
    "\n",
    "chisquare_result(tweets_dfbms['tf_idf'],tweets_dfbms['daily change'], 0.05)  \n"
   ]
  },
  {
   "cell_type": "code",
   "execution_count": null,
   "metadata": {},
   "outputs": [],
   "source": [
    "\n",
    "\n",
    "\n"
   ]
  },
  {
   "cell_type": "code",
   "execution_count": null,
   "metadata": {},
   "outputs": [],
   "source": []
  }
 ],
 "metadata": {
  "kernelspec": {
   "display_name": "Python 3",
   "language": "python",
   "name": "python3"
  },
  "language_info": {
   "codemirror_mode": {
    "name": "ipython",
    "version": 3
   },
   "file_extension": ".py",
   "mimetype": "text/x-python",
   "name": "python",
   "nbconvert_exporter": "python",
   "pygments_lexer": "ipython3",
   "version": "3.6.4"
  }
 },
 "nbformat": 4,
 "nbformat_minor": 2
}
