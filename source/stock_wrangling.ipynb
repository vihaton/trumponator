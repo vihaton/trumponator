{
 "cells": [
  {
   "cell_type": "markdown",
   "metadata": {},
   "source": [
    "## Wrangle the stock data"
   ]
  },
  {
   "cell_type": "code",
   "execution_count": 1,
   "metadata": {},
   "outputs": [],
   "source": [
    "%matplotlib inline\n",
    "from alpha_vantage.timeseries import TimeSeries\n",
    "from alpha_vantage.techindicators import TechIndicators\n",
    "from alpha_vantage.sectorperformance import SectorPerformances\n",
    "from alpha_vantage.cryptocurrencies import CryptoCurrencies\n",
    "import matplotlib\n",
    "import matplotlib.pyplot as plt\n",
    "import os\n",
    "# Make plots bigger\n",
    "matplotlib.rcParams['figure.figsize'] = (20.0, 10.0)\n",
    "API_KEY = \"KRN14ZLFIAEX3YGN\""
   ]
  },
  {
   "cell_type": "code",
   "execution_count": 2,
   "metadata": {},
   "outputs": [],
   "source": [
    "#download the dataset\n",
    "ts = TimeSeries(key=API_KEY, output_format='pandas')\n",
    "#DJI = https://en.wikipedia.org/wiki/Dow_Jones_Industrial_Average\n",
    "\n",
    "#daily - get daily info up to 20a\n",
    "data, meta_data = ts.get_daily(symbol='DJI', outputsize='full')"
   ]
  },
  {
   "cell_type": "code",
   "execution_count": 3,
   "metadata": {},
   "outputs": [
    {
     "name": "stdout",
     "output_type": "stream",
     "text": [
      "            1. open       2. high        3. low      4. close     5. volume\n",
      "count   4714.000000   4714.000000   4714.000000   4714.000000  4.714000e+03\n",
      "mean   13227.341073  13304.429190  13147.727290  13230.054815  2.135885e+08\n",
      "std     4277.491750   4280.348926   4275.247751   4278.748643  9.800741e+07\n",
      "min     6547.009800   6709.609900   6469.950200   6547.049800  8.410000e+06\n",
      "25%    10367.274650  10428.294925  10290.682375  10367.345225  1.386225e+08\n",
      "50%    11559.189950  11632.915050  11487.230000  11560.334950  2.089950e+08\n",
      "75%    16022.962625  16158.107150  15926.837400  16026.974850  2.668250e+08\n",
      "max    26726.250000  26769.160200  26680.369100  26743.500000  8.239400e+08\n",
      "{'1. Information': 'Daily Prices (open, high, low, close) and Volumes', '2. Symbol': 'DJI', '3. Last Refreshed': '2018-09-26', '4. Output Size': 'Full size', '5. Time Zone': 'US/Eastern'}\n",
      "Index(['2000-01-03', '2000-01-04', '2000-01-05', '2000-01-06', '2000-01-07',\n",
      "       '2000-01-10', '2000-01-11', '2000-01-12', '2000-01-13', '2000-01-14',\n",
      "       ...\n",
      "       '2018-09-13', '2018-09-14', '2018-09-17', '2018-09-18', '2018-09-19',\n",
      "       '2018-09-20', '2018-09-21', '2018-09-24', '2018-09-25', '2018-09-26'],\n",
      "      dtype='object', name='date', length=4714)\n"
     ]
    }
   ],
   "source": [
    "# We can describe it\n",
    "print(data.describe())\n",
    "print(meta_data)\n",
    "print(data.index)"
   ]
  },
  {
   "cell_type": "code",
   "execution_count": 15,
   "metadata": {},
   "outputs": [
    {
     "name": "stdout",
     "output_type": "stream",
     "text": [
      "4714\n",
      "Index(['2000-01-03', '2000-01-04', '2000-01-05', '2000-01-06', '2000-01-07',\n",
      "       '2000-01-10', '2000-01-11', '2000-01-12', '2000-01-13', '2000-01-14',\n",
      "       ...\n",
      "       '2018-09-12', '2018-09-13', '2018-09-14', '2018-09-17', '2018-09-18',\n",
      "       '2018-09-19', '2018-09-20', '2018-09-21', '2018-09-24', '2018-09-25'],\n",
      "      dtype='object', name='date', length=4713)\n",
      "Index(['2000-01-04', '2000-01-05', '2000-01-06', '2000-01-07', '2000-01-10',\n",
      "       '2000-01-11', '2000-01-12', '2000-01-13', '2000-01-14', '2000-01-18',\n",
      "       ...\n",
      "       '2018-09-13', '2018-09-14', '2018-09-17', '2018-09-18', '2018-09-19',\n",
      "       '2018-09-20', '2018-09-21', '2018-09-24', '2018-09-25', '2018-09-26'],\n",
      "      dtype='object', name='date', length=4713)\n",
      "count    4712.0\n",
      "mean        0.0\n",
      "std         0.0\n",
      "min         0.0\n",
      "25%         0.0\n",
      "50%         0.0\n",
      "75%         0.0\n",
      "max         0.0\n",
      "Name: 4. close, dtype: float64\n",
      "10527.79\n",
      "10398.04\n"
     ]
    }
   ],
   "source": [
    "print(data.shape[0])\n",
    "\n",
    "sample_size = data.shape[0]-1\n",
    "endpoints = data[1:]\n",
    "startpoints = data[:sample_size]\n",
    "print (startpoints.index)\n",
    "print (endpoints.index)\n",
    "\n",
    "daily_change = endpoints[\"4. close\"] - startpoints[\"4. close\"]\n",
    "print(daily_change.describe())\n",
    "print(startpoints[\"4. close\"][123])\n",
    "print(endpoints[\"4. close\"][123])\n",
    "#problem probably due lack of re-indexing"
   ]
  },
  {
   "cell_type": "code",
   "execution_count": null,
   "metadata": {},
   "outputs": [],
   "source": []
  }
 ],
 "metadata": {
  "kernelspec": {
   "display_name": "alphavantage",
   "language": "python",
   "name": "alphavantage"
  },
  "language_info": {
   "codemirror_mode": {
    "name": "ipython",
    "version": 3
   },
   "file_extension": ".py",
   "mimetype": "text/x-python",
   "name": "python",
   "nbconvert_exporter": "python",
   "pygments_lexer": "ipython3",
   "version": "3.6.6"
  }
 },
 "nbformat": 4,
 "nbformat_minor": 2
}
