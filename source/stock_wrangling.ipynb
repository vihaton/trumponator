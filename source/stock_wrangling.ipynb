{
 "cells": [
  {
   "cell_type": "markdown",
   "metadata": {},
   "source": [
    "# Wrangle the stock data"
   ]
  },
  {
   "cell_type": "markdown",
   "metadata": {},
   "source": [
    "## Preprocessing"
   ]
  },
  {
   "cell_type": "code",
   "execution_count": 1,
   "metadata": {},
   "outputs": [],
   "source": [
    "%matplotlib inline\n",
    "from alpha_vantage.timeseries import TimeSeries\n",
    "from alpha_vantage.techindicators import TechIndicators\n",
    "from alpha_vantage.sectorperformance import SectorPerformances\n",
    "from alpha_vantage.cryptocurrencies import CryptoCurrencies\n",
    "import matplotlib\n",
    "import matplotlib.pyplot as plt\n",
    "import pandas as pd\n",
    "import os\n",
    "# Make plots bigger\n",
    "matplotlib.rcParams['figure.figsize'] = (20.0, 10.0)\n",
    "API_KEY = \"KRN14ZLFIAEX3YGN\""
   ]
  },
  {
   "cell_type": "code",
   "execution_count": 2,
   "metadata": {},
   "outputs": [],
   "source": [
    "#download the dataset\n",
    "ts = TimeSeries(key=API_KEY, output_format='pandas')\n",
    "#DJI = https://en.wikipedia.org/wiki/Dow_Jones_Industrial_Average\n",
    "\n",
    "#daily - get daily info up to 20a\n",
    "data, meta_data = ts.get_daily(symbol='DJI', outputsize='full')"
   ]
  },
  {
   "cell_type": "code",
   "execution_count": 3,
   "metadata": {},
   "outputs": [
    {
     "name": "stdout",
     "output_type": "stream",
     "text": [
      "            1. open       2. high        3. low      4. close     5. volume\n",
      "count   4722.000000   4722.000000   4722.000000   4722.000000  4.722000e+03\n",
      "mean   13249.980683  13327.121108  13170.300564  13252.687736  2.136707e+08\n",
      "std     4309.066994   4312.059803   4306.639131   4310.291010  9.794801e+07\n",
      "min     6547.009800   6709.609900   6469.950200   6547.049800  8.410000e+06\n",
      "25%    10368.217275  10429.502450  10292.144775  10368.482900  1.386875e+08\n",
      "50%    11568.899900  11638.865250  11502.234850  11572.845200  2.091100e+08\n",
      "75%    16064.364975  16174.142350  15967.260275  16065.444800  2.669050e+08\n",
      "max    26833.470700  26951.810500  26789.080100  26828.390600  8.239400e+08\n",
      "{'1. Information': 'Daily Prices (open, high, low, close) and Volumes', '2. Symbol': 'DJI', '3. Last Refreshed': '2018-10-08', '4. Output Size': 'Full size', '5. Time Zone': 'US/Eastern'}\n"
     ]
    }
   ],
   "source": [
    "# We can describe it\n",
    "print(data.describe())\n",
    "print(meta_data)"
   ]
  },
  {
   "cell_type": "code",
   "execution_count": 4,
   "metadata": {},
   "outputs": [
    {
     "name": "stdout",
     "output_type": "stream",
     "text": [
      "(4722, 5)\n",
      "Index(['2000-01-03', '2000-01-04', '2000-01-05', '2000-01-06', '2000-01-07',\n",
      "       '2000-01-10', '2000-01-11', '2000-01-12', '2000-01-13', '2000-01-14',\n",
      "       ...\n",
      "       '2018-09-24', '2018-09-25', '2018-09-26', '2018-09-27', '2018-09-28',\n",
      "       '2018-10-01', '2018-10-02', '2018-10-03', '2018-10-04', '2018-10-05'],\n",
      "      dtype='object', name='date', length=4721)\n",
      "Index(['2000-01-04', '2000-01-05', '2000-01-06', '2000-01-07', '2000-01-10',\n",
      "       '2000-01-11', '2000-01-12', '2000-01-13', '2000-01-14', '2000-01-18',\n",
      "       ...\n",
      "       '2018-09-25', '2018-09-26', '2018-09-27', '2018-09-28', '2018-10-01',\n",
      "       '2018-10-02', '2018-10-03', '2018-10-04', '2018-10-05', '2018-10-08'],\n",
      "      dtype='object', name='date', length=4721)\n",
      "RangeIndex(start=0, stop=4721, step=1)\n",
      "RangeIndex(start=0, stop=4721, step=1)\n"
     ]
    }
   ],
   "source": [
    "print(data.shape)\n",
    "\n",
    "sample_size = data.shape[0]-1\n",
    "endpoints = data[1:]\n",
    "startpoints = data[:sample_size]\n",
    "\n",
    "print (startpoints.index)\n",
    "print (endpoints.index)\n",
    "\n",
    "#save the startpoint index to be used as the date. This way yesterday's bin will hold value\n",
    "#of change between yesterdays closing and todays closing, so yesterdays tweets get the value impact of today's\n",
    "#stock market value development\n",
    "indexes = startpoints.index\n",
    "\n",
    "#let's reset the indexes\n",
    "startpoints = startpoints.reset_index()\n",
    "endpoints = endpoints.reset_index()\n",
    "print (startpoints.index)\n",
    "print (endpoints.index)\n"
   ]
  },
  {
   "cell_type": "code",
   "execution_count": 5,
   "metadata": {},
   "outputs": [
    {
     "name": "stdout",
     "output_type": "stream",
     "text": [
      "count    4721.000000\n",
      "mean        3.204675\n",
      "std       132.367056\n",
      "min     -1175.210900\n",
      "25%       -57.849600\n",
      "50%         6.060600\n",
      "75%        68.990200\n",
      "max       936.420000\n",
      "Name: daily change, dtype: float64\n",
      "0   -359.5801\n",
      "1    124.7207\n",
      "2    130.6094\n",
      "3    269.2998\n",
      "4     49.6406\n",
      "Name: daily change, dtype: float64\n"
     ]
    }
   ],
   "source": [
    "daily_change = endpoints[\"4. close\"] - startpoints[\"4. close\"]\n",
    "daily_change.name = \"daily change\"\n",
    "df_all = pd.DataFrame(daily_change)\n",
    "\n",
    "print(daily_change.describe())\n",
    "print(daily_change.head())"
   ]
  },
  {
   "cell_type": "markdown",
   "metadata": {},
   "source": [
    "### Separate to positive and negative"
   ]
  },
  {
   "cell_type": "code",
   "execution_count": 6,
   "metadata": {},
   "outputs": [
    {
     "name": "stdout",
     "output_type": "stream",
     "text": [
      "       daily change\n",
      "count   2500.000000\n",
      "mean      90.276773\n",
      "std       87.687571\n",
      "min        0.149400\n",
      "25%       28.849850\n",
      "50%       64.460950\n",
      "75%      122.430475\n",
      "max      936.420000\n",
      "122.43047500000011 28.84985000000006\n"
     ]
    }
   ],
   "source": [
    "#upper bonds\n",
    "import numpy as np\n",
    "\n",
    "mask = df_all[\"daily change\"] > 0\n",
    "df_all_pos = df_all.iloc[mask.values]\n",
    "upper_pos = np.percentile(df_all_pos, 75)\n",
    "lower_pos = np.percentile(df_all_pos, 25)\n",
    "\n",
    "print(df_all_pos.describe())\n",
    "print(upper_pos, lower_pos)"
   ]
  },
  {
   "cell_type": "code",
   "execution_count": 7,
   "metadata": {},
   "outputs": [
    {
     "name": "stdout",
     "output_type": "stream",
     "text": [
      "       daily change\n",
      "count   2218.000000\n",
      "mean     -94.933572\n",
      "std      102.227094\n",
      "min    -1175.210900\n",
      "25%     -128.132800\n",
      "50%      -64.104750\n",
      "75%      -26.677450\n",
      "max       -0.070400\n",
      "-128.13280000000077 -26.677450000001045\n"
     ]
    }
   ],
   "source": [
    "#lower bonds\n",
    "df_all_neg = df_all.iloc[(df_all[\"daily change\"] < 0).values]\n",
    "lower_neg = np.percentile(df_all_neg, 25)\n",
    "upper_neg = np.percentile(df_all_neg, 75)\n",
    "\n",
    "print(df_all_neg.describe())\n",
    "print(lower_neg, upper_neg)"
   ]
  },
  {
   "cell_type": "markdown",
   "metadata": {},
   "source": [
    "## Imputating "
   ]
  },
  {
   "cell_type": "code",
   "execution_count": 8,
   "metadata": {},
   "outputs": [
    {
     "name": "stderr",
     "output_type": "stream",
     "text": [
      "/home/vili/anaconda3/envs/alphavantage/lib/python3.6/site-packages/ipykernel_launcher.py:12: SettingWithCopyWarning: \n",
      "A value is trying to be set on a copy of a slice from a DataFrame.\n",
      "Try using .loc[row_indexer,col_indexer] = value instead\n",
      "\n",
      "See the caveats in the documentation: http://pandas.pydata.org/pandas-docs/stable/indexing.html#indexing-view-versus-copy\n",
      "  if sys.path[0] == '':\n",
      "/home/vili/anaconda3/envs/alphavantage/lib/python3.6/site-packages/pandas/core/indexing.py:543: SettingWithCopyWarning: \n",
      "A value is trying to be set on a copy of a slice from a DataFrame.\n",
      "Try using .loc[row_indexer,col_indexer] = value instead\n",
      "\n",
      "See the caveats in the documentation: http://pandas.pydata.org/pandas-docs/stable/indexing.html#indexing-view-versus-copy\n",
      "  self.obj[item] = s\n"
     ]
    },
    {
     "name": "stdout",
     "output_type": "stream",
     "text": [
      "df_tmp unique values [nan]\n",
      "df_str unique values ['BIGNEG' 'BIGPOS' 'MEDPOS' 'MEDNEG' 'SMAPOS' 'SMANEG']\n",
      "medians {'BIGPOS': 184.91010000000097, 'MEDPOS': 64.46094999999968, 'SMAPOS': 14.310499999999593, 'SMANEG': -11.875, 'MEDNEG': -64.10474999999906, 'BIGNEG': -195.84179999999833}\n"
     ]
    }
   ],
   "source": [
    "df_str = df_all.copy() # to store final classes BIGPOS MEDPOS SMAPOS SMANEG MEDNEG BIGNEG\n",
    "df_tmp = df_all.copy() # to store the data, overwritten during the process\n",
    "\n",
    "#returns median of the interval\n",
    "def update_to_string_classes(df_str, df_tmp, bigger, treshold, string):\n",
    "    if (bigger):\n",
    "        mask = (df_tmp[\"daily change\"] > treshold).values\n",
    "    else:\n",
    "        mask = (df_tmp[\"daily change\"] < treshold).values\n",
    "    pos = df_tmp.iloc[mask]\n",
    "    median = pos.median().values[0]\n",
    "    pos[:] = string\n",
    "    df_str.update(pos)\n",
    "    df_tmp.iloc[mask] = None\n",
    "    return median\n",
    "\n",
    "medians = {}\n",
    "medians[\"BIGPOS\"] = update_to_string_classes(df_str, df_tmp, True, upper_pos, \"BIGPOS\")\n",
    "medians[\"MEDPOS\"] = update_to_string_classes(df_str, df_tmp, True, lower_pos, \"MEDPOS\")\n",
    "medians[\"SMAPOS\"] = update_to_string_classes(df_str, df_tmp, True, 0, \"SMAPOS\")\n",
    "medians[\"SMANEG\"] = update_to_string_classes(df_str, df_tmp, True, upper_neg, \"SMANEG\")\n",
    "medians[\"MEDNEG\"] = update_to_string_classes(df_str, df_tmp, True, lower_neg, \"MEDNEG\")\n",
    "medians[\"BIGNEG\"] = update_to_string_classes(df_str, df_tmp, False, 0, \"BIGNEG\")\n",
    "\n",
    "print(\"df_tmp unique values\", df_tmp[\"daily change\"].unique())\n",
    "print(\"df_str unique values\", df_str[\"daily change\"].unique())\n",
    "print(\"medians\", medians)"
   ]
  },
  {
   "cell_type": "code",
   "execution_count": 9,
   "metadata": {
    "scrolled": true
   },
   "outputs": [
    {
     "name": "stdout",
     "output_type": "stream",
     "text": [
      "Before creating the missing days\n",
      " DatetimeIndex(['2000-01-03', '2000-01-04', '2000-01-05', '2000-01-06',\n",
      "               '2000-01-07', '2000-01-10', '2000-01-11', '2000-01-12',\n",
      "               '2000-01-13', '2000-01-14'],\n",
      "              dtype='datetime64[ns]', name='date', freq=None) length  4721\n",
      "After creating the missing days\n",
      " DatetimeIndex(['2000-01-03', '2000-01-04', '2000-01-05', '2000-01-06',\n",
      "               '2000-01-07', '2000-01-08', '2000-01-09', '2000-01-10',\n",
      "               '2000-01-11', '2000-01-12'],\n",
      "              dtype='datetime64[ns]', freq='D') length  6851\n"
     ]
    }
   ],
   "source": [
    "# change the dates in indexes to pandas Timestamps\n",
    "indexes = pd.to_datetime(indexes)\n",
    "\n",
    "#use the saved value for date-data\n",
    "dates = indexes\n",
    "\n",
    "#create the missing weekends\n",
    "print(\"Before creating the missing days\\n\", dates[:10], \"length \", len(dates))\n",
    "imp_dates = pd.date_range(dates[0], dates[-1])\n",
    "print(\"After creating the missing days\\n\", imp_dates[:10], \"length \", len(imp_dates))"
   ]
  },
  {
   "cell_type": "code",
   "execution_count": 10,
   "metadata": {},
   "outputs": [
    {
     "name": "stdout",
     "output_type": "stream",
     "text": [
      "2000-01-03    BIGNEG\n",
      "2000-01-04    BIGPOS\n",
      "2000-01-05    BIGPOS\n",
      "2000-01-06    BIGPOS\n",
      "2000-01-07    MEDPOS\n",
      "2000-01-08       NaN\n",
      "2000-01-09       NaN\n",
      "2000-01-10    MEDNEG\n",
      "2000-01-11    MEDPOS\n",
      "2000-01-12    MEDPOS\n",
      "Freq: D, Name: daily change, dtype: object\n"
     ]
    }
   ],
   "source": [
    "#impute the missing data with zeros\n",
    "df_str.index = dates\n",
    "df_str = df_str.reindex(imp_dates, fill_value=None)\n",
    "\n",
    "print (df_str[\"daily change\"][:10])"
   ]
  },
  {
   "cell_type": "code",
   "execution_count": 11,
   "metadata": {},
   "outputs": [
    {
     "name": "stdout",
     "output_type": "stream",
     "text": [
      "2000-01-03    BIGNEG\n",
      "2000-01-04    BIGPOS\n",
      "2000-01-05    BIGPOS\n",
      "2000-01-06    BIGPOS\n",
      "2000-01-07    MEDPOS\n",
      "2000-01-08    MEDPOS\n",
      "2000-01-09    MEDPOS\n",
      "2000-01-10    MEDNEG\n",
      "2000-01-11    MEDPOS\n",
      "2000-01-12    MEDPOS\n",
      "Freq: D, Name: daily change, dtype: object\n",
      "df_str unique values ['BIGNEG' 'BIGPOS' 'MEDPOS' 'MEDNEG' 'SMAPOS' 'SMANEG']\n"
     ]
    }
   ],
   "source": [
    "#impute with padding Friday values to the weekend days\n",
    "df_str = df_str.fillna(method=\"pad\")\n",
    "\n",
    "print(df_str[\"daily change\"][:10])\n",
    "print(\"df_str unique values\", df_str[\"daily change\"].unique())"
   ]
  },
  {
   "cell_type": "markdown",
   "metadata": {},
   "source": [
    "## Visualize"
   ]
  },
  {
   "cell_type": "code",
   "execution_count": 12,
   "metadata": {
    "scrolled": true
   },
   "outputs": [
    {
     "data": {
      "image/png": "[encoded data removed]",
      "text/plain": [
       "<Figure size 432x288 with 1 Axes>"
      ]
     },
     "metadata": {
      "needs_background": "light"
     },
     "output_type": "display_data"
    }
   ],
   "source": [
    "fig, ax = plt.subplots()\n",
    "ax.plot(dates, daily_change)\n",
    "\n",
    "# rotates and right aligns the x labels, and moves the bottom of the\n",
    "# axes up to make room for them\n",
    "fig.autofmt_xdate()\n",
    "plt.grid()\n",
    "plt.show()"
   ]
  },
  {
   "cell_type": "code",
   "execution_count": 13,
   "metadata": {},
   "outputs": [],
   "source": [
    "a = 365\n",
    "x = len(df_str.index)\n",
    "\n",
    "dates_year = df_str.index[x-a:]\n",
    "data_year = df_str[\"daily change\"][x-a:]\n"
   ]
  },
  {
   "cell_type": "code",
   "execution_count": 14,
   "metadata": {},
   "outputs": [
    {
     "data": {
      "image/png": "[encoded data removed]",
      "text/plain": [
       "<Figure size 432x288 with 1 Axes>"
      ]
     },
     "metadata": {
      "needs_background": "light"
     },
     "output_type": "display_data"
    }
   ],
   "source": [
    "## WATCH OUT FOR Y AXIS LABELS !!!\n",
    "fig, ax = plt.subplots()\n",
    "ax.plot(dates_year, data_year)\n",
    "\n",
    "fig.autofmt_xdate()\n",
    "\n",
    "plt.grid()\n",
    "plt.show()"
   ]
  },
  {
   "cell_type": "code",
   "execution_count": 15,
   "metadata": {
    "scrolled": true
   },
   "outputs": [
    {
     "data": {
      "image/png": "[encoded data removed]",
      "text/plain": [
       "<Figure size 432x288 with 1 Axes>"
      ]
     },
     "metadata": {
      "needs_background": "light"
     },
     "output_type": "display_data"
    }
   ],
   "source": [
    "#example of using different locator\n",
    "import matplotlib.dates as mdates\n",
    "\n",
    "## WATCH OUT FOR Y AXIS LABELS !!!\n",
    "\n",
    "fig, ax = plt.subplots()\n",
    "ax.plot(dates_year, data_year)\n",
    "\n",
    "#yearLoc = mdates.YearLocator()\n",
    "#ax.xaxis.set_major_locator(yearLoc)\n",
    "#ax.xaxis.set_major_formatter(mdates.DateFormatter(\"%Y-%m-%d\"))\n",
    "\n",
    "monthLoc = mdates.MonthLocator()\n",
    "ax.xaxis.set_major_locator(monthLoc)\n",
    "#ax.xaxis.set_minor_locator(monthLoc)\n",
    "ax.xaxis.set_major_formatter(mdates.DateFormatter(\"%Y-%m\"))\n",
    "#ax.xaxis.set_minor_formatter(mdates.DateFormatter(\"%Y-%m\"))\n",
    "\n",
    "fig.autofmt_xdate()\n",
    "\n",
    "plt.grid()\n",
    "plt.show()"
   ]
  },
  {
   "cell_type": "code",
   "execution_count": 16,
   "metadata": {},
   "outputs": [
    {
     "name": "stdout",
     "output_type": "stream",
     "text": [
      "count    4721.000000\n",
      "mean        3.204675\n",
      "std       132.367056\n",
      "min     -1175.210900\n",
      "25%       -57.849600\n",
      "50%         6.060600\n",
      "75%        68.990200\n",
      "max       936.420000\n",
      "Name: daily change, dtype: float64\n"
     ]
    },
    {
     "data": {
      "image/png": "[encoded data removed]",
      "text/plain": [
       "<Figure size 432x288 with 1 Axes>"
      ]
     },
     "metadata": {
      "needs_background": "light"
     },
     "output_type": "display_data"
    }
   ],
   "source": [
    "fig, ax = plt.subplots()\n",
    "ax.boxplot(df_all[\"daily change\"].values)\n",
    "\n",
    "print(df_all[\"daily change\"].describe())\n"
   ]
  },
  {
   "cell_type": "markdown",
   "metadata": {},
   "source": [
    "## Store the data as json"
   ]
  },
  {
   "cell_type": "code",
   "execution_count": 25,
   "metadata": {},
   "outputs": [
    {
     "name": "stdout",
     "output_type": "stream",
     "text": [
      "       daily change\n",
      "count          6851\n",
      "unique            6\n",
      "top          MEDPOS\n",
      "freq           1753\n"
     ]
    },
    {
     "data": {
      "text/html": [
       "<div>\n",
       "<style scoped>\n",
       "    .dataframe tbody tr th:only-of-type {\n",
       "        vertical-align: middle;\n",
       "    }\n",
       "\n",
       "    .dataframe tbody tr th {\n",
       "        vertical-align: top;\n",
       "    }\n",
       "\n",
       "    .dataframe thead th {\n",
       "        text-align: right;\n",
       "    }\n",
       "</style>\n",
       "<table border=\"1\" class=\"dataframe\">\n",
       "  <thead>\n",
       "    <tr style=\"text-align: right;\">\n",
       "      <th></th>\n",
       "      <th>daily change</th>\n",
       "    </tr>\n",
       "  </thead>\n",
       "  <tbody>\n",
       "    <tr>\n",
       "      <th>2000-01-03</th>\n",
       "      <td>BIGNEG</td>\n",
       "    </tr>\n",
       "    <tr>\n",
       "      <th>2000-01-04</th>\n",
       "      <td>BIGPOS</td>\n",
       "    </tr>\n",
       "    <tr>\n",
       "      <th>2000-01-05</th>\n",
       "      <td>BIGPOS</td>\n",
       "    </tr>\n",
       "    <tr>\n",
       "      <th>2000-01-06</th>\n",
       "      <td>BIGPOS</td>\n",
       "    </tr>\n",
       "    <tr>\n",
       "      <th>2000-01-07</th>\n",
       "      <td>MEDPOS</td>\n",
       "    </tr>\n",
       "  </tbody>\n",
       "</table>\n",
       "</div>"
      ],
      "text/plain": [
       "           daily change\n",
       "2000-01-03       BIGNEG\n",
       "2000-01-04       BIGPOS\n",
       "2000-01-05       BIGPOS\n",
       "2000-01-06       BIGPOS\n",
       "2000-01-07       MEDPOS"
      ]
     },
     "execution_count": 25,
     "metadata": {},
     "output_type": "execute_result"
    }
   ],
   "source": [
    "#write data as json\n",
    "import json\n",
    "\n",
    "print(df_str.describe())\n",
    "\n",
    "folder = \"../data/\"\n",
    "name = \"DJI-20years-daily-change.csv\"\n",
    "with open(folder + name, 'w') as file:\n",
    "    file.write(df_str.to_csv())\n",
    "df_str.head()"
   ]
  },
  {
   "cell_type": "code",
   "execution_count": 26,
   "metadata": {},
   "outputs": [
    {
     "name": "stdout",
     "output_type": "stream",
     "text": [
      "        Unnamed: 0 daily change\n",
      "count         6851         6851\n",
      "unique        6851            6\n",
      "top     2008-01-29       MEDPOS\n",
      "freq             1         1753\n"
     ]
    },
    {
     "data": {
      "text/html": [
       "<div>\n",
       "<style scoped>\n",
       "    .dataframe tbody tr th:only-of-type {\n",
       "        vertical-align: middle;\n",
       "    }\n",
       "\n",
       "    .dataframe tbody tr th {\n",
       "        vertical-align: top;\n",
       "    }\n",
       "\n",
       "    .dataframe thead th {\n",
       "        text-align: right;\n",
       "    }\n",
       "</style>\n",
       "<table border=\"1\" class=\"dataframe\">\n",
       "  <thead>\n",
       "    <tr style=\"text-align: right;\">\n",
       "      <th></th>\n",
       "      <th>Unnamed: 0</th>\n",
       "      <th>daily change</th>\n",
       "    </tr>\n",
       "  </thead>\n",
       "  <tbody>\n",
       "    <tr>\n",
       "      <th>0</th>\n",
       "      <td>2000-01-03</td>\n",
       "      <td>BIGNEG</td>\n",
       "    </tr>\n",
       "    <tr>\n",
       "      <th>1</th>\n",
       "      <td>2000-01-04</td>\n",
       "      <td>BIGPOS</td>\n",
       "    </tr>\n",
       "    <tr>\n",
       "      <th>2</th>\n",
       "      <td>2000-01-05</td>\n",
       "      <td>BIGPOS</td>\n",
       "    </tr>\n",
       "    <tr>\n",
       "      <th>3</th>\n",
       "      <td>2000-01-06</td>\n",
       "      <td>BIGPOS</td>\n",
       "    </tr>\n",
       "    <tr>\n",
       "      <th>4</th>\n",
       "      <td>2000-01-07</td>\n",
       "      <td>MEDPOS</td>\n",
       "    </tr>\n",
       "  </tbody>\n",
       "</table>\n",
       "</div>"
      ],
      "text/plain": [
       "   Unnamed: 0 daily change\n",
       "0  2000-01-03       BIGNEG\n",
       "1  2000-01-04       BIGPOS\n",
       "2  2000-01-05       BIGPOS\n",
       "3  2000-01-06       BIGPOS\n",
       "4  2000-01-07       MEDPOS"
      ]
     },
     "execution_count": 26,
     "metadata": {},
     "output_type": "execute_result"
    }
   ],
   "source": [
    "#read data as json\n",
    "import json\n",
    "\n",
    "name = \"DJI-20years-daily-change.csv\"\n",
    "with open(folder + name, \"r\") as file:\n",
    "    read_frame = pd.read_csv(file)\n",
    "print(read_frame.describe())\n",
    "read_frame.head()"
   ]
  },
  {
   "cell_type": "code",
   "execution_count": 27,
   "metadata": {},
   "outputs": [
    {
     "name": "stdout",
     "output_type": "stream",
     "text": [
      "       daily change\n",
      "count           365\n",
      "unique            6\n",
      "top          MEDPOS\n",
      "freq             90\n"
     ]
    }
   ],
   "source": [
    "#write the one year data to json file\n",
    "df = pd.DataFrame(data_year)\n",
    "df.index = dates_year\n",
    "print(df.describe())\n",
    "\n",
    "folder = \"../data/\"\n",
    "latest_date = df.index[-1].strftime('%Y-%m-%d')\n",
    "name = \"DJI-last-year-stock-until-\" + latest_date + \".csv\"\n",
    "\n",
    "with open(folder + name, \"w\") as file:\n",
    "    file.write(df.to_csv())"
   ]
  },
  {
   "cell_type": "code",
   "execution_count": 28,
   "metadata": {},
   "outputs": [
    {
     "name": "stdout",
     "output_type": "stream",
     "text": [
      "        Unnamed: 0 daily change\n",
      "count          365          365\n",
      "unique         365            6\n",
      "top     2018-08-24       MEDPOS\n",
      "freq             1           90\n"
     ]
    }
   ],
   "source": [
    "#read one year data\n",
    "\n",
    "import os\n",
    "\n",
    "df = None\n",
    "os.chdir(\"../data/\")\n",
    "for filename in os.listdir():\n",
    "    if os.path.isfile(filename):\n",
    "        with open(filename, \"r\") as file:\n",
    "            if \"DJI-last-year-stock-until-\" in file.name:\n",
    "                df = pd.read_csv(file)\n",
    "                break\n",
    "                \n",
    "if df is None: print(\"file not found!\")\n",
    "else: print(df.describe())"
   ]
  },
  {
   "cell_type": "code",
   "execution_count": null,
   "metadata": {},
   "outputs": [],
   "source": []
  }
 ],
 "metadata": {
  "kernelspec": {
   "display_name": "alphavantage",
   "language": "python",
   "name": "alphavantage"
  },
  "language_info": {
   "codemirror_mode": {
    "name": "ipython",
    "version": 3
   },
   "file_extension": ".py",
   "mimetype": "text/x-python",
   "name": "python",
   "nbconvert_exporter": "python",
   "pygments_lexer": "ipython3",
   "version": "3.6.6"
  }
 },
 "nbformat": 4,
 "nbformat_minor": 2
}
