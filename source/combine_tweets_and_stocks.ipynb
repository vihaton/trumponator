{
 "cells": [
  {
   "cell_type": "code",
   "execution_count": 1,
   "metadata": {},
   "outputs": [],
   "source": [
    "import pandas as pd\n",
    "DATA_DIR = \"../data/\""
   ]
  },
  {
   "cell_type": "code",
   "execution_count": 38,
   "metadata": {},
   "outputs": [
    {
     "name": "stdout",
     "output_type": "stream",
     "text": [
      "         text                                   timestamp\n",
      "count   18473                                       18473\n",
      "unique  12729                                       13064\n",
      "top     https  datetime.datetime(2018, 7, 15, 13, 33, 15)\n",
      "freq       79                                          10\n"
     ]
    }
   ],
   "source": [
    "#read tweets\n",
    "\n",
    "name_tweets = DATA_DIR + \"clean_tweets/clean_tweets_all.json\"\n",
    "\n",
    "with open(name_tweets, \"r\") as file:\n",
    "    tweets_df = pd.read_json(file, orient='index')\n",
    "    \n",
    "print(tweets_df.describe())"
   ]
  },
  {
   "cell_type": "code",
   "execution_count": 39,
   "metadata": {},
   "outputs": [
    {
     "data": {
      "text/html": [
       "<div>\n",
       "<style scoped>\n",
       "    .dataframe tbody tr th:only-of-type {\n",
       "        vertical-align: middle;\n",
       "    }\n",
       "\n",
       "    .dataframe tbody tr th {\n",
       "        vertical-align: top;\n",
       "    }\n",
       "\n",
       "    .dataframe thead th {\n",
       "        text-align: right;\n",
       "    }\n",
       "</style>\n",
       "<table border=\"1\" class=\"dataframe\">\n",
       "  <thead>\n",
       "    <tr style=\"text-align: right;\">\n",
       "      <th></th>\n",
       "      <th>text</th>\n",
       "      <th>timestamp</th>\n",
       "    </tr>\n",
       "  </thead>\n",
       "  <tbody>\n",
       "    <tr>\n",
       "      <th>0</th>\n",
       "      <td>thank you iowa get out votetrumppence https https</td>\n",
       "      <td>datetime.datetime(2016, 11, 6, 19, 26, 58)</td>\n",
       "    </tr>\n",
       "    <tr>\n",
       "      <th>1</th>\n",
       "      <td>rt https thank you new hampshire https</td>\n",
       "      <td>datetime.datetime(2016, 11, 6, 18, 9, 44)</td>\n",
       "    </tr>\n",
       "    <tr>\n",
       "      <th>2</th>\n",
       "      <td>van jones there is a crack in the blue wall it...</td>\n",
       "      <td>datetime.datetime(2016, 11, 6, 17, 6, 8)</td>\n",
       "    </tr>\n",
       "    <tr>\n",
       "      <th>3</th>\n",
       "      <td>great night in denver colorado thank you toget...</td>\n",
       "      <td>datetime.datetime(2016, 11, 6, 6, 8, 32)</td>\n",
       "    </tr>\n",
       "    <tr>\n",
       "      <th>4</th>\n",
       "      <td>rt https join https live in denver colorado vi...</td>\n",
       "      <td>datetime.datetime(2016, 11, 6, 4, 27)</td>\n",
       "    </tr>\n",
       "  </tbody>\n",
       "</table>\n",
       "</div>"
      ],
      "text/plain": [
       "                                                text  \\\n",
       "0  thank you iowa get out votetrumppence https https   \n",
       "1             rt https thank you new hampshire https   \n",
       "2  van jones there is a crack in the blue wall it...   \n",
       "3  great night in denver colorado thank you toget...   \n",
       "4  rt https join https live in denver colorado vi...   \n",
       "\n",
       "                                    timestamp  \n",
       "0  datetime.datetime(2016, 11, 6, 19, 26, 58)  \n",
       "1   datetime.datetime(2016, 11, 6, 18, 9, 44)  \n",
       "2    datetime.datetime(2016, 11, 6, 17, 6, 8)  \n",
       "3    datetime.datetime(2016, 11, 6, 6, 8, 32)  \n",
       "4       datetime.datetime(2016, 11, 6, 4, 27)  "
      ]
     },
     "execution_count": 39,
     "metadata": {},
     "output_type": "execute_result"
    }
   ],
   "source": [
    "tweets_df.head()"
   ]
  },
  {
   "cell_type": "code",
   "execution_count": 73,
   "metadata": {},
   "outputs": [
    {
     "name": "stdout",
     "output_type": "stream",
     "text": [
      "datetime.datetime(2016, 11, 6, 19, 26, 58)\n",
      "2016, 11, 6, 19, 26, 58)\n",
      "2016-11-06 19:26:58\n"
     ]
    }
   ],
   "source": [
    "#example how to parse the nice datetime.datetime string...\n",
    "from datetime import datetime\n",
    "\n",
    "time = tweets_df[\"timestamp\"][0]\n",
    "print(time)\n",
    "time = time[18:]\n",
    "print(time)\n",
    "t = datetime.strptime(time[:len(time)-1], \"%Y, %m, %d, %H, %M, %S\")\n",
    "print(t)\n",
    "\n",
    "def parse_to_datetime(time_string):\n",
    "    time = time_string[18:]\n",
    "    try:\n",
    "        t = datetime.strptime(time[:len(time)-1], \"%Y, %m, %d, %H, %M, %S\")\n",
    "    except ValueError:\n",
    "        #print(\"Taivas varjele mikä sieltä tulee!!! Sekunnit puuttuu\", time)\n",
    "        t = datetime.strptime(time[:len(time)-1], \"%Y, %m, %d, %H, %M\")\n",
    "        \n",
    "    return t\n"
   ]
  },
  {
   "cell_type": "code",
   "execution_count": 31,
   "metadata": {},
   "outputs": [
    {
     "name": "stdout",
     "output_type": "stream",
     "text": [
      "       daily change\n",
      "count          6851\n",
      "unique            6\n",
      "top          MEDPOS\n",
      "freq           1753\n"
     ]
    }
   ],
   "source": [
    "#read stock data\n",
    "\n",
    "name_stock = DATA_DIR + \"DJI-20years-daily-change.json\"\n",
    "\n",
    "with open(name_stock, \"r\") as file:\n",
    "    stock_df = pd.read_json(file, orient=\"split\")\n",
    "    \n",
    "print(stock_df.describe())"
   ]
  },
  {
   "cell_type": "code",
   "execution_count": 33,
   "metadata": {},
   "outputs": [
    {
     "data": {
      "text/html": [
       "<div>\n",
       "<style scoped>\n",
       "    .dataframe tbody tr th:only-of-type {\n",
       "        vertical-align: middle;\n",
       "    }\n",
       "\n",
       "    .dataframe tbody tr th {\n",
       "        vertical-align: top;\n",
       "    }\n",
       "\n",
       "    .dataframe thead th {\n",
       "        text-align: right;\n",
       "    }\n",
       "</style>\n",
       "<table border=\"1\" class=\"dataframe\">\n",
       "  <thead>\n",
       "    <tr style=\"text-align: right;\">\n",
       "      <th></th>\n",
       "      <th>daily change</th>\n",
       "    </tr>\n",
       "  </thead>\n",
       "  <tbody>\n",
       "    <tr>\n",
       "      <th>2000-01-03</th>\n",
       "      <td>BIGNEG</td>\n",
       "    </tr>\n",
       "    <tr>\n",
       "      <th>2000-01-04</th>\n",
       "      <td>BIGPOS</td>\n",
       "    </tr>\n",
       "    <tr>\n",
       "      <th>2000-01-05</th>\n",
       "      <td>BIGPOS</td>\n",
       "    </tr>\n",
       "    <tr>\n",
       "      <th>2000-01-06</th>\n",
       "      <td>BIGPOS</td>\n",
       "    </tr>\n",
       "    <tr>\n",
       "      <th>2000-01-07</th>\n",
       "      <td>MEDPOS</td>\n",
       "    </tr>\n",
       "  </tbody>\n",
       "</table>\n",
       "</div>"
      ],
      "text/plain": [
       "           daily change\n",
       "2000-01-03       BIGNEG\n",
       "2000-01-04       BIGPOS\n",
       "2000-01-05       BIGPOS\n",
       "2000-01-06       BIGPOS\n",
       "2000-01-07       MEDPOS"
      ]
     },
     "execution_count": 33,
     "metadata": {},
     "output_type": "execute_result"
    }
   ],
   "source": [
    "stock_df.head()"
   ]
  },
  {
   "cell_type": "code",
   "execution_count": 83,
   "metadata": {},
   "outputs": [
    {
     "name": "stdout",
     "output_type": "stream",
     "text": [
      "(18473, 3)\n",
      "progress  0.0\n",
      "progress  0.027066529529583716\n",
      "progress  0.05413305905916743\n",
      "progress  0.08119958858875115\n",
      "progress  0.10826611811833486\n",
      "progress  0.13533264764791858\n",
      "progress  0.1623991771775023\n",
      "progress  0.189465706707086\n",
      "progress  0.21653223623666973\n",
      "progress  0.24359876576625344\n",
      "progress  0.27066529529583716\n",
      "progress  0.2977318248254209\n",
      "progress  0.3247983543550046\n",
      "progress  0.3518648838845883\n",
      "progress  0.378931413414172\n",
      "progress  0.40599794294375574\n",
      "progress  0.43306447247333946\n",
      "progress  0.4601310020029232\n",
      "progress  0.4871975315325069\n",
      "progress  0.5142640610620907\n",
      "progress  0.5413305905916743\n",
      "progress  0.5683971201212581\n",
      "progress  0.5954636496508418\n",
      "progress  0.6225301791804255\n",
      "progress  0.6495967087100092\n",
      "progress  0.676663238239593\n",
      "progress  0.7037297677691766\n",
      "progress  0.7307962972987604\n",
      "progress  0.757862826828344\n",
      "progress  0.7849293563579278\n",
      "progress  0.8119958858875115\n",
      "progress  0.8390624154170953\n",
      "progress  0.8661289449466789\n",
      "progress  0.8931954744762627\n",
      "progress  0.9202620040058463\n",
      "progress  0.9473285335354301\n",
      "progress  0.9743950630650138\n"
     ]
    }
   ],
   "source": [
    "#combine the data\n",
    "\n",
    "classified = pd.DataFrame(columns=[\"timestamp\", \"text\", \"value change\"], index=tweets_df.index)\n",
    "print(classified.shape)\n",
    "for i, text in enumerate(tweets_df[\"text\"]):\n",
    "    if i%500==0: print(\"progress \", i/classified.shape[0])\n",
    "        \n",
    "    time = tweets_df[\"timestamp\"][i]\n",
    "    t = parse_to_datetime(time)\n",
    "    \n",
    "    #find the date in stocks dataframe\n",
    "    \n",
    "    \n",
    "    #fetch the change of the tweet's day\n",
    "    change = stock_df.loc[stock_df.index[0], \"daily change\"]\n",
    "    \n",
    "    #save to datastruct\n",
    "    classified[\"timestamp\"][i] = t\n",
    "    classified[\"text\"][i] = text\n",
    "    classified[\"value change\"][i] = change\n"
   ]
  },
  {
   "cell_type": "code",
   "execution_count": 84,
   "metadata": {},
   "outputs": [
    {
     "name": "stdout",
     "output_type": "stream",
     "text": [
      "                  timestamp   text value change\n",
      "count                 18473  18473        18473\n",
      "unique                13064  12729            1\n",
      "top     2018-07-15 13:33:15  https       BIGNEG\n",
      "freq                     10     79        18473\n",
      "             timestamp                                               text  \\\n",
      "0  2016-11-06 19:26:58  thank you iowa get out votetrumppence https https   \n",
      "1  2016-11-06 18:09:44             rt https thank you new hampshire https   \n",
      "2  2016-11-06 17:06:08  van jones there is a crack in the blue wall it...   \n",
      "3  2016-11-06 06:08:32  great night in denver colorado thank you toget...   \n",
      "4  2016-11-06 04:27:00  rt https join https live in denver colorado vi...   \n",
      "\n",
      "  value change  \n",
      "0       BIGNEG  \n",
      "1       BIGNEG  \n",
      "2       BIGNEG  \n",
      "3       BIGNEG  \n",
      "4       BIGNEG  \n"
     ]
    },
    {
     "data": {
      "text/html": [
       "<div>\n",
       "<style scoped>\n",
       "    .dataframe tbody tr th:only-of-type {\n",
       "        vertical-align: middle;\n",
       "    }\n",
       "\n",
       "    .dataframe tbody tr th {\n",
       "        vertical-align: top;\n",
       "    }\n",
       "\n",
       "    .dataframe thead th {\n",
       "        text-align: right;\n",
       "    }\n",
       "</style>\n",
       "<table border=\"1\" class=\"dataframe\">\n",
       "  <thead>\n",
       "    <tr style=\"text-align: right;\">\n",
       "      <th></th>\n",
       "      <th>timestamp</th>\n",
       "      <th>text</th>\n",
       "      <th>value change</th>\n",
       "    </tr>\n",
       "  </thead>\n",
       "  <tbody>\n",
       "    <tr>\n",
       "      <th>18468</th>\n",
       "      <td>2017-09-30 19:43:54</td>\n",
       "      <td>congresswoman jennifer gonzalez colon of puert...</td>\n",
       "      <td>BIGNEG</td>\n",
       "    </tr>\n",
       "    <tr>\n",
       "      <th>18469</th>\n",
       "      <td>2017-09-30 19:30:17</td>\n",
       "      <td>just spoke to governor kenneth mapp of the u s...</td>\n",
       "      <td>BIGNEG</td>\n",
       "    </tr>\n",
       "    <tr>\n",
       "      <th>18470</th>\n",
       "      <td>2017-09-30 19:19:36</td>\n",
       "      <td>the governor of puerto rico ricardo rossello i...</td>\n",
       "      <td>BIGNEG</td>\n",
       "    </tr>\n",
       "    <tr>\n",
       "      <th>18471</th>\n",
       "      <td>2017-09-30 18:04:59</td>\n",
       "      <td>despite the fake news media in conjunction wit...</td>\n",
       "      <td>BIGNEG</td>\n",
       "    </tr>\n",
       "    <tr>\n",
       "      <th>18472</th>\n",
       "      <td>2017-09-30 12:07:09</td>\n",
       "      <td>the fake news networks are working overtime in...</td>\n",
       "      <td>BIGNEG</td>\n",
       "    </tr>\n",
       "  </tbody>\n",
       "</table>\n",
       "</div>"
      ],
      "text/plain": [
       "                 timestamp                                               text  \\\n",
       "18468  2017-09-30 19:43:54  congresswoman jennifer gonzalez colon of puert...   \n",
       "18469  2017-09-30 19:30:17  just spoke to governor kenneth mapp of the u s...   \n",
       "18470  2017-09-30 19:19:36  the governor of puerto rico ricardo rossello i...   \n",
       "18471  2017-09-30 18:04:59  despite the fake news media in conjunction wit...   \n",
       "18472  2017-09-30 12:07:09  the fake news networks are working overtime in...   \n",
       "\n",
       "      value change  \n",
       "18468       BIGNEG  \n",
       "18469       BIGNEG  \n",
       "18470       BIGNEG  \n",
       "18471       BIGNEG  \n",
       "18472       BIGNEG  "
      ]
     },
     "execution_count": 84,
     "metadata": {},
     "output_type": "execute_result"
    }
   ],
   "source": [
    "print(classified.describe())\n",
    "print(classified.head())\n",
    "classified.tail()"
   ]
  },
  {
   "cell_type": "code",
   "execution_count": 5,
   "metadata": {},
   "outputs": [],
   "source": [
    "#save the data for model training"
   ]
  }
 ],
 "metadata": {
  "kernelspec": {
   "display_name": "Python 3",
   "language": "python",
   "name": "python3"
  },
  "language_info": {
   "codemirror_mode": {
    "name": "ipython",
    "version": 3
   },
   "file_extension": ".py",
   "mimetype": "text/x-python",
   "name": "python",
   "nbconvert_exporter": "python",
   "pygments_lexer": "ipython3",
   "version": "3.6.5"
  }
 },
 "nbformat": 4,
 "nbformat_minor": 2
}
