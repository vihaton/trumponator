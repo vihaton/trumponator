{
 "cells": [
  {
   "cell_type": "code",
   "execution_count": 1,
   "metadata": {},
   "outputs": [],
   "source": [
    "import pandas as pd\n",
    "DATA_DIR = \"../data/\""
   ]
  },
  {
   "cell_type": "code",
   "execution_count": 2,
   "metadata": {},
   "outputs": [
    {
     "name": "stdout",
     "output_type": "stream",
     "text": [
      "         text                                   timestamp  \\\n",
      "count   18473                                       18473   \n",
      "unique  12729                                       13064   \n",
      "top     https  datetime.datetime(2018, 7, 15, 13, 33, 15)   \n",
      "freq       79                                          10   \n",
      "\n",
      "                            tweet  \n",
      "count                       18473  \n",
      "unique                      13063  \n",
      "top     MAKE AMERICA GREAT AGAIN!  \n",
      "freq                           27  \n"
     ]
    }
   ],
   "source": [
    "#read tweets\n",
    "\n",
    "name_tweets = DATA_DIR + \"clean_tweets/clean_tweets_all.json\"\n",
    "\n",
    "with open(name_tweets, \"r\") as file:\n",
    "    tweets_df = pd.read_json(file, orient='index')\n",
    "    \n",
    "print(tweets_df.describe())"
   ]
  },
  {
   "cell_type": "code",
   "execution_count": 3,
   "metadata": {},
   "outputs": [
    {
     "data": {
      "text/html": [
       "<div>\n",
       "<style scoped>\n",
       "    .dataframe tbody tr th:only-of-type {\n",
       "        vertical-align: middle;\n",
       "    }\n",
       "\n",
       "    .dataframe tbody tr th {\n",
       "        vertical-align: top;\n",
       "    }\n",
       "\n",
       "    .dataframe thead th {\n",
       "        text-align: right;\n",
       "    }\n",
       "</style>\n",
       "<table border=\"1\" class=\"dataframe\">\n",
       "  <thead>\n",
       "    <tr style=\"text-align: right;\">\n",
       "      <th></th>\n",
       "      <th>text</th>\n",
       "      <th>timestamp</th>\n",
       "      <th>tweet</th>\n",
       "    </tr>\n",
       "  </thead>\n",
       "  <tbody>\n",
       "    <tr>\n",
       "      <th>0</th>\n",
       "      <td>thank you iowa get out votetrumppence https https</td>\n",
       "      <td>datetime.datetime(2016, 11, 6, 19, 26, 58)</td>\n",
       "      <td>Thank you Iowa - Get out &amp;amp; #VoteTrumpPence...</td>\n",
       "    </tr>\n",
       "    <tr>\n",
       "      <th>1</th>\n",
       "      <td>rt https thank you new hampshire https</td>\n",
       "      <td>datetime.datetime(2016, 11, 6, 18, 9, 44)</td>\n",
       "      <td>RT @IvankaTrump: Thank you New Hampshire! ????...</td>\n",
       "    </tr>\n",
       "    <tr>\n",
       "      <th>2</th>\n",
       "      <td>van jones there is a crack in the blue wall it...</td>\n",
       "      <td>datetime.datetime(2016, 11, 6, 17, 6, 8)</td>\n",
       "      <td>Van Jones: ‘There Is A Crack in the Blue Wall’...</td>\n",
       "    </tr>\n",
       "    <tr>\n",
       "      <th>3</th>\n",
       "      <td>great night in denver colorado thank you toget...</td>\n",
       "      <td>datetime.datetime(2016, 11, 6, 6, 8, 32)</td>\n",
       "      <td>Great night in Denver, Colorado- thank you! To...</td>\n",
       "    </tr>\n",
       "    <tr>\n",
       "      <th>4</th>\n",
       "      <td>rt https join https live in denver colorado vi...</td>\n",
       "      <td>datetime.datetime(2016, 11, 6, 4, 27)</td>\n",
       "      <td>RT @DanScavino: Join @realDonaldTrump LIVE in ...</td>\n",
       "    </tr>\n",
       "  </tbody>\n",
       "</table>\n",
       "</div>"
      ],
      "text/plain": [
       "                                                text  \\\n",
       "0  thank you iowa get out votetrumppence https https   \n",
       "1             rt https thank you new hampshire https   \n",
       "2  van jones there is a crack in the blue wall it...   \n",
       "3  great night in denver colorado thank you toget...   \n",
       "4  rt https join https live in denver colorado vi...   \n",
       "\n",
       "                                    timestamp  \\\n",
       "0  datetime.datetime(2016, 11, 6, 19, 26, 58)   \n",
       "1   datetime.datetime(2016, 11, 6, 18, 9, 44)   \n",
       "2    datetime.datetime(2016, 11, 6, 17, 6, 8)   \n",
       "3    datetime.datetime(2016, 11, 6, 6, 8, 32)   \n",
       "4       datetime.datetime(2016, 11, 6, 4, 27)   \n",
       "\n",
       "                                               tweet  \n",
       "0  Thank you Iowa - Get out &amp; #VoteTrumpPence...  \n",
       "1  RT @IvankaTrump: Thank you New Hampshire! ????...  \n",
       "2  Van Jones: ‘There Is A Crack in the Blue Wall’...  \n",
       "3  Great night in Denver, Colorado- thank you! To...  \n",
       "4  RT @DanScavino: Join @realDonaldTrump LIVE in ...  "
      ]
     },
     "execution_count": 3,
     "metadata": {},
     "output_type": "execute_result"
    }
   ],
   "source": [
    "tweets_df.head()"
   ]
  },
  {
   "cell_type": "code",
   "execution_count": 4,
   "metadata": {},
   "outputs": [
    {
     "name": "stdout",
     "output_type": "stream",
     "text": [
      "text         thank you iowa get out votetrumppence https https\n",
      "timestamp           datetime.datetime(2016, 11, 6, 19, 26, 58)\n",
      "tweet        Thank you Iowa - Get out &amp; #VoteTrumpPence...\n",
      "Name: 0, dtype: object\n",
      "text         crooked hillary wants to get rid of all guns a...\n",
      "timestamp           datetime.datetime(2016, 5, 21, 12, 49, 59)\n",
      "tweet        Crooked Hillary wants to get rid of all guns a...\n",
      "Name: 2000, dtype: object\n",
      "text         joe mcquaid https of the dying union leader wa...\n",
      "timestamp           datetime.datetime(2015, 12, 30, 0, 37, 25)\n",
      "tweet        Joe McQuaid (@deucecrew) of the dying Union Le...\n",
      "Name: 4000, dtype: object\n",
      "text                           will be on https at a m\n",
      "timestamp    datetime.datetime(2015, 9, 24, 10, 1, 40)\n",
      "tweet                     Will be on @CNN at 7:00 A.M.\n",
      "Name: 6000, dtype: object\n",
      "text         big day at the united nations many good things...\n",
      "timestamp           datetime.datetime(2017, 9, 19, 11, 21, 30)\n",
      "tweet        Big day at the United Nations - many good thin...\n",
      "Name: 8000, dtype: object\n",
      "text         north korea to be identified as a result of my...\n",
      "timestamp            datetime.datetime(2018, 9, 20, 18, 10, 6)\n",
      "tweet        ...North Korea to be identified as a result of...\n",
      "Name: 10000, dtype: object\n",
      "text         rt https my oped on the importance of youthspo...\n",
      "timestamp             datetime.datetime(2018, 3, 2, 2, 59, 37)\n",
      "tweet        RT @IvankaTrump: My OpEd on the importance of ...\n",
      "Name: 12000, dtype: object\n",
      "text         good news out of the house with the passing of...\n",
      "timestamp           datetime.datetime(2017, 6, 29, 22, 28, 23)\n",
      "tweet        Good news out of the House with the passing of...\n",
      "Name: 14000, dtype: object\n",
      "text         collusion is not a crime but that doesn t matt...\n",
      "timestamp           datetime.datetime(2018, 7, 31, 11, 58, 58)\n",
      "tweet        Collusion is not a crime, but that doesn’t mat...\n",
      "Name: 16000, dtype: object\n",
      "text         million american to travel this weekend highes...\n",
      "timestamp          datetime.datetime(2017, 11, 22, 21, 25, 11)\n",
      "tweet        51 Million American to travel this weekend - h...\n",
      "Name: 18000, dtype: object\n"
     ]
    }
   ],
   "source": [
    "#take a look on the data in every 2k rows\n",
    "for i in range(0,tweets_df.shape[0],2000):\n",
    "    print(tweets_df.iloc[i])\n",
    "    \n",
    "#notice that they are not in chronological order"
   ]
  },
  {
   "cell_type": "code",
   "execution_count": 5,
   "metadata": {},
   "outputs": [
    {
     "name": "stdout",
     "output_type": "stream",
     "text": [
      "datetime.datetime(2016, 11, 6, 19, 26, 58) <class 'str'>\n",
      "2016, 11, 6, 19, 26, 58)\n",
      "2016-11-06 19:26:58 <class 'datetime.datetime'>\n"
     ]
    }
   ],
   "source": [
    "#example how to parse the nice datetime.datetime string...\n",
    "from datetime import datetime\n",
    "\n",
    "time = tweets_df[\"timestamp\"][0]\n",
    "print(time,type(time))\n",
    "time = time[18:]\n",
    "print(time)\n",
    "t = datetime.strptime(time[:len(time)-1], \"%Y, %m, %d, %H, %M, %S\")\n",
    "print(t, type(t))\n",
    "\n",
    "def parse_to_datetime(time_string):\n",
    "    time = time_string[18:]\n",
    "    try:\n",
    "        t = datetime.strptime(time[:len(time)-1], \"%Y, %m, %d, %H, %M, %S\")\n",
    "    except ValueError:\n",
    "        #print(\"Taivas varjele mikä sieltä tulee!!! Sekunnit puuttuu\", time)\n",
    "        t = datetime.strptime(time[:len(time)-1], \"%Y, %m, %d, %H, %M\")\n",
    "        \n",
    "    return t\n"
   ]
  },
  {
   "cell_type": "code",
   "execution_count": 16,
   "metadata": {},
   "outputs": [
    {
     "data": {
      "text/html": [
       "<div>\n",
       "<style scoped>\n",
       "    .dataframe tbody tr th:only-of-type {\n",
       "        vertical-align: middle;\n",
       "    }\n",
       "\n",
       "    .dataframe tbody tr th {\n",
       "        vertical-align: top;\n",
       "    }\n",
       "\n",
       "    .dataframe thead th {\n",
       "        text-align: right;\n",
       "    }\n",
       "</style>\n",
       "<table border=\"1\" class=\"dataframe\">\n",
       "  <thead>\n",
       "    <tr style=\"text-align: right;\">\n",
       "      <th></th>\n",
       "      <th>text</th>\n",
       "      <th>timestamp</th>\n",
       "      <th>tweet</th>\n",
       "    </tr>\n",
       "  </thead>\n",
       "  <tbody>\n",
       "    <tr>\n",
       "      <th>0</th>\n",
       "      <td>thank you iowa get out votetrumppence https https</td>\n",
       "      <td>2016-11-06 19:26:58</td>\n",
       "      <td>Thank you Iowa - Get out &amp;amp; #VoteTrumpPence...</td>\n",
       "    </tr>\n",
       "    <tr>\n",
       "      <th>1</th>\n",
       "      <td>rt https thank you new hampshire https</td>\n",
       "      <td>2016-11-06 18:09:44</td>\n",
       "      <td>RT @IvankaTrump: Thank you New Hampshire! ????...</td>\n",
       "    </tr>\n",
       "    <tr>\n",
       "      <th>2</th>\n",
       "      <td>van jones there is a crack in the blue wall it...</td>\n",
       "      <td>2016-11-06 17:06:08</td>\n",
       "      <td>Van Jones: ‘There Is A Crack in the Blue Wall’...</td>\n",
       "    </tr>\n",
       "    <tr>\n",
       "      <th>3</th>\n",
       "      <td>great night in denver colorado thank you toget...</td>\n",
       "      <td>2016-11-06 06:08:32</td>\n",
       "      <td>Great night in Denver, Colorado- thank you! To...</td>\n",
       "    </tr>\n",
       "    <tr>\n",
       "      <th>4</th>\n",
       "      <td>rt https join https live in denver colorado vi...</td>\n",
       "      <td>2016-11-06 04:27:00</td>\n",
       "      <td>RT @DanScavino: Join @realDonaldTrump LIVE in ...</td>\n",
       "    </tr>\n",
       "  </tbody>\n",
       "</table>\n",
       "</div>"
      ],
      "text/plain": [
       "                                                text            timestamp  \\\n",
       "0  thank you iowa get out votetrumppence https https  2016-11-06 19:26:58   \n",
       "1             rt https thank you new hampshire https  2016-11-06 18:09:44   \n",
       "2  van jones there is a crack in the blue wall it...  2016-11-06 17:06:08   \n",
       "3  great night in denver colorado thank you toget...  2016-11-06 06:08:32   \n",
       "4  rt https join https live in denver colorado vi...  2016-11-06 04:27:00   \n",
       "\n",
       "                                               tweet  \n",
       "0  Thank you Iowa - Get out &amp; #VoteTrumpPence...  \n",
       "1  RT @IvankaTrump: Thank you New Hampshire! ????...  \n",
       "2  Van Jones: ‘There Is A Crack in the Blue Wall’...  \n",
       "3  Great night in Denver, Colorado- thank you! To...  \n",
       "4  RT @DanScavino: Join @realDonaldTrump LIVE in ...  "
      ]
     },
     "execution_count": 16,
     "metadata": {},
     "output_type": "execute_result"
    }
   ],
   "source": [
    "#change the timestamps to pd.Timestamps\n",
    "new_tweets_df = tweets_df.copy()\n",
    "for i, time in enumerate(tweets_df[\"timestamp\"]):\n",
    "    #parse time to datetime\n",
    "    t = parse_to_datetime(time)\n",
    "    #change it to pd.Timestamp\n",
    "    t = pd.Timestamp.fromtimestamp(t.timestamp())\n",
    "    new_tweets_df[\"timestamp\"][i] = t\n",
    "    \n",
    "new_tweets_df.head()"
   ]
  },
  {
   "cell_type": "code",
   "execution_count": 20,
   "metadata": {},
   "outputs": [
    {
     "data": {
      "text/html": [
       "<div>\n",
       "<style scoped>\n",
       "    .dataframe tbody tr th:only-of-type {\n",
       "        vertical-align: middle;\n",
       "    }\n",
       "\n",
       "    .dataframe tbody tr th {\n",
       "        vertical-align: top;\n",
       "    }\n",
       "\n",
       "    .dataframe thead th {\n",
       "        text-align: right;\n",
       "    }\n",
       "</style>\n",
       "<table border=\"1\" class=\"dataframe\">\n",
       "  <thead>\n",
       "    <tr style=\"text-align: right;\">\n",
       "      <th></th>\n",
       "      <th>text</th>\n",
       "      <th>timestamp</th>\n",
       "      <th>tweet</th>\n",
       "    </tr>\n",
       "  </thead>\n",
       "  <tbody>\n",
       "    <tr>\n",
       "      <th>7790</th>\n",
       "      <td>https as a nation yearns for justice and equal...</td>\n",
       "      <td>2015-06-14 21:15:20</td>\n",
       "      <td>\"@justrelaxfornow: As a nation yearns for just...</td>\n",
       "    </tr>\n",
       "    <tr>\n",
       "      <th>7789</th>\n",
       "      <td>tuesday will be a big day for our country to d...</td>\n",
       "      <td>2015-06-14 21:18:23</td>\n",
       "      <td>Tuesday will be a big day for our country to d...</td>\n",
       "    </tr>\n",
       "    <tr>\n",
       "      <th>7788</th>\n",
       "      <td>tomorrow will be a really big day for america ...</td>\n",
       "      <td>2015-06-15 11:12:50</td>\n",
       "      <td>Tomorrow will be a really big day for America....</td>\n",
       "    </tr>\n",
       "    <tr>\n",
       "      <th>7787</th>\n",
       "      <td>https https i d vote twice for you if i could ...</td>\n",
       "      <td>2015-06-15 11:30:53</td>\n",
       "      <td>\"@FuturisticHub: @realDonaldTrump I'd vote twi...</td>\n",
       "    </tr>\n",
       "    <tr>\n",
       "      <th>7786</th>\n",
       "      <td>https https pls run u would be great</td>\n",
       "      <td>2015-06-15 11:40:27</td>\n",
       "      <td>\"@MediciMario: @realDonaldTrump Pls run u woul...</td>\n",
       "    </tr>\n",
       "  </tbody>\n",
       "</table>\n",
       "</div>"
      ],
      "text/plain": [
       "                                                   text            timestamp  \\\n",
       "7790  https as a nation yearns for justice and equal...  2015-06-14 21:15:20   \n",
       "7789  tuesday will be a big day for our country to d...  2015-06-14 21:18:23   \n",
       "7788  tomorrow will be a really big day for america ...  2015-06-15 11:12:50   \n",
       "7787  https https i d vote twice for you if i could ...  2015-06-15 11:30:53   \n",
       "7786               https https pls run u would be great  2015-06-15 11:40:27   \n",
       "\n",
       "                                                  tweet  \n",
       "7790  \"@justrelaxfornow: As a nation yearns for just...  \n",
       "7789  Tuesday will be a big day for our country to d...  \n",
       "7788  Tomorrow will be a really big day for America....  \n",
       "7787  \"@FuturisticHub: @realDonaldTrump I'd vote twi...  \n",
       "7786  \"@MediciMario: @realDonaldTrump Pls run u woul...  "
      ]
     },
     "execution_count": 20,
     "metadata": {},
     "output_type": "execute_result"
    }
   ],
   "source": [
    "#after wrangling, let's update the original object and sort it by timestamps\n",
    "tweets_df = new_tweets_df.sort_values(by=\"timestamp\")\n",
    "\n",
    "tweets_df.head()"
   ]
  },
  {
   "cell_type": "code",
   "execution_count": 7,
   "metadata": {},
   "outputs": [
    {
     "name": "stdout",
     "output_type": "stream",
     "text": [
      "       daily change\n",
      "count          6851\n",
      "unique            6\n",
      "top          MEDPOS\n",
      "freq           1753\n"
     ]
    }
   ],
   "source": [
    "#read stock data\n",
    "\n",
    "name_stock = DATA_DIR + \"DJI-20years-daily-change.json\"\n",
    "\n",
    "with open(name_stock, \"r\") as file:\n",
    "    stock_df = pd.read_json(file, orient=\"split\")\n",
    "    \n",
    "print(stock_df.describe())"
   ]
  },
  {
   "cell_type": "code",
   "execution_count": 8,
   "metadata": {},
   "outputs": [
    {
     "data": {
      "text/html": [
       "<div>\n",
       "<style scoped>\n",
       "    .dataframe tbody tr th:only-of-type {\n",
       "        vertical-align: middle;\n",
       "    }\n",
       "\n",
       "    .dataframe tbody tr th {\n",
       "        vertical-align: top;\n",
       "    }\n",
       "\n",
       "    .dataframe thead th {\n",
       "        text-align: right;\n",
       "    }\n",
       "</style>\n",
       "<table border=\"1\" class=\"dataframe\">\n",
       "  <thead>\n",
       "    <tr style=\"text-align: right;\">\n",
       "      <th></th>\n",
       "      <th>daily change</th>\n",
       "    </tr>\n",
       "  </thead>\n",
       "  <tbody>\n",
       "    <tr>\n",
       "      <th>2000-01-03</th>\n",
       "      <td>BIGNEG</td>\n",
       "    </tr>\n",
       "    <tr>\n",
       "      <th>2000-01-04</th>\n",
       "      <td>BIGPOS</td>\n",
       "    </tr>\n",
       "    <tr>\n",
       "      <th>2000-01-05</th>\n",
       "      <td>BIGPOS</td>\n",
       "    </tr>\n",
       "    <tr>\n",
       "      <th>2000-01-06</th>\n",
       "      <td>BIGPOS</td>\n",
       "    </tr>\n",
       "    <tr>\n",
       "      <th>2000-01-07</th>\n",
       "      <td>MEDPOS</td>\n",
       "    </tr>\n",
       "  </tbody>\n",
       "</table>\n",
       "</div>"
      ],
      "text/plain": [
       "           daily change\n",
       "2000-01-03       BIGNEG\n",
       "2000-01-04       BIGPOS\n",
       "2000-01-05       BIGPOS\n",
       "2000-01-06       BIGPOS\n",
       "2000-01-07       MEDPOS"
      ]
     },
     "execution_count": 8,
     "metadata": {},
     "output_type": "execute_result"
    }
   ],
   "source": [
    "stock_df.head()"
   ]
  },
  {
   "cell_type": "code",
   "execution_count": 9,
   "metadata": {},
   "outputs": [],
   "source": [
    "def store_time_stats(t):\n",
    "    if t.year not in time_bins:\n",
    "        time_bins[t.year] = 1\n",
    "    else: time_bins[t.year] += 1\n",
    "       \n",
    "    ym = str(t.year) + \"-\" + str(t.month)\n",
    "    if ym not in time_bins:\n",
    "        time_bins[ym] = 1\n",
    "    else: time_bins[ym] += 1"
   ]
  },
  {
   "cell_type": "code",
   "execution_count": 31,
   "metadata": {},
   "outputs": [],
   "source": [
    "#assumes that the stocks are ordered by date\n",
    "def find_right_timestamp_index(start_ind, time):\n",
    "    for i in range(start_ind, stock_df.shape[0]):\n",
    "        date = stock_df.index[i]\n",
    "        if time.date() != date.date():\n",
    "            continue\n",
    "        else: \n",
    "            #print (\"right date!\", date, time)\n",
    "            return i\n",
    "    return None"
   ]
  },
  {
   "cell_type": "code",
   "execution_count": 32,
   "metadata": {},
   "outputs": [
    {
     "name": "stdout",
     "output_type": "stream",
     "text": [
      "(18473, 3)\n",
      "progress  0.0\n",
      "progress  0.027066529529583716\n",
      "progress  0.05413305905916743\n",
      "progress  0.08119958858875115\n",
      "progress  0.10826611811833486\n",
      "progress  0.13533264764791858\n",
      "progress  0.1623991771775023\n",
      "progress  0.189465706707086\n",
      "progress  0.21653223623666973\n",
      "progress  0.24359876576625344\n",
      "progress  0.27066529529583716\n",
      "progress  0.2977318248254209\n",
      "progress  0.3247983543550046\n",
      "progress  0.3518648838845883\n",
      "progress  0.378931413414172\n",
      "progress  0.40599794294375574\n",
      "progress  0.43306447247333946\n",
      "progress  0.4601310020029232\n",
      "progress  0.4871975315325069\n",
      "progress  0.5142640610620907\n",
      "progress  0.5413305905916743\n",
      "progress  0.5683971201212581\n",
      "progress  0.5954636496508418\n",
      "progress  0.6225301791804255\n",
      "progress  0.6495967087100092\n",
      "progress  0.676663238239593\n",
      "progress  0.7037297677691766\n",
      "progress  0.7307962972987604\n",
      "progress  0.757862826828344\n",
      "progress  0.7849293563579278\n",
      "progress  0.8119958858875115\n",
      "progress  0.8390624154170953\n",
      "progress  0.8661289449466789\n",
      "progress  0.8931954744762627\n",
      "progress  0.9202620040058463\n",
      "progress  0.9473285335354301\n",
      "progress  0.9743950630650138\n"
     ]
    }
   ],
   "source": [
    "#combine the data\n",
    "\n",
    "classified = pd.DataFrame(columns=[\"timestamp\", \"text\", \"value change\"], index=range(tweets_df.shape[0]))\n",
    "print(classified.shape)\n",
    "time_bins = {}\n",
    "latest_date_ind = 0\n",
    "\n",
    "for i, t in enumerate(tweets_df[\"timestamp\"]):    \n",
    "    #count how many tweet per year and month\n",
    "    store_time_stats(t)\n",
    "    \n",
    "    #find the date in stocks dataframe\n",
    "    stamp_ind = find_right_timestamp_index(latest_date_ind, t)\n",
    "    \n",
    "    #fetch the change of the tweet's day\n",
    "    change = stock_df.loc[stock_df.index[stamp_ind], \"daily change\"]\n",
    "        \n",
    "    #remember where we're at so next time we start searching closer to the right place (this is an optimization)\n",
    "    latest_date_ind = stamp_ind\n",
    "    \n",
    "    #save to datastruct\n",
    "    classified[\"timestamp\"][i] = t\n",
    "    classified[\"text\"][i] = tweets_df[\"text\"][i]\n",
    "    classified[\"value change\"][i] = change\n",
    "    \n",
    "    if i%500==0: print(\"progress \", i/classified.shape[0])\n",
    "\n"
   ]
  },
  {
   "cell_type": "code",
   "execution_count": 45,
   "metadata": {},
   "outputs": [
    {
     "name": "stdout",
     "output_type": "stream",
     "text": [
      "amount of tweets per year or month\n",
      " {2015: 3829, '2015-6': 318, '2015-7': 790, '2015-8': 355, '2015-9': 409, '2015-10': 790, '2015-11': 576, '2015-12': 591, 2016: 4462, '2016-1': 492, '2016-2': 494, '2016-3': 441, '2016-4': 284, '2016-5': 351, '2016-6': 303, '2016-7': 378, '2016-8': 325, '2016-9': 296, '2016-10': 530, '2016-11': 292, '2016-12': 276, 2017: 5274, '2017-1': 428, '2017-2': 308, '2017-3': 294, '2017-4': 304, '2017-5': 310, '2017-6': 424, '2017-7': 490, '2017-8': 534, '2017-9': 640, '2017-10': 650, '2017-11': 500, '2017-12': 392, 2018: 4908, '2018-1': 406, '2018-2': 348, '2018-3': 332, '2018-4': 490, '2018-5': 508, '2018-6': 744, '2018-7': 648, '2018-8': 726, '2018-9': 706}\n"
     ]
    }
   ],
   "source": [
    "#some data about how many tweets per year/month\n",
    "print (\"amount of tweets per year or month\\n\", time_bins)"
   ]
  },
  {
   "cell_type": "code",
   "execution_count": 37,
   "metadata": {
    "scrolled": true
   },
   "outputs": [
    {
     "data": {
      "text/html": [
       "<div>\n",
       "<style scoped>\n",
       "    .dataframe tbody tr th:only-of-type {\n",
       "        vertical-align: middle;\n",
       "    }\n",
       "\n",
       "    .dataframe tbody tr th {\n",
       "        vertical-align: top;\n",
       "    }\n",
       "\n",
       "    .dataframe thead th {\n",
       "        text-align: right;\n",
       "    }\n",
       "</style>\n",
       "<table border=\"1\" class=\"dataframe\">\n",
       "  <thead>\n",
       "    <tr style=\"text-align: right;\">\n",
       "      <th></th>\n",
       "      <th>timestamp</th>\n",
       "      <th>text</th>\n",
       "      <th>value change</th>\n",
       "    </tr>\n",
       "  </thead>\n",
       "  <tbody>\n",
       "    <tr>\n",
       "      <th>0</th>\n",
       "      <td>2015-06-14 21:15:20</td>\n",
       "      <td>thank you iowa get out votetrumppence https https</td>\n",
       "      <td>MEDNEG</td>\n",
       "    </tr>\n",
       "    <tr>\n",
       "      <th>1</th>\n",
       "      <td>2015-06-14 21:18:23</td>\n",
       "      <td>rt https thank you new hampshire https</td>\n",
       "      <td>MEDNEG</td>\n",
       "    </tr>\n",
       "    <tr>\n",
       "      <th>2</th>\n",
       "      <td>2015-06-15 11:12:50</td>\n",
       "      <td>van jones there is a crack in the blue wall it...</td>\n",
       "      <td>MEDPOS</td>\n",
       "    </tr>\n",
       "    <tr>\n",
       "      <th>3</th>\n",
       "      <td>2015-06-15 11:30:53</td>\n",
       "      <td>great night in denver colorado thank you toget...</td>\n",
       "      <td>MEDPOS</td>\n",
       "    </tr>\n",
       "    <tr>\n",
       "      <th>4</th>\n",
       "      <td>2015-06-15 11:40:27</td>\n",
       "      <td>rt https join https live in denver colorado vi...</td>\n",
       "      <td>MEDPOS</td>\n",
       "    </tr>\n",
       "  </tbody>\n",
       "</table>\n",
       "</div>"
      ],
      "text/plain": [
       "             timestamp                                               text  \\\n",
       "0  2015-06-14 21:15:20  thank you iowa get out votetrumppence https https   \n",
       "1  2015-06-14 21:18:23             rt https thank you new hampshire https   \n",
       "2  2015-06-15 11:12:50  van jones there is a crack in the blue wall it...   \n",
       "3  2015-06-15 11:30:53  great night in denver colorado thank you toget...   \n",
       "4  2015-06-15 11:40:27  rt https join https live in denver colorado vi...   \n",
       "\n",
       "  value change  \n",
       "0       MEDNEG  \n",
       "1       MEDNEG  \n",
       "2       MEDPOS  \n",
       "3       MEDPOS  \n",
       "4       MEDPOS  "
      ]
     },
     "execution_count": 37,
     "metadata": {},
     "output_type": "execute_result"
    }
   ],
   "source": [
    "classified.head()"
   ]
  },
  {
   "cell_type": "code",
   "execution_count": 38,
   "metadata": {},
   "outputs": [
    {
     "data": {
      "text/html": [
       "<div>\n",
       "<style scoped>\n",
       "    .dataframe tbody tr th:only-of-type {\n",
       "        vertical-align: middle;\n",
       "    }\n",
       "\n",
       "    .dataframe tbody tr th {\n",
       "        vertical-align: top;\n",
       "    }\n",
       "\n",
       "    .dataframe thead th {\n",
       "        text-align: right;\n",
       "    }\n",
       "</style>\n",
       "<table border=\"1\" class=\"dataframe\">\n",
       "  <thead>\n",
       "    <tr style=\"text-align: right;\">\n",
       "      <th></th>\n",
       "      <th>timestamp</th>\n",
       "      <th>text</th>\n",
       "      <th>value change</th>\n",
       "    </tr>\n",
       "  </thead>\n",
       "  <tbody>\n",
       "    <tr>\n",
       "      <th>count</th>\n",
       "      <td>18473</td>\n",
       "      <td>18473</td>\n",
       "      <td>18473</td>\n",
       "    </tr>\n",
       "    <tr>\n",
       "      <th>unique</th>\n",
       "      <td>13064</td>\n",
       "      <td>12729</td>\n",
       "      <td>6</td>\n",
       "    </tr>\n",
       "    <tr>\n",
       "      <th>top</th>\n",
       "      <td>2018-07-15 13:33:15</td>\n",
       "      <td>https</td>\n",
       "      <td>MEDPOS</td>\n",
       "    </tr>\n",
       "    <tr>\n",
       "      <th>freq</th>\n",
       "      <td>10</td>\n",
       "      <td>79</td>\n",
       "      <td>4224</td>\n",
       "    </tr>\n",
       "  </tbody>\n",
       "</table>\n",
       "</div>"
      ],
      "text/plain": [
       "                  timestamp   text value change\n",
       "count                 18473  18473        18473\n",
       "unique                13064  12729            6\n",
       "top     2018-07-15 13:33:15  https       MEDPOS\n",
       "freq                     10     79         4224"
      ]
     },
     "execution_count": 38,
     "metadata": {},
     "output_type": "execute_result"
    }
   ],
   "source": [
    "classified.describe()"
   ]
  },
  {
   "cell_type": "code",
   "execution_count": 47,
   "metadata": {},
   "outputs": [
    {
     "name": "stdout",
     "output_type": "stream",
     "text": [
      "thousand first characters\n",
      " __label__MEDNEG thank you iowa get out votetrumppence https https\n",
      "__label__MEDNEG rt https thank you new hampshire https\n",
      "__label__MEDPOS van jones there is a crack in the blue wall it has to do with trade https\n",
      "__label__MEDPOS great night in denver colorado thank you together we will make america great again icymi watch rally here https\n",
      "__label__MEDPOS rt https join https live in denver colorado via his facebook page we are here makeamericagreatagain https\n",
      "__label__MEDPOS thank you reno nevada nothing will stop us in our quest to make america safe and great again americafirst https\n",
      "__label__MEDPOS join me live in reno nevada https https\n",
      "__label__MEDPOS join me tomorrow minnesota pm https michigan pm https virginia p https\n",
      "__label__MEDPOS draintheswamp https\n",
      "__label__MEDPOS top clinton aides bemoan campaign all tactics no vision https\n",
      "__label__MEDPOS must act immediately clinton charity lawyer told execs they were breaking the law https\n",
      "__label__MEDPOS watch coach mike ditka a great guy\n"
     ]
    }
   ],
   "source": [
    "#save the data to a string for fastText\n",
    "learning_data = \"\"\n",
    "for i, change in enumerate(classified[\"value change\"]):\n",
    "    row = \"__label__\" + change + \" \" + classified[\"text\"][i]\n",
    "    learning_data += row + \"\\n\"\n",
    "print(\"thousand first characters\\n\", learning_data[:1000])"
   ]
  },
  {
   "cell_type": "code",
   "execution_count": 44,
   "metadata": {},
   "outputs": [],
   "source": [
    "#write to file\n",
    "\n",
    "with open(DATA_DIR + \"learning_data_all.txt\", \"w\") as file:\n",
    "    file.write(learning_data)"
   ]
  }
 ],
 "metadata": {
  "kernelspec": {
   "display_name": "Python 3",
   "language": "python",
   "name": "python3"
  },
  "language_info": {
   "codemirror_mode": {
    "name": "ipython",
    "version": 3
   },
   "file_extension": ".py",
   "mimetype": "text/x-python",
   "name": "python",
   "nbconvert_exporter": "python",
   "pygments_lexer": "ipython3",
   "version": "3.6.5"
  }
 },
 "nbformat": 4,
 "nbformat_minor": 2
}
