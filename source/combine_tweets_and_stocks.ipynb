{
 "cells": [
  {
   "cell_type": "code",
   "execution_count": 1,
   "metadata": {},
   "outputs": [],
   "source": [
    "import pandas as pd\n",
    "DATA_DIR = \"../data/\""
   ]
  },
  {
   "cell_type": "code",
   "execution_count": 140,
   "metadata": {},
   "outputs": [
    {
     "name": "stdout",
     "output_type": "stream",
     "text": [
      "         text                                   timestamp  \\\n",
      "count   13132                                       13132   \n",
      "unique  12729                                       13064   \n",
      "top     https  datetime.datetime(2018, 7, 15, 13, 33, 15)   \n",
      "freq       42                                           5   \n",
      "\n",
      "                            tweet  \n",
      "count                       13132  \n",
      "unique                      13063  \n",
      "top     MAKE AMERICA GREAT AGAIN!  \n",
      "freq                           18  \n"
     ]
    }
   ],
   "source": [
    "#read tweets\n",
    "\n",
    "name_tweets = DATA_DIR + \"clean_tweets/clean_tweets_all.json\"\n",
    "#name_tweets = DATA_DIR + \"clean_tweets/clean_tweets_before.json\"\n",
    "#name_tweets = DATA_DIR + \"clean_tweets/clean_tweets_after.json\"\n",
    "\n",
    "with open(name_tweets, \"r\") as file:\n",
    "    tweets_df = pd.read_json(file, orient='index')\n",
    "    \n",
    "print(tweets_df.describe())"
   ]
  },
  {
   "cell_type": "code",
   "execution_count": 157,
   "metadata": {},
   "outputs": [
    {
     "data": {
      "text/html": [
       "<div>\n",
       "<style scoped>\n",
       "    .dataframe tbody tr th:only-of-type {\n",
       "        vertical-align: middle;\n",
       "    }\n",
       "\n",
       "    .dataframe tbody tr th {\n",
       "        vertical-align: top;\n",
       "    }\n",
       "\n",
       "    .dataframe thead th {\n",
       "        text-align: right;\n",
       "    }\n",
       "</style>\n",
       "<table border=\"1\" class=\"dataframe\">\n",
       "  <thead>\n",
       "    <tr style=\"text-align: right;\">\n",
       "      <th></th>\n",
       "      <th>text</th>\n",
       "      <th>timestamp</th>\n",
       "      <th>tweet</th>\n",
       "    </tr>\n",
       "  </thead>\n",
       "  <tbody>\n",
       "    <tr>\n",
       "      <th>9937</th>\n",
       "      <td>rd session of the united nations general assem...</td>\n",
       "      <td>2018-09-25 22:06:33</td>\n",
       "      <td>73rd Session of the United Nations General Ass...</td>\n",
       "    </tr>\n",
       "    <tr>\n",
       "      <th>9936</th>\n",
       "      <td>these law enforcement people took the law into...</td>\n",
       "      <td>2018-09-26 02:38:54</td>\n",
       "      <td>“These law enforcement people took the law int...</td>\n",
       "    </tr>\n",
       "    <tr>\n",
       "      <th>9935</th>\n",
       "      <td>the democrats are playing a high level con gam...</td>\n",
       "      <td>2018-09-26 02:55:20</td>\n",
       "      <td>The Democrats are playing a high level CON GAM...</td>\n",
       "    </tr>\n",
       "    <tr>\n",
       "      <th>9934</th>\n",
       "      <td>consumer confidence hits an year high close to...</td>\n",
       "      <td>2018-09-26 10:54:59</td>\n",
       "      <td>Consumer confidence hits an 18 year high, clos...</td>\n",
       "    </tr>\n",
       "    <tr>\n",
       "      <th>9933</th>\n",
       "      <td>jobless claims fell to their lowest level in y...</td>\n",
       "      <td>2018-09-26 10:57:30</td>\n",
       "      <td>Jobless Claims fell to their lowest level in 4...</td>\n",
       "    </tr>\n",
       "  </tbody>\n",
       "</table>\n",
       "</div>"
      ],
      "text/plain": [
       "                                                   text            timestamp  \\\n",
       "9937  rd session of the united nations general assem...  2018-09-25 22:06:33   \n",
       "9936  these law enforcement people took the law into...  2018-09-26 02:38:54   \n",
       "9935  the democrats are playing a high level con gam...  2018-09-26 02:55:20   \n",
       "9934  consumer confidence hits an year high close to...  2018-09-26 10:54:59   \n",
       "9933  jobless claims fell to their lowest level in y...  2018-09-26 10:57:30   \n",
       "\n",
       "                                                  tweet  \n",
       "9937  73rd Session of the United Nations General Ass...  \n",
       "9936  “These law enforcement people took the law int...  \n",
       "9935  The Democrats are playing a high level CON GAM...  \n",
       "9934  Consumer confidence hits an 18 year high, clos...  \n",
       "9933  Jobless Claims fell to their lowest level in 4...  "
      ]
     },
     "execution_count": 157,
     "metadata": {},
     "output_type": "execute_result"
    }
   ],
   "source": [
    "tweets_df.tail()"
   ]
  },
  {
   "cell_type": "code",
   "execution_count": 142,
   "metadata": {},
   "outputs": [
    {
     "name": "stdout",
     "output_type": "stream",
     "text": [
      "text         thank you iowa get out votetrumppence https https\n",
      "timestamp           datetime.datetime(2016, 11, 6, 19, 26, 58)\n",
      "tweet        Thank you Iowa - Get out &amp; #VoteTrumpPence...\n",
      "Name: 0, dtype: object\n",
      "text         crooked hillary wants to get rid of all guns a...\n",
      "timestamp           datetime.datetime(2016, 5, 21, 12, 49, 59)\n",
      "tweet        Crooked Hillary wants to get rid of all guns a...\n",
      "Name: 2000, dtype: object\n",
      "text         joe mcquaid https of the dying union leader wa...\n",
      "timestamp           datetime.datetime(2015, 12, 30, 0, 37, 25)\n",
      "tweet        Joe McQuaid (@deucecrew) of the dying Union Le...\n",
      "Name: 4000, dtype: object\n",
      "text                           will be on https at a m\n",
      "timestamp    datetime.datetime(2015, 9, 24, 10, 1, 40)\n",
      "tweet                     Will be on @CNN at 7:00 A.M.\n",
      "Name: 6000, dtype: object\n",
      "text         big day at the united nations many good things...\n",
      "timestamp           datetime.datetime(2017, 9, 19, 11, 21, 30)\n",
      "tweet        Big day at the United Nations - many good thin...\n",
      "Name: 8000, dtype: object\n",
      "text         north korea to be identified as a result of my...\n",
      "timestamp            datetime.datetime(2018, 9, 20, 18, 10, 6)\n",
      "tweet        ...North Korea to be identified as a result of...\n",
      "Name: 10000, dtype: object\n",
      "text         rt https my oped on the importance of youthspo...\n",
      "timestamp             datetime.datetime(2018, 3, 2, 2, 59, 37)\n",
      "tweet        RT @IvankaTrump: My OpEd on the importance of ...\n",
      "Name: 12000, dtype: object\n"
     ]
    }
   ],
   "source": [
    "#take a look on the data in every 2k rows\n",
    "for i in range(0,tweets_df.shape[0],2000):\n",
    "    print(tweets_df.iloc[i])\n",
    "    \n",
    "#notice that they are not in chronological order"
   ]
  },
  {
   "cell_type": "code",
   "execution_count": 143,
   "metadata": {},
   "outputs": [
    {
     "name": "stdout",
     "output_type": "stream",
     "text": [
      "datetime.datetime(2016, 11, 6, 19, 26, 58) <class 'str'>\n",
      "2016, 11, 6, 19, 26, 58)\n",
      "2016-11-06 19:26:58 <class 'datetime.datetime'>\n"
     ]
    }
   ],
   "source": [
    "#example how to parse the nice datetime.datetime string...\n",
    "from datetime import datetime\n",
    "\n",
    "time = tweets_df[\"timestamp\"][0]\n",
    "print(time,type(time))\n",
    "time = time[18:]\n",
    "print(time)\n",
    "t = datetime.strptime(time[:len(time)-1], \"%Y, %m, %d, %H, %M, %S\")\n",
    "print(t, type(t))\n",
    "\n",
    "def parse_to_datetime(time_string):\n",
    "    time = time_string[18:]\n",
    "    try:\n",
    "        t = datetime.strptime(time[:len(time)-1], \"%Y, %m, %d, %H, %M, %S\")\n",
    "    except ValueError:\n",
    "        #print(\"Taivas varjele mikä sieltä tulee!!! Sekunnit puuttuu\", time)\n",
    "        t = datetime.strptime(time[:len(time)-1], \"%Y, %m, %d, %H, %M\")\n",
    "        \n",
    "    return t\n"
   ]
  },
  {
   "cell_type": "code",
   "execution_count": 144,
   "metadata": {},
   "outputs": [
    {
     "data": {
      "text/html": [
       "<div>\n",
       "<style scoped>\n",
       "    .dataframe tbody tr th:only-of-type {\n",
       "        vertical-align: middle;\n",
       "    }\n",
       "\n",
       "    .dataframe tbody tr th {\n",
       "        vertical-align: top;\n",
       "    }\n",
       "\n",
       "    .dataframe thead th {\n",
       "        text-align: right;\n",
       "    }\n",
       "</style>\n",
       "<table border=\"1\" class=\"dataframe\">\n",
       "  <thead>\n",
       "    <tr style=\"text-align: right;\">\n",
       "      <th></th>\n",
       "      <th>text</th>\n",
       "      <th>timestamp</th>\n",
       "      <th>tweet</th>\n",
       "    </tr>\n",
       "  </thead>\n",
       "  <tbody>\n",
       "    <tr>\n",
       "      <th>0</th>\n",
       "      <td>thank you iowa get out votetrumppence https https</td>\n",
       "      <td>2016-11-06 19:26:58</td>\n",
       "      <td>Thank you Iowa - Get out &amp;amp; #VoteTrumpPence...</td>\n",
       "    </tr>\n",
       "    <tr>\n",
       "      <th>1</th>\n",
       "      <td>rt https thank you new hampshire https</td>\n",
       "      <td>2016-11-06 18:09:44</td>\n",
       "      <td>RT @IvankaTrump: Thank you New Hampshire! ????...</td>\n",
       "    </tr>\n",
       "    <tr>\n",
       "      <th>2</th>\n",
       "      <td>van jones there is a crack in the blue wall it...</td>\n",
       "      <td>2016-11-06 17:06:08</td>\n",
       "      <td>Van Jones: ‘There Is A Crack in the Blue Wall’...</td>\n",
       "    </tr>\n",
       "    <tr>\n",
       "      <th>3</th>\n",
       "      <td>great night in denver colorado thank you toget...</td>\n",
       "      <td>2016-11-06 06:08:32</td>\n",
       "      <td>Great night in Denver, Colorado- thank you! To...</td>\n",
       "    </tr>\n",
       "    <tr>\n",
       "      <th>4</th>\n",
       "      <td>rt https join https live in denver colorado vi...</td>\n",
       "      <td>2016-11-06 04:27:00</td>\n",
       "      <td>RT @DanScavino: Join @realDonaldTrump LIVE in ...</td>\n",
       "    </tr>\n",
       "  </tbody>\n",
       "</table>\n",
       "</div>"
      ],
      "text/plain": [
       "                                                text            timestamp  \\\n",
       "0  thank you iowa get out votetrumppence https https  2016-11-06 19:26:58   \n",
       "1             rt https thank you new hampshire https  2016-11-06 18:09:44   \n",
       "2  van jones there is a crack in the blue wall it...  2016-11-06 17:06:08   \n",
       "3  great night in denver colorado thank you toget...  2016-11-06 06:08:32   \n",
       "4  rt https join https live in denver colorado vi...  2016-11-06 04:27:00   \n",
       "\n",
       "                                               tweet  \n",
       "0  Thank you Iowa - Get out &amp; #VoteTrumpPence...  \n",
       "1  RT @IvankaTrump: Thank you New Hampshire! ????...  \n",
       "2  Van Jones: ‘There Is A Crack in the Blue Wall’...  \n",
       "3  Great night in Denver, Colorado- thank you! To...  \n",
       "4  RT @DanScavino: Join @realDonaldTrump LIVE in ...  "
      ]
     },
     "execution_count": 144,
     "metadata": {},
     "output_type": "execute_result"
    }
   ],
   "source": [
    "#change the timestamps to pd.Timestamps\n",
    "new_tweets_df = tweets_df.copy()\n",
    "for i, time in enumerate(tweets_df[\"timestamp\"]):\n",
    "    #parse time to datetime\n",
    "    t = parse_to_datetime(time)\n",
    "    #change it to pd.Timestamp\n",
    "    t = pd.Timestamp.fromtimestamp(t.timestamp())\n",
    "    new_tweets_df[\"timestamp\"][i] = t\n",
    "    \n",
    "new_tweets_df.head()"
   ]
  },
  {
   "cell_type": "code",
   "execution_count": 156,
   "metadata": {},
   "outputs": [
    {
     "data": {
      "text/html": [
       "<div>\n",
       "<style scoped>\n",
       "    .dataframe tbody tr th:only-of-type {\n",
       "        vertical-align: middle;\n",
       "    }\n",
       "\n",
       "    .dataframe tbody tr th {\n",
       "        vertical-align: top;\n",
       "    }\n",
       "\n",
       "    .dataframe thead th {\n",
       "        text-align: right;\n",
       "    }\n",
       "</style>\n",
       "<table border=\"1\" class=\"dataframe\">\n",
       "  <thead>\n",
       "    <tr style=\"text-align: right;\">\n",
       "      <th></th>\n",
       "      <th>text</th>\n",
       "      <th>timestamp</th>\n",
       "      <th>tweet</th>\n",
       "    </tr>\n",
       "  </thead>\n",
       "  <tbody>\n",
       "    <tr>\n",
       "      <th>9937</th>\n",
       "      <td>rd session of the united nations general assem...</td>\n",
       "      <td>2018-09-25 22:06:33</td>\n",
       "      <td>73rd Session of the United Nations General Ass...</td>\n",
       "    </tr>\n",
       "    <tr>\n",
       "      <th>9936</th>\n",
       "      <td>these law enforcement people took the law into...</td>\n",
       "      <td>2018-09-26 02:38:54</td>\n",
       "      <td>“These law enforcement people took the law int...</td>\n",
       "    </tr>\n",
       "    <tr>\n",
       "      <th>9935</th>\n",
       "      <td>the democrats are playing a high level con gam...</td>\n",
       "      <td>2018-09-26 02:55:20</td>\n",
       "      <td>The Democrats are playing a high level CON GAM...</td>\n",
       "    </tr>\n",
       "    <tr>\n",
       "      <th>9934</th>\n",
       "      <td>consumer confidence hits an year high close to...</td>\n",
       "      <td>2018-09-26 10:54:59</td>\n",
       "      <td>Consumer confidence hits an 18 year high, clos...</td>\n",
       "    </tr>\n",
       "    <tr>\n",
       "      <th>9933</th>\n",
       "      <td>jobless claims fell to their lowest level in y...</td>\n",
       "      <td>2018-09-26 10:57:30</td>\n",
       "      <td>Jobless Claims fell to their lowest level in 4...</td>\n",
       "    </tr>\n",
       "  </tbody>\n",
       "</table>\n",
       "</div>"
      ],
      "text/plain": [
       "                                                   text            timestamp  \\\n",
       "9937  rd session of the united nations general assem...  2018-09-25 22:06:33   \n",
       "9936  these law enforcement people took the law into...  2018-09-26 02:38:54   \n",
       "9935  the democrats are playing a high level con gam...  2018-09-26 02:55:20   \n",
       "9934  consumer confidence hits an year high close to...  2018-09-26 10:54:59   \n",
       "9933  jobless claims fell to their lowest level in y...  2018-09-26 10:57:30   \n",
       "\n",
       "                                                  tweet  \n",
       "9937  73rd Session of the United Nations General Ass...  \n",
       "9936  “These law enforcement people took the law int...  \n",
       "9935  The Democrats are playing a high level CON GAM...  \n",
       "9934  Consumer confidence hits an 18 year high, clos...  \n",
       "9933  Jobless Claims fell to their lowest level in 4...  "
      ]
     },
     "execution_count": 156,
     "metadata": {},
     "output_type": "execute_result"
    }
   ],
   "source": [
    "#after wrangling, let's update the original object and sort it by timestamps\n",
    "tweets_df = new_tweets_df.sort_values(by=\"timestamp\")\n",
    "\n",
    "tweets_df.tail()"
   ]
  },
  {
   "cell_type": "code",
   "execution_count": 154,
   "metadata": {},
   "outputs": [
    {
     "name": "stdout",
     "output_type": "stream",
     "text": [
      "                                                   text            timestamp  \\\n",
      "9932  hey missouri let s defeat crooked hillary http...  2016-11-07 22:21:53   \n",
      "9931  live on periscope join me for a few minutes in...  2016-11-07 23:28:48   \n",
      "9930  thank you pennsylvania going to new hampshire ...  2016-11-08 00:08:28   \n",
      "9929  today in florida i pledged to stand with the p...  2016-11-08 00:16:15   \n",
      "9928  big news to share in new hampshire tonight pol...  2016-11-08 00:17:57   \n",
      "\n",
      "                                                  tweet  \n",
      "9932  Hey Missouri let's defeat Crooked Hillary &amp...  \n",
      "9931  LIVE on #Periscope: Join me for a few minutes ...  \n",
      "9930  Thank you Pennsylvania! Going to New Hampshire...  \n",
      "9929  Today in Florida, I pledged to stand with the ...  \n",
      "9928  Big news to share in New Hampshire tonight! Po...  \n"
     ]
    }
   ],
   "source": [
    "t#weets_part_df = tweets_df[-5341:]\n",
    "p#rint(tweets_part_df.head())"
   ]
  },
  {
   "cell_type": "code",
   "execution_count": 155,
   "metadata": {},
   "outputs": [
    {
     "data": {
      "text/html": [
       "<div>\n",
       "<style scoped>\n",
       "    .dataframe tbody tr th:only-of-type {\n",
       "        vertical-align: middle;\n",
       "    }\n",
       "\n",
       "    .dataframe tbody tr th {\n",
       "        vertical-align: top;\n",
       "    }\n",
       "\n",
       "    .dataframe thead th {\n",
       "        text-align: right;\n",
       "    }\n",
       "</style>\n",
       "<table border=\"1\" class=\"dataframe\">\n",
       "  <thead>\n",
       "    <tr style=\"text-align: right;\">\n",
       "      <th></th>\n",
       "      <th>text</th>\n",
       "      <th>timestamp</th>\n",
       "      <th>tweet</th>\n",
       "    </tr>\n",
       "  </thead>\n",
       "  <tbody>\n",
       "    <tr>\n",
       "      <th>count</th>\n",
       "      <td>5341</td>\n",
       "      <td>5341</td>\n",
       "      <td>5341</td>\n",
       "    </tr>\n",
       "    <tr>\n",
       "      <th>unique</th>\n",
       "      <td>5176</td>\n",
       "      <td>5274</td>\n",
       "      <td>5285</td>\n",
       "    </tr>\n",
       "    <tr>\n",
       "      <th>top</th>\n",
       "      <td>https</td>\n",
       "      <td>2018-07-15 13:33:15</td>\n",
       "      <td>MAKE AMERICA GREAT AGAIN!</td>\n",
       "    </tr>\n",
       "    <tr>\n",
       "      <th>freq</th>\n",
       "      <td>37</td>\n",
       "      <td>5</td>\n",
       "      <td>9</td>\n",
       "    </tr>\n",
       "  </tbody>\n",
       "</table>\n",
       "</div>"
      ],
      "text/plain": [
       "         text            timestamp                      tweet\n",
       "count    5341                 5341                       5341\n",
       "unique   5176                 5274                       5285\n",
       "top     https  2018-07-15 13:33:15  MAKE AMERICA GREAT AGAIN!\n",
       "freq       37                    5                          9"
      ]
     },
     "execution_count": 155,
     "metadata": {},
     "output_type": "execute_result"
    }
   ],
   "source": [
    "#tweets_part_df.describe()"
   ]
  },
  {
   "cell_type": "code",
   "execution_count": 147,
   "metadata": {},
   "outputs": [
    {
     "name": "stdout",
     "output_type": "stream",
     "text": [
      "       daily change\n",
      "count          6851\n",
      "unique            6\n",
      "top          MEDPOS\n",
      "freq           1753\n"
     ]
    }
   ],
   "source": [
    "#read stock data\n",
    "\n",
    "name_stock = DATA_DIR + \"DJI-20years-daily-change.json\"\n",
    "\n",
    "with open(name_stock, \"r\") as file:\n",
    "    stock_df = pd.read_json(file, orient=\"split\")\n",
    "    \n",
    "print(stock_df.describe())"
   ]
  },
  {
   "cell_type": "code",
   "execution_count": 148,
   "metadata": {},
   "outputs": [
    {
     "data": {
      "text/html": [
       "<div>\n",
       "<style scoped>\n",
       "    .dataframe tbody tr th:only-of-type {\n",
       "        vertical-align: middle;\n",
       "    }\n",
       "\n",
       "    .dataframe tbody tr th {\n",
       "        vertical-align: top;\n",
       "    }\n",
       "\n",
       "    .dataframe thead th {\n",
       "        text-align: right;\n",
       "    }\n",
       "</style>\n",
       "<table border=\"1\" class=\"dataframe\">\n",
       "  <thead>\n",
       "    <tr style=\"text-align: right;\">\n",
       "      <th></th>\n",
       "      <th>daily change</th>\n",
       "    </tr>\n",
       "  </thead>\n",
       "  <tbody>\n",
       "    <tr>\n",
       "      <th>2000-01-03</th>\n",
       "      <td>BIGNEG</td>\n",
       "    </tr>\n",
       "    <tr>\n",
       "      <th>2000-01-04</th>\n",
       "      <td>BIGPOS</td>\n",
       "    </tr>\n",
       "    <tr>\n",
       "      <th>2000-01-05</th>\n",
       "      <td>BIGPOS</td>\n",
       "    </tr>\n",
       "    <tr>\n",
       "      <th>2000-01-06</th>\n",
       "      <td>BIGPOS</td>\n",
       "    </tr>\n",
       "    <tr>\n",
       "      <th>2000-01-07</th>\n",
       "      <td>MEDPOS</td>\n",
       "    </tr>\n",
       "  </tbody>\n",
       "</table>\n",
       "</div>"
      ],
      "text/plain": [
       "           daily change\n",
       "2000-01-03       BIGNEG\n",
       "2000-01-04       BIGPOS\n",
       "2000-01-05       BIGPOS\n",
       "2000-01-06       BIGPOS\n",
       "2000-01-07       MEDPOS"
      ]
     },
     "execution_count": 148,
     "metadata": {},
     "output_type": "execute_result"
    }
   ],
   "source": [
    "stock_df.head()"
   ]
  },
  {
   "cell_type": "code",
   "execution_count": 149,
   "metadata": {},
   "outputs": [],
   "source": [
    "def store_time_stats(t):\n",
    "    if t.year not in time_bins:\n",
    "        time_bins[t.year] = 1\n",
    "    else: time_bins[t.year] += 1\n",
    "       \n",
    "    ym = str(t.year) + \"-\" + str(t.month)\n",
    "    if ym not in time_bins:\n",
    "        time_bins[ym] = 1\n",
    "    else: time_bins[ym] += 1"
   ]
  },
  {
   "cell_type": "code",
   "execution_count": 150,
   "metadata": {},
   "outputs": [],
   "source": [
    "#assumes that the stocks are ordered by date\n",
    "def find_right_timestamp_index(start_ind, time):\n",
    "    for i in range(start_ind, stock_df.shape[0]):\n",
    "        date = stock_df.index[i]\n",
    "        if time.date() != date.date():\n",
    "            continue\n",
    "        else: \n",
    "            #print (\"right date!\", date, time)\n",
    "            return i\n",
    "    return None"
   ]
  },
  {
   "cell_type": "code",
   "execution_count": 152,
   "metadata": {},
   "outputs": [
    {
     "name": "stdout",
     "output_type": "stream",
     "text": [
      "(7791, 4)\n",
      "progress  0.0\n",
      "progress  0.06417661404184315\n",
      "progress  0.1283532280836863\n",
      "progress  0.19252984212552945\n",
      "progress  0.2567064561673726\n",
      "progress  0.32088307020921575\n",
      "progress  0.3850596842510589\n",
      "progress  0.44923629829290207\n",
      "progress  0.5134129123347452\n",
      "progress  0.5775895263765883\n",
      "progress  0.6417661404184315\n",
      "progress  0.7059427544602747\n",
      "progress  0.7701193685021178\n",
      "progress  0.834295982543961\n",
      "progress  0.8984725965858041\n",
      "progress  0.9626492106276473\n",
      "progress  1.0268258246694904\n",
      "progress  1.0910024387113335\n",
      "progress  1.1551790527531767\n",
      "progress  1.2193556667950198\n",
      "progress  1.283532280836863\n",
      "progress  1.3477088948787062\n",
      "progress  1.4118855089205493\n",
      "progress  1.4760621229623925\n",
      "progress  1.5402387370042356\n",
      "progress  1.6044153510460788\n",
      "progress  1.668591965087922\n"
     ]
    }
   ],
   "source": [
    "#combine the data\n",
    "#Original tweets added to dataframe! -Venla\n",
    "\n",
    "classified = pd.DataFrame(columns=[\"timestamp\", \"text\", \"tweet\", \"value change\"], index=range(tweets_df.shape[0]))\n",
    "print(classified.shape)\n",
    "time_bins = {}\n",
    "latest_date_ind = 0\n",
    "\n",
    "for i, t in enumerate(tweets_df[\"timestamp\"]):    \n",
    "    #count how many tweet per year and month\n",
    "    store_time_stats(t)\n",
    "    \n",
    "    #find the date in stocks dataframe\n",
    "    stamp_ind = find_right_timestamp_index(latest_date_ind, t)\n",
    "    \n",
    "    #fetch the change of the tweet's day\n",
    "    change = stock_df.loc[stock_df.index[stamp_ind], \"daily change\"]\n",
    "        \n",
    "    #remember where we're at so next time we start searching closer to the right place (this is an optimization)\n",
    "    latest_date_ind = stamp_ind\n",
    "    \n",
    "    #save to datastruct\n",
    "    classified[\"timestamp\"][i] = t\n",
    "    classified[\"text\"][i] = tweets_df[\"text\"][i]\n",
    "    classified[\"tweet\"][i] = tweets_df[\"tweet\"][i]\n",
    "    classified[\"value change\"][i] = change\n",
    "    \n",
    "    if i%500==0: print(\"progress \", i/classified.shape[0])\n",
    "\n"
   ]
  },
  {
   "cell_type": "code",
   "execution_count": 113,
   "metadata": {},
   "outputs": [
    {
     "name": "stdout",
     "output_type": "stream",
     "text": [
      "amount of tweets per year or month\n",
      " {2016: 250, '2016-11': 112, '2016-12': 138, 2017: 2637, '2017-1': 214, '2017-2': 154, '2017-3': 147, '2017-4': 152, '2017-5': 155, '2017-6': 212, '2017-7': 245, '2017-8': 267, '2017-9': 320, '2017-10': 325, '2017-11': 250, '2017-12': 196, 2018: 2454, '2018-1': 203, '2018-2': 174, '2018-3': 166, '2018-4': 245, '2018-5': 254, '2018-6': 372, '2018-7': 324, '2018-8': 363, '2018-9': 353}\n"
     ]
    }
   ],
   "source": [
    "#some data about how many tweets per year/month\n",
    "print (\"amount of tweets per year or month\\n\", time_bins)"
   ]
  },
  {
   "cell_type": "code",
   "execution_count": 139,
   "metadata": {
    "scrolled": true
   },
   "outputs": [
    {
     "data": {
      "text/html": [
       "<div>\n",
       "<style scoped>\n",
       "    .dataframe tbody tr th:only-of-type {\n",
       "        vertical-align: middle;\n",
       "    }\n",
       "\n",
       "    .dataframe tbody tr th {\n",
       "        vertical-align: top;\n",
       "    }\n",
       "\n",
       "    .dataframe thead th {\n",
       "        text-align: right;\n",
       "    }\n",
       "</style>\n",
       "<table border=\"1\" class=\"dataframe\">\n",
       "  <thead>\n",
       "    <tr style=\"text-align: right;\">\n",
       "      <th></th>\n",
       "      <th>timestamp</th>\n",
       "      <th>text</th>\n",
       "      <th>tweet</th>\n",
       "      <th>value change</th>\n",
       "    </tr>\n",
       "  </thead>\n",
       "  <tbody>\n",
       "    <tr>\n",
       "      <th>0</th>\n",
       "      <td>2015-06-14 21:15:20</td>\n",
       "      <td>thank you iowa get out votetrumppence https https</td>\n",
       "      <td>Thank you Iowa - Get out &amp;amp; #VoteTrumpPence...</td>\n",
       "      <td>MEDNEG</td>\n",
       "    </tr>\n",
       "    <tr>\n",
       "      <th>1</th>\n",
       "      <td>2015-06-14 21:18:23</td>\n",
       "      <td>rt https thank you new hampshire https</td>\n",
       "      <td>RT @IvankaTrump: Thank you New Hampshire! ????...</td>\n",
       "      <td>MEDNEG</td>\n",
       "    </tr>\n",
       "    <tr>\n",
       "      <th>2</th>\n",
       "      <td>2015-06-15 11:12:50</td>\n",
       "      <td>van jones there is a crack in the blue wall it...</td>\n",
       "      <td>Van Jones: ‘There Is A Crack in the Blue Wall’...</td>\n",
       "      <td>MEDPOS</td>\n",
       "    </tr>\n",
       "    <tr>\n",
       "      <th>3</th>\n",
       "      <td>2015-06-15 11:30:53</td>\n",
       "      <td>great night in denver colorado thank you toget...</td>\n",
       "      <td>Great night in Denver, Colorado- thank you! To...</td>\n",
       "      <td>MEDPOS</td>\n",
       "    </tr>\n",
       "    <tr>\n",
       "      <th>4</th>\n",
       "      <td>2015-06-15 11:40:27</td>\n",
       "      <td>rt https join https live in denver colorado vi...</td>\n",
       "      <td>RT @DanScavino: Join @realDonaldTrump LIVE in ...</td>\n",
       "      <td>MEDPOS</td>\n",
       "    </tr>\n",
       "  </tbody>\n",
       "</table>\n",
       "</div>"
      ],
      "text/plain": [
       "             timestamp                                               text  \\\n",
       "0  2015-06-14 21:15:20  thank you iowa get out votetrumppence https https   \n",
       "1  2015-06-14 21:18:23             rt https thank you new hampshire https   \n",
       "2  2015-06-15 11:12:50  van jones there is a crack in the blue wall it...   \n",
       "3  2015-06-15 11:30:53  great night in denver colorado thank you toget...   \n",
       "4  2015-06-15 11:40:27  rt https join https live in denver colorado vi...   \n",
       "\n",
       "                                               tweet value change  \n",
       "0  Thank you Iowa - Get out &amp; #VoteTrumpPence...       MEDNEG  \n",
       "1  RT @IvankaTrump: Thank you New Hampshire! ????...       MEDNEG  \n",
       "2  Van Jones: ‘There Is A Crack in the Blue Wall’...       MEDPOS  \n",
       "3  Great night in Denver, Colorado- thank you! To...       MEDPOS  \n",
       "4  RT @DanScavino: Join @realDonaldTrump LIVE in ...       MEDPOS  "
      ]
     },
     "execution_count": 139,
     "metadata": {},
     "output_type": "execute_result"
    }
   ],
   "source": [
    "classified.head()"
   ]
  },
  {
   "cell_type": "code",
   "execution_count": 115,
   "metadata": {},
   "outputs": [],
   "source": [
    "# Suffling and splitting the dataframe into train and valid dataframes\n",
    "from sklearn.model_selection import train_test_split\n",
    "train, valid = train_test_split(classified, test_size=0.15)"
   ]
  },
  {
   "cell_type": "code",
   "execution_count": 116,
   "metadata": {},
   "outputs": [
    {
     "data": {
      "text/html": [
       "<div>\n",
       "<style scoped>\n",
       "    .dataframe tbody tr th:only-of-type {\n",
       "        vertical-align: middle;\n",
       "    }\n",
       "\n",
       "    .dataframe tbody tr th {\n",
       "        vertical-align: top;\n",
       "    }\n",
       "\n",
       "    .dataframe thead th {\n",
       "        text-align: right;\n",
       "    }\n",
       "</style>\n",
       "<table border=\"1\" class=\"dataframe\">\n",
       "  <thead>\n",
       "    <tr style=\"text-align: right;\">\n",
       "      <th></th>\n",
       "      <th>timestamp</th>\n",
       "      <th>text</th>\n",
       "      <th>tweet</th>\n",
       "      <th>value change</th>\n",
       "    </tr>\n",
       "  </thead>\n",
       "  <tbody>\n",
       "    <tr>\n",
       "      <th>120</th>\n",
       "      <td>2016-12-03 16:37:27</td>\n",
       "      <td>big election tomorrow in the great state of al...</td>\n",
       "      <td>Big election tomorrow in the Great State of Al...</td>\n",
       "      <td>MEDPOS</td>\n",
       "    </tr>\n",
       "    <tr>\n",
       "      <th>4320</th>\n",
       "      <td>2018-07-03 23:13:34</td>\n",
       "      <td>lottery continues deadly catch and release and...</td>\n",
       "      <td>...lottery, continues deadly catch-and-release...</td>\n",
       "      <td>BIGPOS</td>\n",
       "    </tr>\n",
       "    <tr>\n",
       "      <th>2011</th>\n",
       "      <td>2017-09-25 11:44:05</td>\n",
       "      <td>the green party just dropped its recount suit ...</td>\n",
       "      <td>The Green Party just dropped its recount suit ...</td>\n",
       "      <td>SMANEG</td>\n",
       "    </tr>\n",
       "    <tr>\n",
       "      <th>1542</th>\n",
       "      <td>2017-08-03 16:04:10</td>\n",
       "      <td>big interview tonight by henry kravis at the b...</td>\n",
       "      <td>Big interview tonight by Henry Kravis at The B...</td>\n",
       "      <td>MEDPOS</td>\n",
       "    </tr>\n",
       "    <tr>\n",
       "      <th>4300</th>\n",
       "      <td>2018-06-30 19:44:09</td>\n",
       "      <td>if it was the goal of russia to create discord...</td>\n",
       "      <td>If it was the GOAL of Russia to create discord...</td>\n",
       "      <td>MEDPOS</td>\n",
       "    </tr>\n",
       "  </tbody>\n",
       "</table>\n",
       "</div>"
      ],
      "text/plain": [
       "                timestamp                                               text  \\\n",
       "120   2016-12-03 16:37:27  big election tomorrow in the great state of al...   \n",
       "4320  2018-07-03 23:13:34  lottery continues deadly catch and release and...   \n",
       "2011  2017-09-25 11:44:05  the green party just dropped its recount suit ...   \n",
       "1542  2017-08-03 16:04:10  big interview tonight by henry kravis at the b...   \n",
       "4300  2018-06-30 19:44:09  if it was the goal of russia to create discord...   \n",
       "\n",
       "                                                  tweet value change  \n",
       "120   Big election tomorrow in the Great State of Al...       MEDPOS  \n",
       "4320  ...lottery, continues deadly catch-and-release...       BIGPOS  \n",
       "2011  The Green Party just dropped its recount suit ...       SMANEG  \n",
       "1542  Big interview tonight by Henry Kravis at The B...       MEDPOS  \n",
       "4300  If it was the GOAL of Russia to create discord...       MEDPOS  "
      ]
     },
     "execution_count": 116,
     "metadata": {},
     "output_type": "execute_result"
    }
   ],
   "source": [
    "valid.head()"
   ]
  },
  {
   "cell_type": "code",
   "execution_count": 117,
   "metadata": {},
   "outputs": [],
   "source": [
    "# Method to make a txt-file out of dataframe for FastText\n",
    "def save_txt(dataframe, filename):\n",
    "    learning_data = \"\"\n",
    "    for i in range(0, len(dataframe)):\n",
    "        ind = dataframe.index[i]\n",
    "        change = dataframe[\"value change\"][ind]\n",
    "        text = dataframe[\"text\"][ind]\n",
    "        \n",
    "        row = \"__label__\" + change + \" \" + text\n",
    "        learning_data += row + \"\\n\"\n",
    "    print(\"thousand first characters\\n\", learning_data[:1000])\n",
    "    with open(DATA_DIR + filename, \"w\") as file:\n",
    "        file.write(learning_data)"
   ]
  },
  {
   "cell_type": "code",
   "execution_count": 118,
   "metadata": {
    "scrolled": true
   },
   "outputs": [
    {
     "name": "stdout",
     "output_type": "stream",
     "text": [
      "thousand first characters\n",
      " __label__SMANEG why isn t the house intelligence committee looking into the bill hillary deal that allowed big uranium to go to russia russian speech\n",
      "__label__MEDNEG dianne is the person leading our nation on collusion with russia only done by dems will she now investigate https\n",
      "__label__SMANEG rt https thanks for watching https\n",
      "__label__BIGNEG heading back home from singapore after a truly amazing visit great progress was made on the denuclearization of no https\n",
      "__label__BIGPOS i really don t care do u written on the back of melania s jacket refers to the fake news media melania has le https\n",
      "__label__BIGPOS today it was my great honor to welcome president marcelo rebelo de sousa of portugal to the https https\n",
      "__label__SMAPOS today it was my honor to welcome estonia president https lithuania president https lt and lat https\n",
      "__label__SMAPOS we grieve for the terrible loss of life and send our support and love to everyone affected by this horrible attack https\n",
      "__label__BIGNEG thank you f\n",
      "thousand first characters\n",
      " __label__MEDPOS big election tomorrow in the great state of alabama vote for senator luther strange tough on crime border will never let you down\n",
      "__label__BIGPOS lottery continues deadly catch and release and bars enforcement even for future illegal immigrants voting for https\n",
      "__label__SMANEG the green party just dropped its recount suit in pennsylvania and is losing votes in wisconsin recount just a stein scam to raise money\n",
      "__label__MEDPOS big interview tonight by henry kravis at the business council of washington looking forward to it\n",
      "__label__MEDPOS if it was the goal of russia to create discord disruption and chaos within the u s then with all of the committe https\n",
      "__label__MEDNEG wacky totally unhinged tom steyer who has been fighting me and my make america great again agenda from beginning never wins elections\n",
      "__label__MEDPOS roger goodell of nfl just put out a statement trying to justify the total disrespect certain players show to our country tell them to stand\n",
      "__label__BIGPOS\n"
     ]
    }
   ],
   "source": [
    "save_txt(train, \"trump_train.txt\")\n",
    "save_txt(valid, \"trump_valid.txt\")"
   ]
  },
  {
   "cell_type": "code",
   "execution_count": 47,
   "metadata": {},
   "outputs": [
    {
     "name": "stdout",
     "output_type": "stream",
     "text": [
      "thousand first characters\n",
      " __label__MEDNEG thank you iowa get out votetrumppence https https\n",
      "__label__MEDNEG rt https thank you new hampshire https\n",
      "__label__MEDPOS van jones there is a crack in the blue wall it has to do with trade https\n",
      "__label__MEDPOS great night in denver colorado thank you together we will make america great again icymi watch rally here https\n",
      "__label__MEDPOS rt https join https live in denver colorado via his facebook page we are here makeamericagreatagain https\n",
      "__label__MEDPOS thank you reno nevada nothing will stop us in our quest to make america safe and great again americafirst https\n",
      "__label__MEDPOS join me live in reno nevada https https\n",
      "__label__MEDPOS join me tomorrow minnesota pm https michigan pm https virginia p https\n",
      "__label__MEDPOS draintheswamp https\n",
      "__label__MEDPOS top clinton aides bemoan campaign all tactics no vision https\n",
      "__label__MEDPOS must act immediately clinton charity lawyer told execs they were breaking the law https\n",
      "__label__MEDPOS watch coach mike ditka a great guy\n"
     ]
    }
   ],
   "source": [
    "#save the data to a string for fastText\n",
    "#learning_data = \"\"\n",
    "#for i, change in enumerate(classified[\"value change\"]):\n",
    "#    row = \"__label__\" + change + \" \" + classified[\"text\"][i]\n",
    "#    learning_data += row + \"\\n\"\n",
    "#print(\"thousand first characters\\n\", learning_data[:1000])"
   ]
  },
  {
   "cell_type": "code",
   "execution_count": 44,
   "metadata": {},
   "outputs": [],
   "source": [
    "#write to file\n",
    "#with open(DATA_DIR + \"learning_data_all.txt\", \"w\") as file:\n",
    "#    file.write(learning_data)"
   ]
  },
  {
   "cell_type": "code",
   "execution_count": 119,
   "metadata": {},
   "outputs": [],
   "source": [
    "with open(DATA_DIR + 'trump_valid.json', 'w') as file:\n",
    "    file.write(valid.to_json(orient='index'))"
   ]
  },
  {
   "cell_type": "code",
   "execution_count": 120,
   "metadata": {},
   "outputs": [],
   "source": [
    "with open(DATA_DIR + 'trump_valid.json', \"r\") as file:\n",
    "    test = pd.read_json(file, orient='index')"
   ]
  },
  {
   "cell_type": "code",
   "execution_count": 121,
   "metadata": {},
   "outputs": [
    {
     "data": {
      "text/html": [
       "<div>\n",
       "<style scoped>\n",
       "    .dataframe tbody tr th:only-of-type {\n",
       "        vertical-align: middle;\n",
       "    }\n",
       "\n",
       "    .dataframe tbody tr th {\n",
       "        vertical-align: top;\n",
       "    }\n",
       "\n",
       "    .dataframe thead th {\n",
       "        text-align: right;\n",
       "    }\n",
       "</style>\n",
       "<table border=\"1\" class=\"dataframe\">\n",
       "  <thead>\n",
       "    <tr style=\"text-align: right;\">\n",
       "      <th></th>\n",
       "      <th>text</th>\n",
       "      <th>timestamp</th>\n",
       "      <th>tweet</th>\n",
       "      <th>value change</th>\n",
       "    </tr>\n",
       "  </thead>\n",
       "  <tbody>\n",
       "    <tr>\n",
       "      <th>120</th>\n",
       "      <td>big election tomorrow in the great state of al...</td>\n",
       "      <td>2016-12-03 16:37:27</td>\n",
       "      <td>Big election tomorrow in the Great State of Al...</td>\n",
       "      <td>MEDPOS</td>\n",
       "    </tr>\n",
       "    <tr>\n",
       "      <th>4320</th>\n",
       "      <td>lottery continues deadly catch and release and...</td>\n",
       "      <td>2018-07-03 23:13:34</td>\n",
       "      <td>...lottery, continues deadly catch-and-release...</td>\n",
       "      <td>BIGPOS</td>\n",
       "    </tr>\n",
       "    <tr>\n",
       "      <th>2011</th>\n",
       "      <td>the green party just dropped its recount suit ...</td>\n",
       "      <td>2017-09-25 11:44:05</td>\n",
       "      <td>The Green Party just dropped its recount suit ...</td>\n",
       "      <td>SMANEG</td>\n",
       "    </tr>\n",
       "    <tr>\n",
       "      <th>1542</th>\n",
       "      <td>big interview tonight by henry kravis at the b...</td>\n",
       "      <td>2017-08-03 16:04:10</td>\n",
       "      <td>Big interview tonight by Henry Kravis at The B...</td>\n",
       "      <td>MEDPOS</td>\n",
       "    </tr>\n",
       "    <tr>\n",
       "      <th>4300</th>\n",
       "      <td>if it was the goal of russia to create discord...</td>\n",
       "      <td>2018-06-30 19:44:09</td>\n",
       "      <td>If it was the GOAL of Russia to create discord...</td>\n",
       "      <td>MEDPOS</td>\n",
       "    </tr>\n",
       "  </tbody>\n",
       "</table>\n",
       "</div>"
      ],
      "text/plain": [
       "                                                   text           timestamp  \\\n",
       "120   big election tomorrow in the great state of al... 2016-12-03 16:37:27   \n",
       "4320  lottery continues deadly catch and release and... 2018-07-03 23:13:34   \n",
       "2011  the green party just dropped its recount suit ... 2017-09-25 11:44:05   \n",
       "1542  big interview tonight by henry kravis at the b... 2017-08-03 16:04:10   \n",
       "4300  if it was the goal of russia to create discord... 2018-06-30 19:44:09   \n",
       "\n",
       "                                                  tweet value change  \n",
       "120   Big election tomorrow in the Great State of Al...       MEDPOS  \n",
       "4320  ...lottery, continues deadly catch-and-release...       BIGPOS  \n",
       "2011  The Green Party just dropped its recount suit ...       SMANEG  \n",
       "1542  Big interview tonight by Henry Kravis at The B...       MEDPOS  \n",
       "4300  If it was the GOAL of Russia to create discord...       MEDPOS  "
      ]
     },
     "execution_count": 121,
     "metadata": {},
     "output_type": "execute_result"
    }
   ],
   "source": [
    "test.head()"
   ]
  },
  {
   "cell_type": "code",
   "execution_count": null,
   "metadata": {},
   "outputs": [],
   "source": []
  }
 ],
 "metadata": {
  "kernelspec": {
   "display_name": "Python 3",
   "language": "python",
   "name": "python3"
  },
  "language_info": {
   "codemirror_mode": {
    "name": "ipython",
    "version": 3
   },
   "file_extension": ".py",
   "mimetype": "text/x-python",
   "name": "python",
   "nbconvert_exporter": "python",
   "pygments_lexer": "ipython3",
   "version": "3.6.5"
  }
 },
 "nbformat": 4,
 "nbformat_minor": 2
}
