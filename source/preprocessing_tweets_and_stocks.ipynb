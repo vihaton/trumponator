{
 "cells": [
  {
   "cell_type": "code",
   "execution_count": 7,
   "metadata": {},
   "outputs": [],
   "source": [
    "import pandas as pd\n",
    "DATA_DIR = \"../data/\""
   ]
  },
  {
   "cell_type": "code",
   "execution_count": 8,
   "metadata": {},
   "outputs": [],
   "source": [
    "#read tweets\n",
    "\n"
   ]
  },
  {
   "cell_type": "code",
   "execution_count": 10,
   "metadata": {},
   "outputs": [
    {
     "name": "stdout",
     "output_type": "stream",
     "text": [
      "       daily change\n",
      "count   6850.000000\n",
      "mean       3.022527\n",
      "std      135.644100\n",
      "min    -1175.210900\n",
      "25%      -55.750000\n",
      "50%        5.330100\n",
      "75%       69.165025\n",
      "max      936.420000\n"
     ]
    }
   ],
   "source": [
    "#read stock data\n",
    "\n",
    "name_stock = DATA_DIR + \"DJI-20years-daily-change.json\"\n",
    "\n",
    "with open(name_stock, \"r\") as file:\n",
    "    stock_df = pd.read_json(file)\n",
    "    \n",
    "print(stock_df.describe())"
   ]
  },
  {
   "cell_type": "code",
   "execution_count": 4,
   "metadata": {},
   "outputs": [],
   "source": [
    "#combine the data"
   ]
  },
  {
   "cell_type": "code",
   "execution_count": 5,
   "metadata": {},
   "outputs": [],
   "source": [
    "#save the data for model training"
   ]
  }
 ],
 "metadata": {
  "kernelspec": {
   "display_name": "Python 3",
   "language": "python",
   "name": "python3"
  },
  "language_info": {
   "codemirror_mode": {
    "name": "ipython",
    "version": 3
   },
   "file_extension": ".py",
   "mimetype": "text/x-python",
   "name": "python",
   "nbconvert_exporter": "python",
   "pygments_lexer": "ipython3",
   "version": "3.6.5"
  }
 },
 "nbformat": 4,
 "nbformat_minor": 2
}
