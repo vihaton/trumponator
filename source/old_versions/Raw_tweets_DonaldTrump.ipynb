{
 "cells": [
  {
   "cell_type": "code",
   "execution_count": 1,
   "metadata": {},
   "outputs": [
    {
     "name": "stdout",
     "output_type": "stream",
     "text": [
      "Number of tweets extracted: 200.\n",
      "\n",
      "the most recent tweet:\n",
      "\n",
      "2018-09-22 19:39:15\n",
      "https://t.co/qZSEifBNaP\n",
      "\n",
      "The first observation in the file:\n",
      "\n",
      "{\"created\": \"datetime.datetime(2018, 9, 22, 19, 39, 15)\", \"text\": \"https://t.co/qZSEifBNaP\"\n"
     ]
    }
   ],
   "source": [
    "import tweepy\n",
    "from tweepy import OAuthHandler\n",
    "import json\n",
    "import datetime as dt\n",
    "\n",
    "\n",
    "consumer_key = 'xx'\n",
    "consumer_secret = 'xx'\n",
    "access_token = 'xx'\n",
    "access_secret = 'xx'\n",
    "\n",
    "auth = OAuthHandler(consumer_key, consumer_secret)\n",
    "auth.set_access_token(access_token, access_secret)\n",
    " \n",
    "extractor = tweepy.API(auth)\n",
    "\n",
    "\n",
    "tweets = extractor.user_timeline(screen_name=\"realDonaldTrump\", count=200)\n",
    "print(\"Number of tweets extracted: {}.\\n\".format(len(tweets)))\n",
    "\n",
    "print(\"the most recent tweet:\\n\")\n",
    "for tweet in tweets[:1]:\n",
    "    print(tweet.created_at)\n",
    "    print(tweet.text)\n",
    "    print()\n",
    "   \n",
    "\n",
    "#Write tweets into json file\n",
    "def write_tweets(tweets, filename):\n",
    "    #initialize the file\n",
    "    with open(filename, mode='w', encoding='utf-8') as f:\n",
    "        json.dump([], f)\n",
    "    \n",
    "    with open(filename, mode='w', encoding='utf-8') as feedsjson:\n",
    "        for tweet in tweets:\n",
    "            entry={}\n",
    "            entry['created'] = repr(tweet.created_at)\n",
    "            entry['text'] = tweet.text\n",
    "            json.dump(entry, feedsjson)\n",
    "        \n",
    "write_tweets(tweets, 'raw_trump_tweets.json')        \n",
    "\n",
    "print(\"The first observation in the file:\\n\")\n",
    "line=open('raw_trump_tweets.json').readline()\n",
    "print(line.split(\"}{\")[0])"
   ]
  },
  {
   "cell_type": "code",
   "execution_count": null,
   "metadata": {},
   "outputs": [],
   "source": []
  }
 ],
 "metadata": {
  "kernelspec": {
   "display_name": "Python 3",
   "language": "python",
   "name": "python3"
  },
  "language_info": {
   "codemirror_mode": {
    "name": "ipython",
    "version": 3
   },
   "file_extension": ".py",
   "mimetype": "text/x-python",
   "name": "python",
   "nbconvert_exporter": "python",
   "pygments_lexer": "ipython3",
   "version": "3.6.4"
  }
 },
 "nbformat": 4,
 "nbformat_minor": 2
}
