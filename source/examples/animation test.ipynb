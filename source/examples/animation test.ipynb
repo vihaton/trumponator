{
 "cells": [
  {
   "cell_type": "code",
   "execution_count": 1,
   "metadata": {},
   "outputs": [],
   "source": [
    "%matplotlib inline\n"
   ]
  },
  {
   "cell_type": "code",
   "execution_count": 2,
   "metadata": {},
   "outputs": [],
   "source": [
    "import numpy as np\n",
    "import matplotlib.pyplot as plt\n",
    "\n",
    "from matplotlib import animation, rc\n",
    "from IPython.display import HTML, Image\n"
   ]
  },
  {
   "cell_type": "code",
   "execution_count": 10,
   "metadata": {},
   "outputs": [
    {
     "data": {
      "text/plain": [
       "['imagemagick', 'imagemagick_file', 'html']"
      ]
     },
     "execution_count": 10,
     "metadata": {},
     "output_type": "execute_result"
    }
   ],
   "source": [
    "animation.writers.list()"
   ]
  },
  {
   "cell_type": "code",
   "execution_count": 3,
   "metadata": {},
   "outputs": [],
   "source": [
    "# equivalent to rcParams['animation.html'] = 'html5'\n",
    "rc('animation', html='html5')\n"
   ]
  },
  {
   "cell_type": "code",
   "execution_count": 4,
   "metadata": {},
   "outputs": [
    {
     "data": {
      "image/png": "[encoded data removed]",
      "text/plain": [
       "<Figure size 432x288 with 1 Axes>"
      ]
     },
     "metadata": {
      "needs_background": "light"
     },
     "output_type": "display_data"
    }
   ],
   "source": [
    "# First set up the figure, the axis, and the plot element we want to animate\n",
    "fig, ax = plt.subplots()\n",
    "\n",
    "ax.set_xlim(( 0, 2))\n",
    "ax.set_ylim((-2, 2))\n",
    "\n",
    "line, = ax.plot([], [], lw=2)"
   ]
  },
  {
   "cell_type": "code",
   "execution_count": 5,
   "metadata": {},
   "outputs": [],
   "source": [
    "# initialization function: plot the background of each frame\n",
    "def init():\n",
    "    line.set_data([], [])\n",
    "    return (line,)\n"
   ]
  },
  {
   "cell_type": "code",
   "execution_count": 6,
   "metadata": {},
   "outputs": [],
   "source": [
    "# animation function. This is called sequentially\n",
    "def animate(i):\n",
    "    x = np.linspace(0, 2, 1000)\n",
    "    y = np.sin(2 * np.pi * (x - 0.01 * i))\n",
    "    line.set_data(x, y)\n",
    "    return (line,)"
   ]
  },
  {
   "cell_type": "code",
   "execution_count": 13,
   "metadata": {},
   "outputs": [],
   "source": [
    "# call the animator. blit=True means only re-draw the parts that \n",
    "# have changed.\n",
    "anim = animation.FuncAnimation(fig, animate, init_func=init,\n",
    "                               frames=100, interval=20, blit=True)\n"
   ]
  },
  {
   "cell_type": "code",
   "execution_count": 14,
   "metadata": {},
   "outputs": [
    {
     "ename": "RuntimeError",
     "evalue": "Requested MovieWriter (ffmpeg) not available",
     "output_type": "error",
     "traceback": [
      "\u001b[0;31m---------------------------------------------------------------------------\u001b[0m",
      "\u001b[0;31mKeyError\u001b[0m                                  Traceback (most recent call last)",
      "\u001b[0;32m~/anaconda3/envs/alphavantage/lib/python3.6/site-packages/matplotlib/animation.py\u001b[0m in \u001b[0;36m__getitem__\u001b[0;34m(self, name)\u001b[0m\n\u001b[1;32m    160\u001b[0m         \u001b[0;32mtry\u001b[0m\u001b[0;34m:\u001b[0m\u001b[0;34m\u001b[0m\u001b[0m\n\u001b[0;32m--> 161\u001b[0;31m             \u001b[0;32mreturn\u001b[0m \u001b[0mself\u001b[0m\u001b[0;34m.\u001b[0m\u001b[0mavail\u001b[0m\u001b[0;34m[\u001b[0m\u001b[0mname\u001b[0m\u001b[0;34m]\u001b[0m\u001b[0;34m\u001b[0m\u001b[0m\n\u001b[0m\u001b[1;32m    162\u001b[0m         \u001b[0;32mexcept\u001b[0m \u001b[0mKeyError\u001b[0m\u001b[0;34m:\u001b[0m\u001b[0;34m\u001b[0m\u001b[0m\n",
      "\u001b[0;31mKeyError\u001b[0m: 'ffmpeg'",
      "\nDuring handling of the above exception, another exception occurred:\n",
      "\u001b[0;31mRuntimeError\u001b[0m                              Traceback (most recent call last)",
      "\u001b[0;32m~/anaconda3/envs/alphavantage/lib/python3.6/site-packages/IPython/core/formatters.py\u001b[0m in \u001b[0;36m__call__\u001b[0;34m(self, obj)\u001b[0m\n\u001b[1;32m    343\u001b[0m             \u001b[0mmethod\u001b[0m \u001b[0;34m=\u001b[0m \u001b[0mget_real_method\u001b[0m\u001b[0;34m(\u001b[0m\u001b[0mobj\u001b[0m\u001b[0;34m,\u001b[0m \u001b[0mself\u001b[0m\u001b[0;34m.\u001b[0m\u001b[0mprint_method\u001b[0m\u001b[0;34m)\u001b[0m\u001b[0;34m\u001b[0m\u001b[0m\n\u001b[1;32m    344\u001b[0m             \u001b[0;32mif\u001b[0m \u001b[0mmethod\u001b[0m \u001b[0;32mis\u001b[0m \u001b[0;32mnot\u001b[0m \u001b[0;32mNone\u001b[0m\u001b[0;34m:\u001b[0m\u001b[0;34m\u001b[0m\u001b[0m\n\u001b[0;32m--> 345\u001b[0;31m                 \u001b[0;32mreturn\u001b[0m \u001b[0mmethod\u001b[0m\u001b[0;34m(\u001b[0m\u001b[0;34m)\u001b[0m\u001b[0;34m\u001b[0m\u001b[0m\n\u001b[0m\u001b[1;32m    346\u001b[0m             \u001b[0;32mreturn\u001b[0m \u001b[0;32mNone\u001b[0m\u001b[0;34m\u001b[0m\u001b[0m\n\u001b[1;32m    347\u001b[0m         \u001b[0;32melse\u001b[0m\u001b[0;34m:\u001b[0m\u001b[0;34m\u001b[0m\u001b[0m\n",
      "\u001b[0;32m~/anaconda3/envs/alphavantage/lib/python3.6/site-packages/matplotlib/animation.py\u001b[0m in \u001b[0;36m_repr_html_\u001b[0;34m(self)\u001b[0m\n\u001b[1;32m   1384\u001b[0m         \u001b[0mfmt\u001b[0m \u001b[0;34m=\u001b[0m \u001b[0mrcParams\u001b[0m\u001b[0;34m[\u001b[0m\u001b[0;34m'animation.html'\u001b[0m\u001b[0;34m]\u001b[0m\u001b[0;34m\u001b[0m\u001b[0m\n\u001b[1;32m   1385\u001b[0m         \u001b[0;32mif\u001b[0m \u001b[0mfmt\u001b[0m \u001b[0;34m==\u001b[0m \u001b[0;34m'html5'\u001b[0m\u001b[0;34m:\u001b[0m\u001b[0;34m\u001b[0m\u001b[0m\n\u001b[0;32m-> 1386\u001b[0;31m             \u001b[0;32mreturn\u001b[0m \u001b[0mself\u001b[0m\u001b[0;34m.\u001b[0m\u001b[0mto_html5_video\u001b[0m\u001b[0;34m(\u001b[0m\u001b[0;34m)\u001b[0m\u001b[0;34m\u001b[0m\u001b[0m\n\u001b[0m\u001b[1;32m   1387\u001b[0m         \u001b[0;32melif\u001b[0m \u001b[0mfmt\u001b[0m \u001b[0;34m==\u001b[0m \u001b[0;34m'jshtml'\u001b[0m\u001b[0;34m:\u001b[0m\u001b[0;34m\u001b[0m\u001b[0m\n\u001b[1;32m   1388\u001b[0m             \u001b[0;32mreturn\u001b[0m \u001b[0mself\u001b[0m\u001b[0;34m.\u001b[0m\u001b[0mto_jshtml\u001b[0m\u001b[0;34m(\u001b[0m\u001b[0;34m)\u001b[0m\u001b[0;34m\u001b[0m\u001b[0m\n",
      "\u001b[0;32m~/anaconda3/envs/alphavantage/lib/python3.6/site-packages/matplotlib/animation.py\u001b[0m in \u001b[0;36mto_html5_video\u001b[0;34m(self, embed_limit)\u001b[0m\n\u001b[1;32m   1321\u001b[0m                 \u001b[0;31m# We create a writer manually so that we can get the\u001b[0m\u001b[0;34m\u001b[0m\u001b[0;34m\u001b[0m\u001b[0m\n\u001b[1;32m   1322\u001b[0m                 \u001b[0;31m# appropriate size for the tag\u001b[0m\u001b[0;34m\u001b[0m\u001b[0;34m\u001b[0m\u001b[0m\n\u001b[0;32m-> 1323\u001b[0;31m                 \u001b[0mWriter\u001b[0m \u001b[0;34m=\u001b[0m \u001b[0mwriters\u001b[0m\u001b[0;34m[\u001b[0m\u001b[0mrcParams\u001b[0m\u001b[0;34m[\u001b[0m\u001b[0;34m'animation.writer'\u001b[0m\u001b[0;34m]\u001b[0m\u001b[0;34m]\u001b[0m\u001b[0;34m\u001b[0m\u001b[0m\n\u001b[0m\u001b[1;32m   1324\u001b[0m                 writer = Writer(codec='h264',\n\u001b[1;32m   1325\u001b[0m                                 \u001b[0mbitrate\u001b[0m\u001b[0;34m=\u001b[0m\u001b[0mrcParams\u001b[0m\u001b[0;34m[\u001b[0m\u001b[0;34m'animation.bitrate'\u001b[0m\u001b[0;34m]\u001b[0m\u001b[0;34m,\u001b[0m\u001b[0;34m\u001b[0m\u001b[0m\n",
      "\u001b[0;32m~/anaconda3/envs/alphavantage/lib/python3.6/site-packages/matplotlib/animation.py\u001b[0m in \u001b[0;36m__getitem__\u001b[0;34m(self, name)\u001b[0m\n\u001b[1;32m    162\u001b[0m         \u001b[0;32mexcept\u001b[0m \u001b[0mKeyError\u001b[0m\u001b[0;34m:\u001b[0m\u001b[0;34m\u001b[0m\u001b[0m\n\u001b[1;32m    163\u001b[0m             raise RuntimeError(\n\u001b[0;32m--> 164\u001b[0;31m                 'Requested MovieWriter ({}) not available'.format(name))\n\u001b[0m\u001b[1;32m    165\u001b[0m \u001b[0;34m\u001b[0m\u001b[0m\n\u001b[1;32m    166\u001b[0m \u001b[0;34m\u001b[0m\u001b[0m\n",
      "\u001b[0;31mRuntimeError\u001b[0m: Requested MovieWriter (ffmpeg) not available"
     ]
    },
    {
     "data": {
      "text/plain": [
       "<matplotlib.animation.FuncAnimation at 0x7f4e55e86f60>"
      ]
     },
     "execution_count": 14,
     "metadata": {},
     "output_type": "execute_result"
    }
   ],
   "source": [
    "anim\n"
   ]
  },
  {
   "cell_type": "code",
   "execution_count": null,
   "metadata": {},
   "outputs": [
    {
     "name": "stdout",
     "output_type": "stream",
     "text": [
      "Solving environment: done\n",
      "\n",
      "## Package Plan ##\n",
      "\n",
      "  environment location: /home/vili/anaconda3\n",
      "\n",
      "  added / updated specs: \n",
      "    - imagemagick\n",
      "\n",
      "\n",
      "The following packages will be downloaded:\n",
      "\n",
      "    package                    |            build\n",
      "    ---------------------------|-----------------\n",
      "    xorg-libxt-1.1.5           |       h470a237_2         352 KB  conda-forge\n",
      "    gobject-introspection-1.56.1|   py36haaf12d0_1         1.3 MB  conda-forge\n",
      "    glib-2.56.2                |       h464dc38_0         4.9 MB  conda-forge\n",
      "    imagemagick-7.0.8_11       |  pl526hc610aec_1         2.7 MB  conda-forge\n",
      "    fftw-3.3.8                 |       h470a237_0         3.8 MB  conda-forge\n",
      "    pillow-5.2.0               |   py36heded4f4_0         586 KB\n",
      "    librsvg-2.40.19            |       h02b147b_0         130 KB  conda-forge\n",
      "    conda-4.5.11               |        py36_1000         651 KB  conda-forge\n",
      "    pango-1.40.14              |       he752989_2         527 KB  conda-forge\n",
      "    gdk-pixbuf-2.36.12         |       h4ab6910_1         608 KB  conda-forge\n",
      "    xorg-libsm-1.2.2           |       h470a237_5          24 KB  conda-forge\n",
      "    libwebp-0.5.2              |                7         688 KB  conda-forge\n",
      "    poppler-0.65.0             |       h581218d_1         1.6 MB\n",
      "    harfbuzz-1.9.0             |       h04dbb29_1         1.1 MB  conda-forge\n",
      "    cairo-1.14.12              |       h8948797_3         1.3 MB\n",
      "    matplotlib-2.2.3           |   py36hb69df0a_0         6.6 MB\n",
      "    xorg-libxpm-3.5.12         |       h470a237_2          56 KB  conda-forge\n",
      "    ghostscript-9.22           |       hfc679d8_1        17.8 MB  conda-forge\n",
      "    pkg-config-0.29.2          |       h470a237_3         446 KB  conda-forge\n",
      "    graphviz-2.38.0            |       h08bfae6_9         9.7 MB  conda-forge\n",
      "    libcroco-0.6.12            |       h67e89d5_1         134 KB  conda-forge\n",
      "    fontconfig-2.13.0          |       h9420a91_0         291 KB\n",
      "    qt-5.9.6                   |       h52aff34_0        86.7 MB\n",
      "    perl-5.26.2                |       h470a237_0        15.8 MB  conda-forge\n",
      "    ------------------------------------------------------------\n",
      "                                           Total:       157.6 MB\n",
      "\n",
      "The following NEW packages will be INSTALLED:\n",
      "\n",
      "    fftw:                  3.3.8-h470a237_0         conda-forge\n",
      "    gdk-pixbuf:            2.36.12-h4ab6910_1       conda-forge\n",
      "    gettext:               0.19.8.1-h5e8e0c9_1      conda-forge\n",
      "    ghostscript:           9.22-hfc679d8_1          conda-forge\n",
      "    gobject-introspection: 1.56.1-py36haaf12d0_1    conda-forge\n",
      "    graphviz:              2.38.0-h08bfae6_9        conda-forge\n",
      "    imagemagick:           7.0.8_11-pl526hc610aec_1 conda-forge\n",
      "    libcroco:              0.6.12-h67e89d5_1        conda-forge\n",
      "    librsvg:               2.40.19-h02b147b_0       conda-forge\n",
      "    libwebp:               0.5.2-7                  conda-forge\n",
      "    perl:                  5.26.2-h470a237_0        conda-forge\n",
      "    pkg-config:            0.29.2-h470a237_3        conda-forge\n",
      "    xorg-kbproto:          1.0.7-h470a237_2         conda-forge\n",
      "    xorg-libice:           1.0.9-h470a237_4         conda-forge\n",
      "    xorg-libsm:            1.2.2-h470a237_5         conda-forge\n",
      "    xorg-libx11:           1.6.6-h470a237_0         conda-forge\n",
      "    xorg-libxext:          1.3.3-h470a237_4         conda-forge\n",
      "    xorg-libxpm:           3.5.12-h470a237_2        conda-forge\n",
      "    xorg-libxrender:       0.9.10-h470a237_2        conda-forge\n",
      "    xorg-libxt:            1.1.5-h470a237_2         conda-forge\n",
      "    xorg-renderproto:      0.11.1-h470a237_2        conda-forge\n",
      "    xorg-xextproto:        7.3.0-h470a237_2         conda-forge\n",
      "    xorg-xproto:           7.0.31-h470a237_7        conda-forge\n",
      "\n",
      "The following packages will be UPDATED:\n",
      "\n",
      "    cairo:                 1.14.12-h7636065_2                   --> 1.14.12-h8948797_3              \n",
      "    conda:                 4.5.11-py36_0            conda-forge --> 4.5.11-py36_1000     conda-forge\n",
      "    fontconfig:            2.12.6-h49f89f6_0                    --> 2.13.0-h9420a91_0               \n",
      "    freetype:              2.8-hab7d2ae_1                       --> 2.9.1-h6debe1e_4     conda-forge\n",
      "    glib:                  2.56.1-h000015b_0                    --> 2.56.2-h464dc38_0    conda-forge\n",
      "    harfbuzz:              1.7.6-h5f0a787_1                     --> 1.9.0-h04dbb29_1     conda-forge\n",
      "    jpeg:                  9b-h024ee3a_2                        --> 9c-h470a237_1        conda-forge\n",
      "    matplotlib:            2.2.2-py36h0e671d2_1                 --> 2.2.3-py36hb69df0a_0            \n",
      "    openssl:               1.0.2p-h470a237_0        conda-forge --> 1.0.2p-h470a237_1    conda-forge\n",
      "    pillow:                5.1.0-py36h3deb7b8_0                 --> 5.2.0-py36heded4f4_0            \n",
      "    poppler:               0.65.0-ha54bb34_0                    --> 0.65.0-h581218d_1               \n",
      "    qt:                    5.9.5-h7e424d6_0                     --> 5.9.6-h52aff34_0                \n",
      "\n",
      "The following packages will be DOWNGRADED:\n",
      "\n",
      "    pango:                 1.41.0-hd475d92_0                    --> 1.40.14-he752989_2   conda-forge\n",
      "\n",
      "Proceed ([y]/n)? "
     ]
    }
   ],
   "source": [
    "!conda install imagemagick\n"
   ]
  },
  {
   "cell_type": "code",
   "execution_count": null,
   "metadata": {},
   "outputs": [],
   "source": []
  }
 ],
 "metadata": {
  "kernelspec": {
   "display_name": "alphavantage",
   "language": "python",
   "name": "alphavantage"
  },
  "language_info": {
   "codemirror_mode": {
    "name": "ipython",
    "version": 3
   },
   "file_extension": ".py",
   "mimetype": "text/x-python",
   "name": "python",
   "nbconvert_exporter": "python",
   "pygments_lexer": "ipython3",
   "version": "3.6.6"
  }
 },
 "nbformat": 4,
 "nbformat_minor": 2
}
