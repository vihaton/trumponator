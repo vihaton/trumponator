{
 "cells": [
  {
   "cell_type": "code",
   "execution_count": 26,
   "metadata": {},
   "outputs": [],
   "source": [
    "@InProceedings{joulin2017bag,\n",
    "  title={Bag of Tricks for Efficient Text Classification},\n",
    "  author={Joulin, Armand and Grave, Edouard and Bojanowski, Piotr and Mikolov, Tomas},\n",
    "  booktitle={Proceedings of the 15th Conference of the European Chapter of the Association for Computational Linguistics: Volume 2, Short Papers},\n",
    "  month={April},\n",
    "  year={2017},\n",
    "  publisher={Association for Computational Linguistics},\n",
    "  pages={427--431},\n",
    "}"
   ]
  },
  {
   "cell_type": "code",
   "execution_count": 4,
   "metadata": {},
   "outputs": [],
   "source": [
    "import fasttext\n",
    "import pandas as pd\n",
    "\n",
    "DATA_DIR = \"../traindata/\"\n",
    "MODELS_DIR = \"../models/\"\n",
    "RESULT_DIR = \"../data/\"\n",
    "\n",
    "pretrained = DATA_DIR + \"wiki-news-300d-1M-subword.vec\""
   ]
  },
  {
   "cell_type": "code",
   "execution_count": 5,
   "metadata": {},
   "outputs": [],
   "source": [
    "# Skipgram model\n",
    "before_model = fasttext.supervised(DATA_DIR + 'before_train.txt', MODELS_DIR + 'before_model', epoch='50')\n",
    "after_model = fasttext.supervised(DATA_DIR + 'after_train.txt', MODELS_DIR + 'after_model', epoch='50')\n",
    "all_model1 = fasttext.supervised(DATA_DIR + 'train.txt', MODELS_DIR + 'all_model', lr='0.5', epoch=100)\n",
    "#all_model1 = fasttext.supervised(DATA_DIR + 'train.txt', MODELS_DIR + 'all_model', dim=50, epoch=500, lr='1.0', loss='hs')"
   ]
  },
  {
   "cell_type": "code",
   "execution_count": 6,
   "metadata": {},
   "outputs": [
    {
     "name": "stdout",
     "output_type": "stream",
     "text": [
      "0.45229982964224874\n",
      "0.45229982964224874\n"
     ]
    }
   ],
   "source": [
    "result = all_model1.test(DATA_DIR + 'valid.txt')\n",
    "print(result.precision)\n",
    "print(result.recall)"
   ]
  },
  {
   "cell_type": "code",
   "execution_count": 38,
   "metadata": {},
   "outputs": [
    {
     "name": "stdout",
     "output_type": "stream",
     "text": [
      "0.2676147382029735\n",
      "0.25561097256857856\n",
      "1547\n",
      "802\n"
     ]
    }
   ],
   "source": [
    "before_result = before_model.test(DATA_DIR + 'before_valid.txt')\n",
    "after_result = after_model.test(DATA_DIR + 'after_valid.txt')\n",
    "#all_resutl = all_model1.test(DATA_DIR + 'valid.txt')\n",
    "print(before_result.precision)\n",
    "print(after_result.precision)\n",
    "\n",
    "print(before_result.nexamples)\n",
    "print(after_result.nexamples)\n"
   ]
  },
  {
   "cell_type": "code",
   "execution_count": 7,
   "metadata": {},
   "outputs": [],
   "source": [
    "with open(DATA_DIR + 'valid.json', \"r\") as file:\n",
    "    valid_df = pd.read_json(file, orient='index')"
   ]
  },
  {
   "cell_type": "code",
   "execution_count": 8,
   "metadata": {},
   "outputs": [
    {
     "data": {
      "text/html": [
       "<div>\n",
       "<style scoped>\n",
       "    .dataframe tbody tr th:only-of-type {\n",
       "        vertical-align: middle;\n",
       "    }\n",
       "\n",
       "    .dataframe tbody tr th {\n",
       "        vertical-align: top;\n",
       "    }\n",
       "\n",
       "    .dataframe thead th {\n",
       "        text-align: right;\n",
       "    }\n",
       "</style>\n",
       "<table border=\"1\" class=\"dataframe\">\n",
       "  <thead>\n",
       "    <tr style=\"text-align: right;\">\n",
       "      <th></th>\n",
       "      <th>text</th>\n",
       "      <th>timestamp</th>\n",
       "      <th>tweet</th>\n",
       "      <th>value change</th>\n",
       "    </tr>\n",
       "  </thead>\n",
       "  <tbody>\n",
       "    <tr>\n",
       "      <th>2541</th>\n",
       "      <td>https https https we all voted for you tonight...</td>\n",
       "      <td>2015-10-29 03:48:02</td>\n",
       "      <td>\"@hyatt1942: @realDonaldTrump @piersmorgan WE ...</td>\n",
       "      <td>MEDNEG</td>\n",
       "    </tr>\n",
       "    <tr>\n",
       "      <th>12527</th>\n",
       "      <td>president donald j trump proclaims october as ...</td>\n",
       "      <td>2017-10-09 18:35:04</td>\n",
       "      <td>\"President Donald J. Trump Proclaims October 9...</td>\n",
       "      <td>MEDPOS</td>\n",
       "    </tr>\n",
       "    <tr>\n",
       "      <th>5831</th>\n",
       "      <td>https https high energy</td>\n",
       "      <td>2016-05-25 05:45:19</td>\n",
       "      <td>\"@buiIdthewall: @realDonaldTrump high energy!\"</td>\n",
       "      <td>SMANEG</td>\n",
       "    </tr>\n",
       "    <tr>\n",
       "      <th>9855</th>\n",
       "      <td>record high for s p</td>\n",
       "      <td>2017-09-29 13:39:53</td>\n",
       "      <td>RECORD HIGH FOR S &amp;amp; P 500!</td>\n",
       "      <td>BIGPOS</td>\n",
       "    </tr>\n",
       "    <tr>\n",
       "      <th>14647</th>\n",
       "      <td>just won lawsuit filed by the dnc and a bunch ...</td>\n",
       "      <td>2018-07-06 16:57:34</td>\n",
       "      <td>Just won lawsuit filed by the DNC and a bunch ...</td>\n",
       "      <td>BIGPOS</td>\n",
       "    </tr>\n",
       "  </tbody>\n",
       "</table>\n",
       "</div>"
      ],
      "text/plain": [
       "                                                    text           timestamp  \\\n",
       "2541   https https https we all voted for you tonight... 2015-10-29 03:48:02   \n",
       "12527  president donald j trump proclaims october as ... 2017-10-09 18:35:04   \n",
       "5831                             https https high energy 2016-05-25 05:45:19   \n",
       "9855                                 record high for s p 2017-09-29 13:39:53   \n",
       "14647  just won lawsuit filed by the dnc and a bunch ... 2018-07-06 16:57:34   \n",
       "\n",
       "                                                   tweet value change  \n",
       "2541   \"@hyatt1942: @realDonaldTrump @piersmorgan WE ...       MEDNEG  \n",
       "12527  \"President Donald J. Trump Proclaims October 9...       MEDPOS  \n",
       "5831      \"@buiIdthewall: @realDonaldTrump high energy!\"       SMANEG  \n",
       "9855                      RECORD HIGH FOR S &amp; P 500!       BIGPOS  \n",
       "14647  Just won lawsuit filed by the DNC and a bunch ...       BIGPOS  "
      ]
     },
     "execution_count": 8,
     "metadata": {},
     "output_type": "execute_result"
    }
   ],
   "source": [
    "valid_df.head()"
   ]
  },
  {
   "cell_type": "code",
   "execution_count": 9,
   "metadata": {},
   "outputs": [
    {
     "name": "stdout",
     "output_type": "stream",
     "text": [
      "['https https https we all voted for you tonight as winner of the debate', 'president donald j trump proclaims october as columbusday https', 'https https high energy', 'record high for s p', 'just won lawsuit filed by the dnc and a bunch of democrat crazies trying to claim the trump campaign and others https', 'fake https made up a story that i wanted a tenfold increase in our u s nuclear arsenal pure fiction made up to demean nbc cnn', 'https https it defies belief the web of lies hillary is spinning one excuse after another then it s this then it s that', 'watch https on now https', 'https https ia caucus hasn t picked nominee in years cruz dirty tricks stole it trump way ahead in primary states', 'https vito thank you mr trump for standing up for our country votetrump join me on the trumptrain https']\n"
     ]
    }
   ],
   "source": [
    "texts = [text for text in valid_df['text']]\n",
    "print(texts[0:10])"
   ]
  },
  {
   "cell_type": "code",
   "execution_count": 16,
   "metadata": {},
   "outputs": [
    {
     "name": "stdout",
     "output_type": "stream",
     "text": [
      "['BIGPOS', 'MEDPOS', 'BIGPOS', 'BIGPOS', 'SMAPOS', 'MEDNEG', 'MEDPOS', 'MEDNEG', 'MEDPOS', 'MEDNEG']\n"
     ]
    }
   ],
   "source": [
    "labels = all_model1.predict(texts)\n",
    "labels = [label[0] for label in labels]\n",
    "print(labels[0:10])"
   ]
  },
  {
   "cell_type": "code",
   "execution_count": 35,
   "metadata": {},
   "outputs": [
    {
     "name": "stdout",
     "output_type": "stream",
     "text": [
      "['https https https we all voted for you tonight as winner of the debate']\n",
      "[[('BIGPOS', 0.566406), ('SMANEG', 0.345703), ('BIGNEG', 0.0839844), ('MEDPOS', 1.95313e-08), ('SMAPOS', 1.95313e-08), ('MEDNEG', 1.95313e-08)]]\n",
      "['MEDNEG', 'MEDPOS', 'BIGPOS', 'SMANEG', 'BIGNEG', 'SMAPOS']\n"
     ]
    }
   ],
   "source": [
    "t = texts[0] # this would return a list of one tweet: texts[0:1]\n",
    "t = [t] #t has to be a list\n",
    "print (t)\n",
    "\n",
    "l = all_model1.predict_proba(t, 6) #predict 6 most probable classes and show probabilities\n",
    "print (l)\n",
    "\n",
    "#print available labels\n",
    "print(all_model1.labels)"
   ]
  },
  {
   "cell_type": "code",
   "execution_count": 25,
   "metadata": {},
   "outputs": [
    {
     "data": {
      "text/html": [
       "<div>\n",
       "<style scoped>\n",
       "    .dataframe tbody tr th:only-of-type {\n",
       "        vertical-align: middle;\n",
       "    }\n",
       "\n",
       "    .dataframe tbody tr th {\n",
       "        vertical-align: top;\n",
       "    }\n",
       "\n",
       "    .dataframe thead th {\n",
       "        text-align: right;\n",
       "    }\n",
       "</style>\n",
       "<table border=\"1\" class=\"dataframe\">\n",
       "  <thead>\n",
       "    <tr style=\"text-align: right;\">\n",
       "      <th></th>\n",
       "      <th>text</th>\n",
       "      <th>timestamp</th>\n",
       "      <th>tweet</th>\n",
       "      <th>value change</th>\n",
       "    </tr>\n",
       "  </thead>\n",
       "  <tbody>\n",
       "    <tr>\n",
       "      <th>2541</th>\n",
       "      <td>https https https we all voted for you tonight...</td>\n",
       "      <td>2015-10-29 03:48:02</td>\n",
       "      <td>\"@hyatt1942: @realDonaldTrump @piersmorgan WE ...</td>\n",
       "      <td>MEDNEG</td>\n",
       "    </tr>\n",
       "    <tr>\n",
       "      <th>12527</th>\n",
       "      <td>president donald j trump proclaims october as ...</td>\n",
       "      <td>2017-10-09 18:35:04</td>\n",
       "      <td>\"President Donald J. Trump Proclaims October 9...</td>\n",
       "      <td>MEDPOS</td>\n",
       "    </tr>\n",
       "    <tr>\n",
       "      <th>5831</th>\n",
       "      <td>https https high energy</td>\n",
       "      <td>2016-05-25 05:45:19</td>\n",
       "      <td>\"@buiIdthewall: @realDonaldTrump high energy!\"</td>\n",
       "      <td>SMANEG</td>\n",
       "    </tr>\n",
       "    <tr>\n",
       "      <th>9855</th>\n",
       "      <td>record high for s p</td>\n",
       "      <td>2017-09-29 13:39:53</td>\n",
       "      <td>RECORD HIGH FOR S &amp;amp; P 500!</td>\n",
       "      <td>BIGPOS</td>\n",
       "    </tr>\n",
       "    <tr>\n",
       "      <th>14647</th>\n",
       "      <td>just won lawsuit filed by the dnc and a bunch ...</td>\n",
       "      <td>2018-07-06 16:57:34</td>\n",
       "      <td>Just won lawsuit filed by the DNC and a bunch ...</td>\n",
       "      <td>BIGPOS</td>\n",
       "    </tr>\n",
       "    <tr>\n",
       "      <th>10029</th>\n",
       "      <td>fake https made up a story that i wanted a ten...</td>\n",
       "      <td>2017-10-11 13:45:22</td>\n",
       "      <td>Fake @NBCNews made up a story that I wanted a ...</td>\n",
       "      <td>MEDNEG</td>\n",
       "    </tr>\n",
       "    <tr>\n",
       "      <th>6931</th>\n",
       "      <td>https https it defies belief the web of lies h...</td>\n",
       "      <td>2016-09-05 01:24:26</td>\n",
       "      <td>\"@CherNuna: @realDonaldTrump It defies belief ...</td>\n",
       "      <td>MEDPOS</td>\n",
       "    </tr>\n",
       "    <tr>\n",
       "      <th>4365</th>\n",
       "      <td>watch https on now https</td>\n",
       "      <td>2016-02-05 01:03:23</td>\n",
       "      <td>Watch @AC360 on NOW! @CNN</td>\n",
       "      <td>BIGNEG</td>\n",
       "    </tr>\n",
       "    <tr>\n",
       "      <th>4394</th>\n",
       "      <td>https https ia caucus hasn t picked nominee in...</td>\n",
       "      <td>2016-02-06 20:04:09</td>\n",
       "      <td>\"@realOllieTaylor: @paintonmy: IA caucus hasn'...</td>\n",
       "      <td>BIGNEG</td>\n",
       "    </tr>\n",
       "    <tr>\n",
       "      <th>5938</th>\n",
       "      <td>https vito thank you mr trump for standing up ...</td>\n",
       "      <td>2016-06-04 12:49:18</td>\n",
       "      <td>\"@Don_Vito_08: Thank You Mr. Trump for Standin...</td>\n",
       "      <td>MEDPOS</td>\n",
       "    </tr>\n",
       "  </tbody>\n",
       "</table>\n",
       "</div>"
      ],
      "text/plain": [
       "                                                    text           timestamp  \\\n",
       "2541   https https https we all voted for you tonight... 2015-10-29 03:48:02   \n",
       "12527  president donald j trump proclaims october as ... 2017-10-09 18:35:04   \n",
       "5831                             https https high energy 2016-05-25 05:45:19   \n",
       "9855                                 record high for s p 2017-09-29 13:39:53   \n",
       "14647  just won lawsuit filed by the dnc and a bunch ... 2018-07-06 16:57:34   \n",
       "10029  fake https made up a story that i wanted a ten... 2017-10-11 13:45:22   \n",
       "6931   https https it defies belief the web of lies h... 2016-09-05 01:24:26   \n",
       "4365                            watch https on now https 2016-02-05 01:03:23   \n",
       "4394   https https ia caucus hasn t picked nominee in... 2016-02-06 20:04:09   \n",
       "5938   https vito thank you mr trump for standing up ... 2016-06-04 12:49:18   \n",
       "\n",
       "                                                   tweet value change  \n",
       "2541   \"@hyatt1942: @realDonaldTrump @piersmorgan WE ...       MEDNEG  \n",
       "12527  \"President Donald J. Trump Proclaims October 9...       MEDPOS  \n",
       "5831      \"@buiIdthewall: @realDonaldTrump high energy!\"       SMANEG  \n",
       "9855                      RECORD HIGH FOR S &amp; P 500!       BIGPOS  \n",
       "14647  Just won lawsuit filed by the DNC and a bunch ...       BIGPOS  \n",
       "10029  Fake @NBCNews made up a story that I wanted a ...       MEDNEG  \n",
       "6931   \"@CherNuna: @realDonaldTrump It defies belief ...       MEDPOS  \n",
       "4365                           Watch @AC360 on NOW! @CNN       BIGNEG  \n",
       "4394   \"@realOllieTaylor: @paintonmy: IA caucus hasn'...       BIGNEG  \n",
       "5938   \"@Don_Vito_08: Thank You Mr. Trump for Standin...       MEDPOS  "
      ]
     },
     "execution_count": 25,
     "metadata": {},
     "output_type": "execute_result"
    }
   ],
   "source": [
    "valid_df[0:10]"
   ]
  },
  {
   "cell_type": "code",
   "execution_count": 26,
   "metadata": {},
   "outputs": [],
   "source": [
    "valid_df['predicted changes'] = labels"
   ]
  },
  {
   "cell_type": "code",
   "execution_count": 27,
   "metadata": {},
   "outputs": [
    {
     "data": {
      "text/html": [
       "<div>\n",
       "<style scoped>\n",
       "    .dataframe tbody tr th:only-of-type {\n",
       "        vertical-align: middle;\n",
       "    }\n",
       "\n",
       "    .dataframe tbody tr th {\n",
       "        vertical-align: top;\n",
       "    }\n",
       "\n",
       "    .dataframe thead th {\n",
       "        text-align: right;\n",
       "    }\n",
       "</style>\n",
       "<table border=\"1\" class=\"dataframe\">\n",
       "  <thead>\n",
       "    <tr style=\"text-align: right;\">\n",
       "      <th></th>\n",
       "      <th>text</th>\n",
       "      <th>timestamp</th>\n",
       "      <th>tweet</th>\n",
       "      <th>value change</th>\n",
       "      <th>predicted changes</th>\n",
       "    </tr>\n",
       "  </thead>\n",
       "  <tbody>\n",
       "    <tr>\n",
       "      <th>2541</th>\n",
       "      <td>https https https we all voted for you tonight...</td>\n",
       "      <td>2015-10-29 03:48:02</td>\n",
       "      <td>\"@hyatt1942: @realDonaldTrump @piersmorgan WE ...</td>\n",
       "      <td>MEDNEG</td>\n",
       "      <td>BIGPOS</td>\n",
       "    </tr>\n",
       "    <tr>\n",
       "      <th>12527</th>\n",
       "      <td>president donald j trump proclaims october as ...</td>\n",
       "      <td>2017-10-09 18:35:04</td>\n",
       "      <td>\"President Donald J. Trump Proclaims October 9...</td>\n",
       "      <td>MEDPOS</td>\n",
       "      <td>MEDPOS</td>\n",
       "    </tr>\n",
       "    <tr>\n",
       "      <th>5831</th>\n",
       "      <td>https https high energy</td>\n",
       "      <td>2016-05-25 05:45:19</td>\n",
       "      <td>\"@buiIdthewall: @realDonaldTrump high energy!\"</td>\n",
       "      <td>SMANEG</td>\n",
       "      <td>BIGPOS</td>\n",
       "    </tr>\n",
       "    <tr>\n",
       "      <th>9855</th>\n",
       "      <td>record high for s p</td>\n",
       "      <td>2017-09-29 13:39:53</td>\n",
       "      <td>RECORD HIGH FOR S &amp;amp; P 500!</td>\n",
       "      <td>BIGPOS</td>\n",
       "      <td>BIGPOS</td>\n",
       "    </tr>\n",
       "    <tr>\n",
       "      <th>14647</th>\n",
       "      <td>just won lawsuit filed by the dnc and a bunch ...</td>\n",
       "      <td>2018-07-06 16:57:34</td>\n",
       "      <td>Just won lawsuit filed by the DNC and a bunch ...</td>\n",
       "      <td>BIGPOS</td>\n",
       "      <td>SMAPOS</td>\n",
       "    </tr>\n",
       "  </tbody>\n",
       "</table>\n",
       "</div>"
      ],
      "text/plain": [
       "                                                    text           timestamp  \\\n",
       "2541   https https https we all voted for you tonight... 2015-10-29 03:48:02   \n",
       "12527  president donald j trump proclaims october as ... 2017-10-09 18:35:04   \n",
       "5831                             https https high energy 2016-05-25 05:45:19   \n",
       "9855                                 record high for s p 2017-09-29 13:39:53   \n",
       "14647  just won lawsuit filed by the dnc and a bunch ... 2018-07-06 16:57:34   \n",
       "\n",
       "                                                   tweet value change  \\\n",
       "2541   \"@hyatt1942: @realDonaldTrump @piersmorgan WE ...       MEDNEG   \n",
       "12527  \"President Donald J. Trump Proclaims October 9...       MEDPOS   \n",
       "5831      \"@buiIdthewall: @realDonaldTrump high energy!\"       SMANEG   \n",
       "9855                      RECORD HIGH FOR S &amp; P 500!       BIGPOS   \n",
       "14647  Just won lawsuit filed by the DNC and a bunch ...       BIGPOS   \n",
       "\n",
       "      predicted changes  \n",
       "2541             BIGPOS  \n",
       "12527            MEDPOS  \n",
       "5831             BIGPOS  \n",
       "9855             BIGPOS  \n",
       "14647            SMAPOS  "
      ]
     },
     "execution_count": 27,
     "metadata": {},
     "output_type": "execute_result"
    }
   ],
   "source": [
    "valid_df.head()"
   ]
  },
  {
   "cell_type": "code",
   "execution_count": 28,
   "metadata": {},
   "outputs": [],
   "source": [
    "with open(RESULT_DIR + 'results.json', 'w') as file:\n",
    "    file.write(valid_df.to_json(orient='index'))"
   ]
  },
  {
   "cell_type": "code",
   "execution_count": 29,
   "metadata": {},
   "outputs": [],
   "source": [
    "# Test if the json is readable\n",
    "with open(RESULT_DIR + 'results.json', 'r') as file:\n",
    "    testi = pd.read_json(file, orient='index')"
   ]
  },
  {
   "cell_type": "code",
   "execution_count": 30,
   "metadata": {},
   "outputs": [
    {
     "data": {
      "text/html": [
       "<div>\n",
       "<style scoped>\n",
       "    .dataframe tbody tr th:only-of-type {\n",
       "        vertical-align: middle;\n",
       "    }\n",
       "\n",
       "    .dataframe tbody tr th {\n",
       "        vertical-align: top;\n",
       "    }\n",
       "\n",
       "    .dataframe thead th {\n",
       "        text-align: right;\n",
       "    }\n",
       "</style>\n",
       "<table border=\"1\" class=\"dataframe\">\n",
       "  <thead>\n",
       "    <tr style=\"text-align: right;\">\n",
       "      <th></th>\n",
       "      <th>predicted changes</th>\n",
       "      <th>text</th>\n",
       "      <th>timestamp</th>\n",
       "      <th>tweet</th>\n",
       "      <th>value change</th>\n",
       "    </tr>\n",
       "  </thead>\n",
       "  <tbody>\n",
       "    <tr>\n",
       "      <th>2541</th>\n",
       "      <td>BIGPOS</td>\n",
       "      <td>https https https we all voted for you tonight...</td>\n",
       "      <td>2015-10-29 03:48:02</td>\n",
       "      <td>\"@hyatt1942: @realDonaldTrump @piersmorgan WE ...</td>\n",
       "      <td>MEDNEG</td>\n",
       "    </tr>\n",
       "    <tr>\n",
       "      <th>12527</th>\n",
       "      <td>MEDPOS</td>\n",
       "      <td>president donald j trump proclaims october as ...</td>\n",
       "      <td>2017-10-09 18:35:04</td>\n",
       "      <td>\"President Donald J. Trump Proclaims October 9...</td>\n",
       "      <td>MEDPOS</td>\n",
       "    </tr>\n",
       "    <tr>\n",
       "      <th>5831</th>\n",
       "      <td>BIGPOS</td>\n",
       "      <td>https https high energy</td>\n",
       "      <td>2016-05-25 05:45:19</td>\n",
       "      <td>\"@buiIdthewall: @realDonaldTrump high energy!\"</td>\n",
       "      <td>SMANEG</td>\n",
       "    </tr>\n",
       "    <tr>\n",
       "      <th>9855</th>\n",
       "      <td>BIGPOS</td>\n",
       "      <td>record high for s p</td>\n",
       "      <td>2017-09-29 13:39:53</td>\n",
       "      <td>RECORD HIGH FOR S &amp;amp; P 500!</td>\n",
       "      <td>BIGPOS</td>\n",
       "    </tr>\n",
       "    <tr>\n",
       "      <th>14647</th>\n",
       "      <td>SMAPOS</td>\n",
       "      <td>just won lawsuit filed by the dnc and a bunch ...</td>\n",
       "      <td>2018-07-06 16:57:34</td>\n",
       "      <td>Just won lawsuit filed by the DNC and a bunch ...</td>\n",
       "      <td>BIGPOS</td>\n",
       "    </tr>\n",
       "  </tbody>\n",
       "</table>\n",
       "</div>"
      ],
      "text/plain": [
       "      predicted changes                                               text  \\\n",
       "2541             BIGPOS  https https https we all voted for you tonight...   \n",
       "12527            MEDPOS  president donald j trump proclaims october as ...   \n",
       "5831             BIGPOS                            https https high energy   \n",
       "9855             BIGPOS                                record high for s p   \n",
       "14647            SMAPOS  just won lawsuit filed by the dnc and a bunch ...   \n",
       "\n",
       "                timestamp                                              tweet  \\\n",
       "2541  2015-10-29 03:48:02  \"@hyatt1942: @realDonaldTrump @piersmorgan WE ...   \n",
       "12527 2017-10-09 18:35:04  \"President Donald J. Trump Proclaims October 9...   \n",
       "5831  2016-05-25 05:45:19     \"@buiIdthewall: @realDonaldTrump high energy!\"   \n",
       "9855  2017-09-29 13:39:53                     RECORD HIGH FOR S &amp; P 500!   \n",
       "14647 2018-07-06 16:57:34  Just won lawsuit filed by the DNC and a bunch ...   \n",
       "\n",
       "      value change  \n",
       "2541        MEDNEG  \n",
       "12527       MEDPOS  \n",
       "5831        SMANEG  \n",
       "9855        BIGPOS  \n",
       "14647       BIGPOS  "
      ]
     },
     "execution_count": 30,
     "metadata": {},
     "output_type": "execute_result"
    }
   ],
   "source": [
    "testi.head()"
   ]
  }
 ],
 "metadata": {
  "kernelspec": {
   "display_name": "alphavantage",
   "language": "python",
   "name": "alphavantage"
  },
  "language_info": {
   "codemirror_mode": {
    "name": "ipython",
    "version": 3
   },
   "file_extension": ".py",
   "mimetype": "text/x-python",
   "name": "python",
   "nbconvert_exporter": "python",
   "pygments_lexer": "ipython3",
   "version": "3.6.6"
  }
 },
 "nbformat": 4,
 "nbformat_minor": 2
}
