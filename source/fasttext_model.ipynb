{
 "cells": [
  {
   "cell_type": "code",
   "execution_count": 1,
   "metadata": {},
   "outputs": [],
   "source": [
    "import fasttext\n",
    "import pandas as pd\n",
    "\n",
    "DATA_DIR = \"../data/\""
   ]
  },
  {
   "cell_type": "code",
   "execution_count": 19,
   "metadata": {},
   "outputs": [],
   "source": [
    "# Skipgram model\n",
    "before_model = fasttext.supervised(DATA_DIR + 'before_train.txt', 'before_model')\n",
    "after_model = fasttext.supervised(DATA_DIR + 'after_train.txt', 'after_model')"
   ]
  },
  {
   "cell_type": "code",
   "execution_count": 21,
   "metadata": {},
   "outputs": [
    {
     "name": "stdout",
     "output_type": "stream",
     "text": [
      "0.21928934010152284\n",
      "0.25561097256857856\n",
      "1970\n",
      "802\n"
     ]
    }
   ],
   "source": [
    "result = before_model.test(DATA_DIR + 'before_valid.txt')\n",
    "result2 = after_model.test(DATA_DIR + 'after_valid.txt')\n",
    "print(result.precision)\n",
    "print(result2.precision)\n",
    "print(result.nexamples)\n",
    "print(result2.nexamples)"
   ]
  },
  {
   "cell_type": "code",
   "execution_count": 10,
   "metadata": {},
   "outputs": [],
   "source": [
    "with open(DATA_DIR + 'trump_valid.json', \"r\") as file:\n",
    "    valid_df = pd.read_json(file, orient='index')"
   ]
  },
  {
   "cell_type": "code",
   "execution_count": 11,
   "metadata": {},
   "outputs": [
    {
     "data": {
      "text/html": [
       "<div>\n",
       "<style scoped>\n",
       "    .dataframe tbody tr th:only-of-type {\n",
       "        vertical-align: middle;\n",
       "    }\n",
       "\n",
       "    .dataframe tbody tr th {\n",
       "        vertical-align: top;\n",
       "    }\n",
       "\n",
       "    .dataframe thead th {\n",
       "        text-align: right;\n",
       "    }\n",
       "</style>\n",
       "<table border=\"1\" class=\"dataframe\">\n",
       "  <thead>\n",
       "    <tr style=\"text-align: right;\">\n",
       "      <th></th>\n",
       "      <th>text</th>\n",
       "      <th>timestamp</th>\n",
       "      <th>tweet</th>\n",
       "      <th>value change</th>\n",
       "    </tr>\n",
       "  </thead>\n",
       "  <tbody>\n",
       "    <tr>\n",
       "      <th>14415</th>\n",
       "      <td>getting ready to visit walter reed medical cen...</td>\n",
       "      <td>2018-03-09 16:47:37</td>\n",
       "      <td>Getting ready to visit Walter Reed Medical Cen...</td>\n",
       "      <td>BIGNEG</td>\n",
       "    </tr>\n",
       "    <tr>\n",
       "      <th>18133</th>\n",
       "      <td>isis just claimed the degenerate animal who ki...</td>\n",
       "      <td>2018-09-14 11:32:35</td>\n",
       "      <td>ISIS just claimed the Degenerate Animal who ki...</td>\n",
       "      <td>MEDNEG</td>\n",
       "    </tr>\n",
       "    <tr>\n",
       "      <th>14279</th>\n",
       "      <td>will be interviewed by https on https at p m s...</td>\n",
       "      <td>2018-02-25 03:56:04</td>\n",
       "      <td>Will be interviewed by @JudgeJeanine on @FoxNe...</td>\n",
       "      <td>BIGPOS</td>\n",
       "    </tr>\n",
       "    <tr>\n",
       "      <th>8151</th>\n",
       "      <td>rt https photosfromthefield aerial photos from...</td>\n",
       "      <td>2016-12-13 12:44:06</td>\n",
       "      <td>RT @TXMilitary: #PhotosFromTheField: Aerial ph...</td>\n",
       "      <td>MEDNEG</td>\n",
       "    </tr>\n",
       "    <tr>\n",
       "      <th>8234</th>\n",
       "      <td>great job by all law enforcement officers and ...</td>\n",
       "      <td>2016-12-23 11:58:36</td>\n",
       "      <td>Great job by all law enforcement officers and ...</td>\n",
       "      <td>SMAPOS</td>\n",
       "    </tr>\n",
       "  </tbody>\n",
       "</table>\n",
       "</div>"
      ],
      "text/plain": [
       "                                                    text           timestamp  \\\n",
       "14415  getting ready to visit walter reed medical cen... 2018-03-09 16:47:37   \n",
       "18133  isis just claimed the degenerate animal who ki... 2018-09-14 11:32:35   \n",
       "14279  will be interviewed by https on https at p m s... 2018-02-25 03:56:04   \n",
       "8151   rt https photosfromthefield aerial photos from... 2016-12-13 12:44:06   \n",
       "8234   great job by all law enforcement officers and ... 2016-12-23 11:58:36   \n",
       "\n",
       "                                                   tweet value change  \n",
       "14415  Getting ready to visit Walter Reed Medical Cen...       BIGNEG  \n",
       "18133  ISIS just claimed the Degenerate Animal who ki...       MEDNEG  \n",
       "14279  Will be interviewed by @JudgeJeanine on @FoxNe...       BIGPOS  \n",
       "8151   RT @TXMilitary: #PhotosFromTheField: Aerial ph...       MEDNEG  \n",
       "8234   Great job by all law enforcement officers and ...       SMAPOS  "
      ]
     },
     "execution_count": 11,
     "metadata": {},
     "output_type": "execute_result"
    }
   ],
   "source": [
    "valid_df.head()"
   ]
  },
  {
   "cell_type": "code",
   "execution_count": 12,
   "metadata": {},
   "outputs": [
    {
     "name": "stdout",
     "output_type": "stream",
     "text": [
      "['getting ready to visit walter reed medical center with melania looking forward to seeing our bravest and greatest americans', 'isis just claimed the degenerate animal who killed and so badly wounded the wonderful people on the west side was their soldier', 'will be interviewed by https on https at p m saturday night enjoy', 'rt https photosfromthefield aerial photos from our rescue crews earlier today harvey tmdharvey https https', 'great job by all law enforcement officers and boston mayor https walsh', 'everyone is laughing at the https for the lame hit piece they did on me and women i gave them many names of women i helped refused to use', 'back from miami where my cuban american friends are very happy with what i signed today another campaign promise that i did not forget', 'the failing https hates the fact that i have developed a great relationship with world leaders like xi jinping president of china', 'so many great polls like reuters big leads everywhere new hampshire really special we will win big and make america great again', 'rt https report manufacturing https']\n"
     ]
    }
   ],
   "source": [
    "texts = [text for text in valid_df['text']]\n",
    "print(texts[0:10])"
   ]
  },
  {
   "cell_type": "code",
   "execution_count": 13,
   "metadata": {},
   "outputs": [
    {
     "name": "stdout",
     "output_type": "stream",
     "text": [
      "[['BIGPOS'], ['BIGNEG'], ['MEDNEG'], ['SMAPOS'], ['MEDPOS'], ['MEDNEG'], ['BIGPOS'], ['SMAPOS'], ['BIGNEG'], ['SMANEG']]\n"
     ]
    }
   ],
   "source": [
    "labels = model.predict(texts)\n",
    "print(labels[0:10])"
   ]
  },
  {
   "cell_type": "code",
   "execution_count": 14,
   "metadata": {},
   "outputs": [
    {
     "data": {
      "text/html": [
       "<div>\n",
       "<style scoped>\n",
       "    .dataframe tbody tr th:only-of-type {\n",
       "        vertical-align: middle;\n",
       "    }\n",
       "\n",
       "    .dataframe tbody tr th {\n",
       "        vertical-align: top;\n",
       "    }\n",
       "\n",
       "    .dataframe thead th {\n",
       "        text-align: right;\n",
       "    }\n",
       "</style>\n",
       "<table border=\"1\" class=\"dataframe\">\n",
       "  <thead>\n",
       "    <tr style=\"text-align: right;\">\n",
       "      <th></th>\n",
       "      <th>text</th>\n",
       "      <th>timestamp</th>\n",
       "      <th>tweet</th>\n",
       "      <th>value change</th>\n",
       "    </tr>\n",
       "  </thead>\n",
       "  <tbody>\n",
       "    <tr>\n",
       "      <th>14415</th>\n",
       "      <td>getting ready to visit walter reed medical cen...</td>\n",
       "      <td>2018-03-09 16:47:37</td>\n",
       "      <td>Getting ready to visit Walter Reed Medical Cen...</td>\n",
       "      <td>BIGNEG</td>\n",
       "    </tr>\n",
       "    <tr>\n",
       "      <th>18133</th>\n",
       "      <td>isis just claimed the degenerate animal who ki...</td>\n",
       "      <td>2018-09-14 11:32:35</td>\n",
       "      <td>ISIS just claimed the Degenerate Animal who ki...</td>\n",
       "      <td>MEDNEG</td>\n",
       "    </tr>\n",
       "    <tr>\n",
       "      <th>14279</th>\n",
       "      <td>will be interviewed by https on https at p m s...</td>\n",
       "      <td>2018-02-25 03:56:04</td>\n",
       "      <td>Will be interviewed by @JudgeJeanine on @FoxNe...</td>\n",
       "      <td>BIGPOS</td>\n",
       "    </tr>\n",
       "    <tr>\n",
       "      <th>8151</th>\n",
       "      <td>rt https photosfromthefield aerial photos from...</td>\n",
       "      <td>2016-12-13 12:44:06</td>\n",
       "      <td>RT @TXMilitary: #PhotosFromTheField: Aerial ph...</td>\n",
       "      <td>MEDNEG</td>\n",
       "    </tr>\n",
       "    <tr>\n",
       "      <th>8234</th>\n",
       "      <td>great job by all law enforcement officers and ...</td>\n",
       "      <td>2016-12-23 11:58:36</td>\n",
       "      <td>Great job by all law enforcement officers and ...</td>\n",
       "      <td>SMAPOS</td>\n",
       "    </tr>\n",
       "    <tr>\n",
       "      <th>2109</th>\n",
       "      <td>everyone is laughing at the https for the lame...</td>\n",
       "      <td>2015-10-12 17:13:19</td>\n",
       "      <td>Everyone is laughing at the @nytimes for the l...</td>\n",
       "      <td>MEDNEG</td>\n",
       "    </tr>\n",
       "    <tr>\n",
       "      <th>14107</th>\n",
       "      <td>back from miami where my cuban american friend...</td>\n",
       "      <td>2018-02-15 14:57:21</td>\n",
       "      <td>Back from Miami where my Cuban/American friend...</td>\n",
       "      <td>SMAPOS</td>\n",
       "    </tr>\n",
       "    <tr>\n",
       "      <th>18038</th>\n",
       "      <td>the failing https hates the fact that i have d...</td>\n",
       "      <td>2018-09-11 12:24:52</td>\n",
       "      <td>The failing @nytimes hates the fact that I hav...</td>\n",
       "      <td>SMAPOS</td>\n",
       "    </tr>\n",
       "    <tr>\n",
       "      <th>4798</th>\n",
       "      <td>so many great polls like reuters big leads eve...</td>\n",
       "      <td>2016-02-28 19:19:11</td>\n",
       "      <td>So many great polls like Reuters - big leads e...</td>\n",
       "      <td>MEDNEG</td>\n",
       "    </tr>\n",
       "    <tr>\n",
       "      <th>15946</th>\n",
       "      <td>rt https report manufacturing https</td>\n",
       "      <td>2018-06-14 15:08:51</td>\n",
       "      <td>RT @DRUDGE_REPORT: Manufacturing +37,000... ht...</td>\n",
       "      <td>MEDNEG</td>\n",
       "    </tr>\n",
       "  </tbody>\n",
       "</table>\n",
       "</div>"
      ],
      "text/plain": [
       "                                                    text           timestamp  \\\n",
       "14415  getting ready to visit walter reed medical cen... 2018-03-09 16:47:37   \n",
       "18133  isis just claimed the degenerate animal who ki... 2018-09-14 11:32:35   \n",
       "14279  will be interviewed by https on https at p m s... 2018-02-25 03:56:04   \n",
       "8151   rt https photosfromthefield aerial photos from... 2016-12-13 12:44:06   \n",
       "8234   great job by all law enforcement officers and ... 2016-12-23 11:58:36   \n",
       "2109   everyone is laughing at the https for the lame... 2015-10-12 17:13:19   \n",
       "14107  back from miami where my cuban american friend... 2018-02-15 14:57:21   \n",
       "18038  the failing https hates the fact that i have d... 2018-09-11 12:24:52   \n",
       "4798   so many great polls like reuters big leads eve... 2016-02-28 19:19:11   \n",
       "15946                rt https report manufacturing https 2018-06-14 15:08:51   \n",
       "\n",
       "                                                   tweet value change  \n",
       "14415  Getting ready to visit Walter Reed Medical Cen...       BIGNEG  \n",
       "18133  ISIS just claimed the Degenerate Animal who ki...       MEDNEG  \n",
       "14279  Will be interviewed by @JudgeJeanine on @FoxNe...       BIGPOS  \n",
       "8151   RT @TXMilitary: #PhotosFromTheField: Aerial ph...       MEDNEG  \n",
       "8234   Great job by all law enforcement officers and ...       SMAPOS  \n",
       "2109   Everyone is laughing at the @nytimes for the l...       MEDNEG  \n",
       "14107  Back from Miami where my Cuban/American friend...       SMAPOS  \n",
       "18038  The failing @nytimes hates the fact that I hav...       SMAPOS  \n",
       "4798   So many great polls like Reuters - big leads e...       MEDNEG  \n",
       "15946  RT @DRUDGE_REPORT: Manufacturing +37,000... ht...       MEDNEG  "
      ]
     },
     "execution_count": 14,
     "metadata": {},
     "output_type": "execute_result"
    }
   ],
   "source": [
    "valid_df[0:10]"
   ]
  },
  {
   "cell_type": "code",
   "execution_count": null,
   "metadata": {},
   "outputs": [],
   "source": []
  }
 ],
 "metadata": {
  "kernelspec": {
   "display_name": "Python 3",
   "language": "python",
   "name": "python3"
  },
  "language_info": {
   "codemirror_mode": {
    "name": "ipython",
    "version": 3
   },
   "file_extension": ".py",
   "mimetype": "text/x-python",
   "name": "python",
   "nbconvert_exporter": "python",
   "pygments_lexer": "ipython3",
   "version": "3.6.5"
  }
 },
 "nbformat": 4,
 "nbformat_minor": 2
}
