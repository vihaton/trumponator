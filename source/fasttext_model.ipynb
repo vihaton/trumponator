{
 "cells": [
  {
   "cell_type": "code",
   "execution_count": 3,
   "metadata": {},
   "outputs": [],
   "source": [
    "import fasttext"
   ]
  },
  {
   "cell_type": "code",
   "execution_count": 4,
   "metadata": {},
   "outputs": [],
   "source": [
    "# Skipgram model\n",
    "model = fasttext.supervised('/home/venla/IDS/fastText-0.1.0/Trump/train', 'model')"
   ]
  },
  {
   "cell_type": "code",
   "execution_count": 12,
   "metadata": {},
   "outputs": [
    {
     "name": "stdout",
     "output_type": "stream",
     "text": [
      "[['MEDNEG'], ['BIGPOS'], ['MEDPOS']]\n"
     ]
    }
   ],
   "source": [
    "texts = ['MAKE AMERICA GREAT AGAIN!', 'thank you iowa nebraska vote vote vote', 'If you’re in an evacuation zone, I am urging you to leave RIGHT NOW. Do not risk your life or the lives of your loved ones- get out now.']\n",
    "labels = model.predict(texts)\n",
    "print(labels)\n"
   ]
  },
  {
   "cell_type": "code",
   "execution_count": 8,
   "metadata": {},
   "outputs": [
    {
     "name": "stdout",
     "output_type": "stream",
     "text": [
      "0.17657142857142857\n",
      "3500\n"
     ]
    }
   ],
   "source": [
    "result = model.test('/home/venla/IDS/fastText-0.1.0/Trump/valid')\n",
    "print(result.precision)\n",
    "print(result.nexamples)"
   ]
  },
  {
   "cell_type": "code",
   "execution_count": 9,
   "metadata": {},
   "outputs": [
    {
     "name": "stdout",
     "output_type": "stream",
     "text": [
      "[['MEDPOS', 'MEDNEG', 'BIGPOS'], ['MEDNEG', 'MEDPOS', 'BIGPOS'], ['MEDPOS', 'MEDNEG', 'BIGPOS']]\n"
     ]
    }
   ],
   "source": [
    "labels = model.predict(texts, k=3)\n",
    "print(labels)"
   ]
  },
  {
   "cell_type": "code",
   "execution_count": 10,
   "metadata": {},
   "outputs": [
    {
     "data": {
      "text/plain": [
       "['MEDPOS', 'MEDNEG', 'BIGPOS', 'SMANEG', 'BIGNEG', 'SMAPOS']"
      ]
     },
     "execution_count": 10,
     "metadata": {},
     "output_type": "execute_result"
    }
   ],
   "source": [
    "model.labels"
   ]
  },
  {
   "cell_type": "code",
   "execution_count": null,
   "metadata": {},
   "outputs": [],
   "source": []
  }
 ],
 "metadata": {
  "kernelspec": {
   "display_name": "Python 3",
   "language": "python",
   "name": "python3"
  },
  "language_info": {
   "codemirror_mode": {
    "name": "ipython",
    "version": 3
   },
   "file_extension": ".py",
   "mimetype": "text/x-python",
   "name": "python",
   "nbconvert_exporter": "python",
   "pygments_lexer": "ipython3",
   "version": "3.6.5"
  }
 },
 "nbformat": 4,
 "nbformat_minor": 2
}
