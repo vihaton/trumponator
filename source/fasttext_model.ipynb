{
 "cells": [
  {
   "cell_type": "code",
   "execution_count": 26,
   "metadata": {},
   "outputs": [],
   "source": [
    "@InProceedings{joulin2017bag,\n",
    "  title={Bag of Tricks for Efficient Text Classification},\n",
    "  author={Joulin, Armand and Grave, Edouard and Bojanowski, Piotr and Mikolov, Tomas},\n",
    "  booktitle={Proceedings of the 15th Conference of the European Chapter of the Association for Computational Linguistics: Volume 2, Short Papers},\n",
    "  month={April},\n",
    "  year={2017},\n",
    "  publisher={Association for Computational Linguistics},\n",
    "  pages={427--431},\n",
    "}"
   ]
  },
  {
   "cell_type": "code",
   "execution_count": 14,
   "metadata": {},
   "outputs": [],
   "source": [
    "import fasttext\n",
    "import pandas as pd\n",
    "\n",
    "DATA_DIR = \"../traindata/\"\n",
    "MODELS_DIR = \"../models/\"\n",
    "RESULT_DIR = \"../data/\""
   ]
  },
  {
   "cell_type": "code",
   "execution_count": 30,
   "metadata": {},
   "outputs": [],
   "source": [
    "# Skipgram model\n",
    "before_model = fasttext.supervised(DATA_DIR + 'before_train.txt', MODELS_DIR + 'before_model', epoch='50')\n",
    "after_model = fasttext.supervised(DATA_DIR + 'after_train.txt', MODELS_DIR + 'after_model', epoch='50')\n",
    "all_model = fasttext.supervised(DATA_DIR + 'train.txt', MODELS_DIR + 'all_model', lr='0.5', epoch=500, dim=50)"
   ]
  },
  {
   "cell_type": "code",
   "execution_count": 31,
   "metadata": {},
   "outputs": [
    {
     "name": "stdout",
     "output_type": "stream",
     "text": [
      "0.25228426395939085\n",
      "1970\n"
     ]
    }
   ],
   "source": [
    "result = all_model.test(DATA_DIR + 'valid.txt')\n",
    "print(result.precision)\n",
    "print(result.nexamples)"
   ]
  },
  {
   "cell_type": "code",
   "execution_count": 32,
   "metadata": {},
   "outputs": [
    {
     "name": "stdout",
     "output_type": "stream",
     "text": [
      "0.26591760299625467\n",
      "0.27091136079900124\n",
      "801\n",
      "801\n"
     ]
    }
   ],
   "source": [
    "before_result = before_model.test(DATA_DIR + 'before_valid.txt')\n",
    "after_result = after_model.test(DATA_DIR + 'after_valid.txt')\n",
    "#all_resutl = all_model1.test(DATA_DIR + 'valid.txt')\n",
    "print(before_result.precision)\n",
    "print(after_result.precision)\n",
    "\n",
    "print(before_result.nexamples)\n",
    "print(after_result.nexamples)\n"
   ]
  },
  {
   "cell_type": "code",
   "execution_count": 36,
   "metadata": {},
   "outputs": [],
   "source": [
    "with open(DATA_DIR + 'valid.json', \"r\") as file:\n",
    "    valid_df = pd.read_json(file, orient='index')\n",
    "    \n",
    "with open(DATA_DIR + 'before_valid.json', \"r\") as file:\n",
    "    before_valid_df = pd.read_json(file, orient='index')\n",
    "    \n",
    "with open(DATA_DIR + 'after_valid.json', \"r\") as file:\n",
    "    after_valid_df = pd.read_json(file, orient='index')"
   ]
  },
  {
   "cell_type": "code",
   "execution_count": 38,
   "metadata": {},
   "outputs": [
    {
     "data": {
      "text/html": [
       "<div>\n",
       "<style scoped>\n",
       "    .dataframe tbody tr th:only-of-type {\n",
       "        vertical-align: middle;\n",
       "    }\n",
       "\n",
       "    .dataframe tbody tr th {\n",
       "        vertical-align: top;\n",
       "    }\n",
       "\n",
       "    .dataframe thead th {\n",
       "        text-align: right;\n",
       "    }\n",
       "</style>\n",
       "<table border=\"1\" class=\"dataframe\">\n",
       "  <thead>\n",
       "    <tr style=\"text-align: right;\">\n",
       "      <th></th>\n",
       "      <th>text</th>\n",
       "      <th>timestamp</th>\n",
       "      <th>tweet</th>\n",
       "      <th>value change</th>\n",
       "    </tr>\n",
       "  </thead>\n",
       "  <tbody>\n",
       "    <tr>\n",
       "      <th>4109</th>\n",
       "      <td>nato commander agrees members should pay up vi...</td>\n",
       "      <td>2016-07-30 22:24:40</td>\n",
       "      <td>NATO commander agrees members should pay up vi...</td>\n",
       "      <td>MEDNEG</td>\n",
       "    </tr>\n",
       "    <tr>\n",
       "      <th>1270</th>\n",
       "      <td>wow even lowly rand paul has just past https i...</td>\n",
       "      <td>2015-12-24 22:20:24</td>\n",
       "      <td>Wow, even lowly Rand Paul has just past @JebBu...</td>\n",
       "      <td>SMANEG</td>\n",
       "    </tr>\n",
       "    <tr>\n",
       "      <th>1830</th>\n",
       "      <td>thank you nashua new hampshire makeamericagrea...</td>\n",
       "      <td>2016-01-29 18:27:38</td>\n",
       "      <td>Thank you- Nashua, New Hampshire! \\n#MakeAmeri...</td>\n",
       "      <td>SMANEG</td>\n",
       "    </tr>\n",
       "    <tr>\n",
       "      <th>184</th>\n",
       "      <td>makeamericagreatagain https</td>\n",
       "      <td>2015-10-31 19:24:09</td>\n",
       "      <td>#MakeAmericaGreatAgain https://t.co/UWyANGV8IR</td>\n",
       "      <td>BIGPOS</td>\n",
       "    </tr>\n",
       "    <tr>\n",
       "      <th>746</th>\n",
       "      <td>https https https johnkasich all you career po...</td>\n",
       "      <td>2015-11-28 23:10:54</td>\n",
       "      <td>\"@nobaddog: @RepBJNikkel @CindyBlackwel12 John...</td>\n",
       "      <td>MEDNEG</td>\n",
       "    </tr>\n",
       "  </tbody>\n",
       "</table>\n",
       "</div>"
      ],
      "text/plain": [
       "                                                   text           timestamp  \\\n",
       "4109  nato commander agrees members should pay up vi... 2016-07-30 22:24:40   \n",
       "1270  wow even lowly rand paul has just past https i... 2015-12-24 22:20:24   \n",
       "1830  thank you nashua new hampshire makeamericagrea... 2016-01-29 18:27:38   \n",
       "184                         makeamericagreatagain https 2015-10-31 19:24:09   \n",
       "746   https https https johnkasich all you career po... 2015-11-28 23:10:54   \n",
       "\n",
       "                                                  tweet value change  \n",
       "4109  NATO commander agrees members should pay up vi...       MEDNEG  \n",
       "1270  Wow, even lowly Rand Paul has just past @JebBu...       SMANEG  \n",
       "1830  Thank you- Nashua, New Hampshire! \\n#MakeAmeri...       SMANEG  \n",
       "184      #MakeAmericaGreatAgain https://t.co/UWyANGV8IR       BIGPOS  \n",
       "746   \"@nobaddog: @RepBJNikkel @CindyBlackwel12 John...       MEDNEG  "
      ]
     },
     "execution_count": 38,
     "metadata": {},
     "output_type": "execute_result"
    }
   ],
   "source": [
    "before_valid_df.head()"
   ]
  },
  {
   "cell_type": "code",
   "execution_count": 41,
   "metadata": {},
   "outputs": [],
   "source": [
    "# How to write results to .json\n",
    "def results(df, model, resultfile):\n",
    "    texts = [text for text in df['text']]\n",
    "    labels = model.predict(texts)\n",
    "    labels = [label[0] for label in labels]\n",
    "    df['predicted changes'] = labels\n",
    "    \n",
    "    with open(RESULT_DIR + resultfile, 'w') as file:\n",
    "        file.write(df.to_json(orient='index'))"
   ]
  },
  {
   "cell_type": "code",
   "execution_count": 43,
   "metadata": {},
   "outputs": [],
   "source": [
    "results(valid_df, all_model, 'result.json')\n",
    "results(before_valid_df, before_model, 'before_result.json')\n",
    "results(after_valid_df, after_model, 'after_result.json')"
   ]
  },
  {
   "cell_type": "code",
   "execution_count": 46,
   "metadata": {},
   "outputs": [
    {
     "data": {
      "text/html": [
       "<div>\n",
       "<style scoped>\n",
       "    .dataframe tbody tr th:only-of-type {\n",
       "        vertical-align: middle;\n",
       "    }\n",
       "\n",
       "    .dataframe tbody tr th {\n",
       "        vertical-align: top;\n",
       "    }\n",
       "\n",
       "    .dataframe thead th {\n",
       "        text-align: right;\n",
       "    }\n",
       "</style>\n",
       "<table border=\"1\" class=\"dataframe\">\n",
       "  <thead>\n",
       "    <tr style=\"text-align: right;\">\n",
       "      <th></th>\n",
       "      <th>predicted changes</th>\n",
       "      <th>text</th>\n",
       "      <th>timestamp</th>\n",
       "      <th>tweet</th>\n",
       "      <th>value change</th>\n",
       "    </tr>\n",
       "  </thead>\n",
       "  <tbody>\n",
       "    <tr>\n",
       "      <th>count</th>\n",
       "      <td>1970</td>\n",
       "      <td>1970</td>\n",
       "      <td>1970</td>\n",
       "      <td>1970</td>\n",
       "      <td>1970</td>\n",
       "    </tr>\n",
       "    <tr>\n",
       "      <th>unique</th>\n",
       "      <td>6</td>\n",
       "      <td>1945</td>\n",
       "      <td>1967</td>\n",
       "      <td>1967</td>\n",
       "      <td>6</td>\n",
       "    </tr>\n",
       "    <tr>\n",
       "      <th>top</th>\n",
       "      <td>MEDPOS</td>\n",
       "      <td>makeamericagreatagain trump https</td>\n",
       "      <td>2017-09-30 22:26:55</td>\n",
       "      <td>MAKE AMERICA GREAT AGAIN!</td>\n",
       "      <td>MEDNEG</td>\n",
       "    </tr>\n",
       "    <tr>\n",
       "      <th>freq</th>\n",
       "      <td>443</td>\n",
       "      <td>4</td>\n",
       "      <td>2</td>\n",
       "      <td>3</td>\n",
       "      <td>453</td>\n",
       "    </tr>\n",
       "    <tr>\n",
       "      <th>first</th>\n",
       "      <td>NaN</td>\n",
       "      <td>NaN</td>\n",
       "      <td>2015-06-14 21:15:20</td>\n",
       "      <td>NaN</td>\n",
       "      <td>NaN</td>\n",
       "    </tr>\n",
       "    <tr>\n",
       "      <th>last</th>\n",
       "      <td>NaN</td>\n",
       "      <td>NaN</td>\n",
       "      <td>2018-09-25 10:53:41</td>\n",
       "      <td>NaN</td>\n",
       "      <td>NaN</td>\n",
       "    </tr>\n",
       "  </tbody>\n",
       "</table>\n",
       "</div>"
      ],
      "text/plain": [
       "       predicted changes                               text  \\\n",
       "count               1970                               1970   \n",
       "unique                 6                               1945   \n",
       "top               MEDPOS  makeamericagreatagain trump https   \n",
       "freq                 443                                  4   \n",
       "first                NaN                                NaN   \n",
       "last                 NaN                                NaN   \n",
       "\n",
       "                  timestamp                      tweet value change  \n",
       "count                  1970                       1970         1970  \n",
       "unique                 1967                       1967            6  \n",
       "top     2017-09-30 22:26:55  MAKE AMERICA GREAT AGAIN!       MEDNEG  \n",
       "freq                      2                          3          453  \n",
       "first   2015-06-14 21:15:20                        NaN          NaN  \n",
       "last    2018-09-25 10:53:41                        NaN          NaN  "
      ]
     },
     "execution_count": 46,
     "metadata": {},
     "output_type": "execute_result"
    }
   ],
   "source": [
    "with open(RESULT_DIR + 'result.json', 'r') as file:\n",
    "    testi = pd.read_json(file, orient='index')\n",
    "testi.describe()"
   ]
  },
  {
   "cell_type": "code",
   "execution_count": null,
   "metadata": {},
   "outputs": [],
   "source": []
  },
  {
   "cell_type": "code",
   "execution_count": 9,
   "metadata": {},
   "outputs": [
    {
     "name": "stdout",
     "output_type": "stream",
     "text": [
      "['https https https we all voted for you tonight as winner of the debate', 'president donald j trump proclaims october as columbusday https', 'https https high energy', 'record high for s p', 'just won lawsuit filed by the dnc and a bunch of democrat crazies trying to claim the trump campaign and others https', 'fake https made up a story that i wanted a tenfold increase in our u s nuclear arsenal pure fiction made up to demean nbc cnn', 'https https it defies belief the web of lies hillary is spinning one excuse after another then it s this then it s that', 'watch https on now https', 'https https ia caucus hasn t picked nominee in years cruz dirty tricks stole it trump way ahead in primary states', 'https vito thank you mr trump for standing up for our country votetrump join me on the trumptrain https']\n"
     ]
    }
   ],
   "source": [
    "texts = [text for text in valid_df['text']]\n",
    "print(texts[0:10])"
   ]
  },
  {
   "cell_type": "code",
   "execution_count": 16,
   "metadata": {},
   "outputs": [
    {
     "name": "stdout",
     "output_type": "stream",
     "text": [
      "['BIGPOS', 'MEDPOS', 'BIGPOS', 'BIGPOS', 'SMAPOS', 'MEDNEG', 'MEDPOS', 'MEDNEG', 'MEDPOS', 'MEDNEG']\n"
     ]
    }
   ],
   "source": [
    "labels = all_model.predict(texts)\n",
    "labels = [label[0] for label in labels]\n",
    "print(labels[0:10])"
   ]
  },
  {
   "cell_type": "code",
   "execution_count": 36,
   "metadata": {},
   "outputs": [
    {
     "name": "stdout",
     "output_type": "stream",
     "text": [
      "['https https https we all voted for you tonight as winner of the debate']\n",
      "[[('BIGPOS', 0.566406), ('SMANEG', 0.345703), ('BIGNEG', 0.0839844), ('MEDPOS', 1.95313e-08), ('SMAPOS', 1.95313e-08), ('MEDNEG', 1.95313e-08)]]\n",
      "[['BIGPOS']]\n",
      "['MEDNEG', 'MEDPOS', 'BIGPOS', 'SMANEG', 'BIGNEG', 'SMAPOS']\n"
     ]
    }
   ],
   "source": [
    "t = texts[0] # this would return a list of one tweet: texts[0:1]\n",
    "t = [t] #t has to be a list\n",
    "print (t)\n",
    "\n",
    "l = all_model1.predict_proba(t, 6) #predict 6 most probable classes and show probabilities\n",
    "print (l)\n",
    "l = all_model1.predict(t)\n",
    "print (l)\n",
    "\n",
    "#print available labels\n",
    "print(all_model1.labels)"
   ]
  }
 ],
 "metadata": {
  "kernelspec": {
   "display_name": "Python 3",
   "language": "python",
   "name": "python3"
  },
  "language_info": {
   "codemirror_mode": {
    "name": "ipython",
    "version": 3
   },
   "file_extension": ".py",
   "mimetype": "text/x-python",
   "name": "python",
   "nbconvert_exporter": "python",
   "pygments_lexer": "ipython3",
   "version": "3.6.5"
  }
 },
 "nbformat": 4,
 "nbformat_minor": 2
}
