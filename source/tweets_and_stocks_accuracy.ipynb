{
 "cells": [
  {
   "cell_type": "code",
   "execution_count": 35,
   "metadata": {},
   "outputs": [],
   "source": [
    "#parameters for selecting data: type in the start date, the latest available date in the data is the end date\n",
    "param_start_date='11/08/2016'\n",
    "#if param_period is set as after, then selecting the time period after the param_start_date\n",
    "#if param_period is set as before, then selecting the time period before the param_start_date for equal number of tweets as after the date\n",
    "#if param_period is empty then selecting all the data\n",
    "param_period=''"
   ]
  },
  {
   "cell_type": "code",
   "execution_count": 36,
   "metadata": {},
   "outputs": [
    {
     "name": "stdout",
     "output_type": "stream",
     "text": [
      "Index(['predicted changes', 'text', 'timestamp', 'tweet', 'value change'], dtype='object')\n",
      "Number of tweets:  2348\n"
     ]
    }
   ],
   "source": [
    "#read tweets and stock market data\n",
    "name_tweets = \"results.json\"\n",
    "\n",
    "with open(name_tweets, \"r\") as file:\n",
    "    tweets_dfxx = pd.read_json(file, orient='index')\n",
    "print(tweets_dfxx.columns)\n",
    "\n",
    "tweets_dfxx.sort_index(inplace=True)\n",
    "tweets_dfxx = tweets_dfxx.reset_index(drop=True)\n",
    "\n",
    "#keep only the tweet data and drop empty rows\n",
    "tweets_dataframe=tweets_dfxx[tweets_dfxx[\"value change\"].notnull()]\n",
    "\n",
    "print(\"Number of tweets: \", len(tweets_dataframe))\n",
    "\n",
    "if param_period=='':\n",
    "    tweets_df=tweets_dataframe\n",
    "else:\n",
    "\n",
    "    #select the data sets based on the param_start_date\n",
    "    tweets_dfa=tweets_dataframe.loc[tweets_dataframe[\"timestamp\"] > datetime.strptime(param_start_date, '%m/%d/%Y')]\n",
    "    print(\"Number of tweets after the start date: \", len(tweets_dfa))\n",
    "\n",
    "    before=len(tweets_dataframe)-2*len(tweets_dfa)\n",
    "    tweets_dfb=tweets_dataframe.loc[tweets_dataframe.index>before]\n",
    "    tweets_dfb=tweets_dfb.loc[tweets_dfb[\"timestamp\"] <= datetime.strptime(param_start_date, '%m/%d/%Y')]\n",
    "    print(\"Number of tweets before the start date: \", len(tweets_dfb))\n",
    "\n",
    "    if param_period=='after':\n",
    "        tweets_df=tweets_dfa\n",
    "    if param_period=='before':\n",
    "        tweets_df=tweets_dfb "
   ]
  },
  {
   "cell_type": "code",
   "execution_count": 38,
   "metadata": {},
   "outputs": [
    {
     "name": "stdout",
     "output_type": "stream",
     "text": [
      "Difference=1 when predicted change is equal to the real change\n"
     ]
    },
    {
     "data": {
      "text/html": [
       "<div>\n",
       "<style scoped>\n",
       "    .dataframe tbody tr th:only-of-type {\n",
       "        vertical-align: middle;\n",
       "    }\n",
       "\n",
       "    .dataframe tbody tr th {\n",
       "        vertical-align: top;\n",
       "    }\n",
       "\n",
       "    .dataframe thead th {\n",
       "        text-align: right;\n",
       "    }\n",
       "</style>\n",
       "<table border=\"1\" class=\"dataframe\">\n",
       "  <thead>\n",
       "    <tr style=\"text-align: right;\">\n",
       "      <th></th>\n",
       "      <th>predicted changes</th>\n",
       "      <th>text</th>\n",
       "      <th>timestamp</th>\n",
       "      <th>tweet</th>\n",
       "      <th>value change</th>\n",
       "      <th>difference</th>\n",
       "    </tr>\n",
       "  </thead>\n",
       "  <tbody>\n",
       "    <tr>\n",
       "      <th>0</th>\n",
       "      <td>BIGNEG</td>\n",
       "      <td>tuesday will be a big day for our country to d...</td>\n",
       "      <td>2015-06-14 21:18:23</td>\n",
       "      <td>Tuesday will be a big day for our country to d...</td>\n",
       "      <td>MEDNEG</td>\n",
       "      <td>0</td>\n",
       "    </tr>\n",
       "    <tr>\n",
       "      <th>1</th>\n",
       "      <td>MEDPOS</td>\n",
       "      <td>https https i d vote twice for you if i could ...</td>\n",
       "      <td>2015-06-15 11:30:53</td>\n",
       "      <td>\"@FuturisticHub: @realDonaldTrump I'd vote twi...</td>\n",
       "      <td>MEDPOS</td>\n",
       "      <td>1</td>\n",
       "    </tr>\n",
       "    <tr>\n",
       "      <th>2</th>\n",
       "      <td>SMAPOS</td>\n",
       "      <td>https https trump time for a true leader to le...</td>\n",
       "      <td>2015-06-15 11:41:38</td>\n",
       "      <td>\"@fyrftr211: @realDonaldTrump #Trump2016. Time...</td>\n",
       "      <td>MEDPOS</td>\n",
       "      <td>0</td>\n",
       "    </tr>\n",
       "    <tr>\n",
       "      <th>3</th>\n",
       "      <td>BIGNEG</td>\n",
       "      <td>https politicians are not going to get us out ...</td>\n",
       "      <td>2015-06-15 11:43:49</td>\n",
       "      <td>\"@LooneyTunes002: Politicians are not going to...</td>\n",
       "      <td>MEDPOS</td>\n",
       "      <td>0</td>\n",
       "    </tr>\n",
       "    <tr>\n",
       "      <th>4</th>\n",
       "      <td>MEDPOS</td>\n",
       "      <td>live on periscope https</td>\n",
       "      <td>2015-06-15 14:55:16</td>\n",
       "      <td>LIVE on #Periscope https://t.co/H8lRtZBGEb</td>\n",
       "      <td>MEDPOS</td>\n",
       "      <td>1</td>\n",
       "    </tr>\n",
       "  </tbody>\n",
       "</table>\n",
       "</div>"
      ],
      "text/plain": [
       "  predicted changes                                               text  \\\n",
       "0            BIGNEG  tuesday will be a big day for our country to d...   \n",
       "1            MEDPOS  https https i d vote twice for you if i could ...   \n",
       "2            SMAPOS  https https trump time for a true leader to le...   \n",
       "3            BIGNEG  https politicians are not going to get us out ...   \n",
       "4            MEDPOS                            live on periscope https   \n",
       "\n",
       "            timestamp                                              tweet  \\\n",
       "0 2015-06-14 21:18:23  Tuesday will be a big day for our country to d...   \n",
       "1 2015-06-15 11:30:53  \"@FuturisticHub: @realDonaldTrump I'd vote twi...   \n",
       "2 2015-06-15 11:41:38  \"@fyrftr211: @realDonaldTrump #Trump2016. Time...   \n",
       "3 2015-06-15 11:43:49  \"@LooneyTunes002: Politicians are not going to...   \n",
       "4 2015-06-15 14:55:16         LIVE on #Periscope https://t.co/H8lRtZBGEb   \n",
       "\n",
       "  value change  difference  \n",
       "0       MEDNEG           0  \n",
       "1       MEDPOS           1  \n",
       "2       MEDPOS           0  \n",
       "3       MEDPOS           0  \n",
       "4       MEDPOS           1  "
      ]
     },
     "execution_count": 38,
     "metadata": {},
     "output_type": "execute_result"
    }
   ],
   "source": [
    "#modifying data\n",
    "tweets_df['difference'] = np.where(tweets_df[\"value change\"]==tweets_df[\"predicted changes\"], 1, 0)\n",
    "print(\"Difference=1 when predicted change is equal to the real change\")\n",
    "tweets_df.head()"
   ]
  },
  {
   "cell_type": "code",
   "execution_count": 39,
   "metadata": {},
   "outputs": [
    {
     "name": "stdout",
     "output_type": "stream",
     "text": [
      "Predicted change is identical to the real stock market change 1058\n",
      "Predicted change is not identical to the real stock market change 1290\n",
      "Predicted change is not equal but the direction is the same with the real stock market change 518\n",
      "The direction of predicted change is opposite to the stock market change 772\n"
     ]
    }
   ],
   "source": [
    "tweets_dfx=tweets_df.loc[tweets_df[\"value change\"]!=tweets_df[\"predicted changes\"]]\n",
    "print(\"Predicted change is identical to the real stock market change\",len(tweets_df)-len(tweets_dfx))\n",
    "print(\"Predicted change is not identical to the real stock market change\",len(tweets_dfx))\n",
    "\n",
    "\n",
    "tweets_df1x=tweets_dfx.loc[(tweets_dfx[\"value change\"].values=='BIGPOS') | (tweets_dfx[\"value change\"].values=='MEDPOS') |\n",
    "                         (tweets_dfx[\"value change\"].values=='SMAPOS')]\n",
    "tweets_df1=tweets_df1x.loc[(tweets_df1x[\"predicted changes\"].values=='BIGPOS') | (tweets_df1x[\"predicted changes\"].values=='MEDPOS') |\n",
    "                         (tweets_df1x[\"predicted changes\"].values=='SMAPOS')]\n",
    "\n",
    "tweets_df2x=tweets_dfx.loc[(tweets_dfx[\"value change\"].values=='BIGNEG') | (tweets_dfx[\"value change\"].values=='MEDNEG') |\n",
    "                         (tweets_dfx[\"value change\"].values=='SMANEG')]\n",
    "tweets_df2=tweets_df2x.loc[(tweets_df2x[\"predicted changes\"].values=='BIGNEG') | (tweets_df2x[\"predicted changes\"].values=='MEDNEG') |\n",
    "                         (tweets_df2x[\"predicted changes\"].values=='SMANEG')]\n",
    "\n",
    "print(\"Predicted change is not equal but the direction is the same with the real stock market change\",len(tweets_df1)+len(tweets_df2))\n",
    "\n",
    "print(\"The direction of predicted change is opposite to the stock market change\",len(tweets_dfx)-(len(tweets_df1)+len(tweets_df2)))\n"
   ]
  },
  {
   "cell_type": "code",
   "execution_count": 40,
   "metadata": {},
   "outputs": [
    {
     "data": {
      "image/png": "[encoded data removed]",
      "text/plain": [
       "<Figure size 432x288 with 1 Axes>"
      ]
     },
     "metadata": {},
     "output_type": "display_data"
    }
   ],
   "source": [
    "# Pie chart, where the slices will be ordered and plotted counter-clockwise:\n",
    "text1=textwrap.fill('Predicted change is identical to the real stock market change', width=40)\n",
    "text2=textwrap.fill('Predicted change is not equal but the direction is the same with the real stock market change', width=50)\n",
    "text3=textwrap.fill('The direction of predicted change is opposite to the stock market change', width=50)\n",
    "labels = text1, text2, text3\n",
    "colors  = (\"green\", \"blue\", \"red\")\n",
    "sizes = [len(tweets_df)-len(tweets_dfx),len(tweets_df1)+len(tweets_df2),len(tweets_dfx)-(len(tweets_df1)+len(tweets_df2))]\n",
    "#print(len(tweets_df),len(tweets_df1), len(tweets_df2))\n",
    "\n",
    "fig1, ax1 = plt.subplots()\n",
    "ax1.pie(sizes, labels=labels, colors=colors, autopct='%1.1f%%', shadow=True, startangle=90)\n",
    "ax1.axis('equal')  # Equal aspect ratio ensures that pie is drawn as a circle.\n",
    "\n",
    "plt.show()"
   ]
  },
  {
   "cell_type": "code",
   "execution_count": null,
   "metadata": {},
   "outputs": [],
   "source": []
  }
 ],
 "metadata": {
  "kernelspec": {
   "display_name": "Python 3",
   "language": "python",
   "name": "python3"
  },
  "language_info": {
   "codemirror_mode": {
    "name": "ipython",
    "version": 3
   },
   "file_extension": ".py",
   "mimetype": "text/x-python",
   "name": "python",
   "nbconvert_exporter": "python",
   "pygments_lexer": "ipython3",
   "version": "3.6.4"
  }
 },
 "nbformat": 4,
 "nbformat_minor": 2
}
