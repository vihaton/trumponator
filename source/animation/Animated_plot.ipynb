{
 "cells": [
  {
   "cell_type": "code",
   "execution_count": 2,
   "metadata": {
    "scrolled": true
   },
   "outputs": [
    {
     "ename": "RuntimeError",
     "evalue": "Requested MovieWriter (ffmpeg) not available",
     "output_type": "error",
     "traceback": [
      "\u001b[0;31m---------------------------------------------------------------------------\u001b[0m",
      "\u001b[0;31mKeyError\u001b[0m                                  Traceback (most recent call last)",
      "\u001b[0;32m~/anaconda3/envs/alphavantage/lib/python3.6/site-packages/matplotlib/animation.py\u001b[0m in \u001b[0;36m__getitem__\u001b[0;34m(self, name)\u001b[0m\n\u001b[1;32m    160\u001b[0m         \u001b[0;32mtry\u001b[0m\u001b[0;34m:\u001b[0m\u001b[0;34m\u001b[0m\u001b[0m\n\u001b[0;32m--> 161\u001b[0;31m             \u001b[0;32mreturn\u001b[0m \u001b[0mself\u001b[0m\u001b[0;34m.\u001b[0m\u001b[0mavail\u001b[0m\u001b[0;34m[\u001b[0m\u001b[0mname\u001b[0m\u001b[0;34m]\u001b[0m\u001b[0;34m\u001b[0m\u001b[0m\n\u001b[0m\u001b[1;32m    162\u001b[0m         \u001b[0;32mexcept\u001b[0m \u001b[0mKeyError\u001b[0m\u001b[0;34m:\u001b[0m\u001b[0;34m\u001b[0m\u001b[0m\n",
      "\u001b[0;31mKeyError\u001b[0m: 'ffmpeg'",
      "\nDuring handling of the above exception, another exception occurred:\n",
      "\u001b[0;31mRuntimeError\u001b[0m                              Traceback (most recent call last)",
      "\u001b[0;32m~/anaconda3/envs/alphavantage/lib/python3.6/site-packages/IPython/core/formatters.py\u001b[0m in \u001b[0;36m__call__\u001b[0;34m(self, obj)\u001b[0m\n\u001b[1;32m    343\u001b[0m             \u001b[0mmethod\u001b[0m \u001b[0;34m=\u001b[0m \u001b[0mget_real_method\u001b[0m\u001b[0;34m(\u001b[0m\u001b[0mobj\u001b[0m\u001b[0;34m,\u001b[0m \u001b[0mself\u001b[0m\u001b[0;34m.\u001b[0m\u001b[0mprint_method\u001b[0m\u001b[0;34m)\u001b[0m\u001b[0;34m\u001b[0m\u001b[0m\n\u001b[1;32m    344\u001b[0m             \u001b[0;32mif\u001b[0m \u001b[0mmethod\u001b[0m \u001b[0;32mis\u001b[0m \u001b[0;32mnot\u001b[0m \u001b[0;32mNone\u001b[0m\u001b[0;34m:\u001b[0m\u001b[0;34m\u001b[0m\u001b[0m\n\u001b[0;32m--> 345\u001b[0;31m                 \u001b[0;32mreturn\u001b[0m \u001b[0mmethod\u001b[0m\u001b[0;34m(\u001b[0m\u001b[0;34m)\u001b[0m\u001b[0;34m\u001b[0m\u001b[0m\n\u001b[0m\u001b[1;32m    346\u001b[0m             \u001b[0;32mreturn\u001b[0m \u001b[0;32mNone\u001b[0m\u001b[0;34m\u001b[0m\u001b[0m\n\u001b[1;32m    347\u001b[0m         \u001b[0;32melse\u001b[0m\u001b[0;34m:\u001b[0m\u001b[0;34m\u001b[0m\u001b[0m\n",
      "\u001b[0;32m~/anaconda3/envs/alphavantage/lib/python3.6/site-packages/matplotlib/animation.py\u001b[0m in \u001b[0;36m_repr_html_\u001b[0;34m(self)\u001b[0m\n\u001b[1;32m   1384\u001b[0m         \u001b[0mfmt\u001b[0m \u001b[0;34m=\u001b[0m \u001b[0mrcParams\u001b[0m\u001b[0;34m[\u001b[0m\u001b[0;34m'animation.html'\u001b[0m\u001b[0;34m]\u001b[0m\u001b[0;34m\u001b[0m\u001b[0m\n\u001b[1;32m   1385\u001b[0m         \u001b[0;32mif\u001b[0m \u001b[0mfmt\u001b[0m \u001b[0;34m==\u001b[0m \u001b[0;34m'html5'\u001b[0m\u001b[0;34m:\u001b[0m\u001b[0;34m\u001b[0m\u001b[0m\n\u001b[0;32m-> 1386\u001b[0;31m             \u001b[0;32mreturn\u001b[0m \u001b[0mself\u001b[0m\u001b[0;34m.\u001b[0m\u001b[0mto_html5_video\u001b[0m\u001b[0;34m(\u001b[0m\u001b[0;34m)\u001b[0m\u001b[0;34m\u001b[0m\u001b[0m\n\u001b[0m\u001b[1;32m   1387\u001b[0m         \u001b[0;32melif\u001b[0m \u001b[0mfmt\u001b[0m \u001b[0;34m==\u001b[0m \u001b[0;34m'jshtml'\u001b[0m\u001b[0;34m:\u001b[0m\u001b[0;34m\u001b[0m\u001b[0m\n\u001b[1;32m   1388\u001b[0m             \u001b[0;32mreturn\u001b[0m \u001b[0mself\u001b[0m\u001b[0;34m.\u001b[0m\u001b[0mto_jshtml\u001b[0m\u001b[0;34m(\u001b[0m\u001b[0;34m)\u001b[0m\u001b[0;34m\u001b[0m\u001b[0m\n",
      "\u001b[0;32m~/anaconda3/envs/alphavantage/lib/python3.6/site-packages/matplotlib/animation.py\u001b[0m in \u001b[0;36mto_html5_video\u001b[0;34m(self, embed_limit)\u001b[0m\n\u001b[1;32m   1321\u001b[0m                 \u001b[0;31m# We create a writer manually so that we can get the\u001b[0m\u001b[0;34m\u001b[0m\u001b[0;34m\u001b[0m\u001b[0m\n\u001b[1;32m   1322\u001b[0m                 \u001b[0;31m# appropriate size for the tag\u001b[0m\u001b[0;34m\u001b[0m\u001b[0;34m\u001b[0m\u001b[0m\n\u001b[0;32m-> 1323\u001b[0;31m                 \u001b[0mWriter\u001b[0m \u001b[0;34m=\u001b[0m \u001b[0mwriters\u001b[0m\u001b[0;34m[\u001b[0m\u001b[0mrcParams\u001b[0m\u001b[0;34m[\u001b[0m\u001b[0;34m'animation.writer'\u001b[0m\u001b[0;34m]\u001b[0m\u001b[0;34m]\u001b[0m\u001b[0;34m\u001b[0m\u001b[0m\n\u001b[0m\u001b[1;32m   1324\u001b[0m                 writer = Writer(codec='h264',\n\u001b[1;32m   1325\u001b[0m                                 \u001b[0mbitrate\u001b[0m\u001b[0;34m=\u001b[0m\u001b[0mrcParams\u001b[0m\u001b[0;34m[\u001b[0m\u001b[0;34m'animation.bitrate'\u001b[0m\u001b[0;34m]\u001b[0m\u001b[0;34m,\u001b[0m\u001b[0;34m\u001b[0m\u001b[0m\n",
      "\u001b[0;32m~/anaconda3/envs/alphavantage/lib/python3.6/site-packages/matplotlib/animation.py\u001b[0m in \u001b[0;36m__getitem__\u001b[0;34m(self, name)\u001b[0m\n\u001b[1;32m    162\u001b[0m         \u001b[0;32mexcept\u001b[0m \u001b[0mKeyError\u001b[0m\u001b[0;34m:\u001b[0m\u001b[0;34m\u001b[0m\u001b[0m\n\u001b[1;32m    163\u001b[0m             raise RuntimeError(\n\u001b[0;32m--> 164\u001b[0;31m                 'Requested MovieWriter ({}) not available'.format(name))\n\u001b[0m\u001b[1;32m    165\u001b[0m \u001b[0;34m\u001b[0m\u001b[0m\n\u001b[1;32m    166\u001b[0m \u001b[0;34m\u001b[0m\u001b[0m\n",
      "\u001b[0;31mRuntimeError\u001b[0m: Requested MovieWriter (ffmpeg) not available"
     ]
    },
    {
     "data": {
      "text/plain": [
       "<matplotlib.animation.FuncAnimation at 0x7fe334ee6e80>"
      ]
     },
     "execution_count": 2,
     "metadata": {},
     "output_type": "execute_result"
    },
    {
     "data": {
      "image/png": "[encoded data removed]",
      "text/plain": [
       "<Figure size 432x288 with 1 Axes>"
      ]
     },
     "metadata": {},
     "output_type": "display_data"
    }
   ],
   "source": [
    "%matplotlib inline\n",
    "import matplotlib.pyplot as plt\n",
    "from matplotlib import style\n",
    "from matplotlib import markers\n",
    "from matplotlib import animation, rc\n",
    "from IPython.display import HTML\n",
    "from datetime import datetime\n",
    "import numpy as np\n",
    "from datetime import timedelta\n",
    "import matplotlib.dates as md\n",
    "from pandas.tseries.offsets import BDay\n",
    "import seaborn as sns\n",
    "import textwrap\n",
    "\n",
    "#Formats for the graph\n",
    "sns.set_context(\"notebook\", font_scale=1.2, rc={\"lines.linewidth\": 1.2})\n",
    "sns.set_style(\"whitegrid\")\n",
    "\n",
    "custom_style = {\n",
    "            'grid.color': '0.4',\n",
    "            'grid.linestyle': '--',\n",
    "            'grid.linewidth': 0.5,\n",
    "}\n",
    "sns.set_style(custom_style)\n",
    "\n",
    "fig = plt.figure()\n",
    "ax = fig.add_subplot(1,1,1)  \n",
    "\n",
    "xs = []\n",
    "ys = []\n",
    "arrow = []\n",
    "anno = []\n",
    "xlabel = []\n",
    "xpoint = []\n",
    "ypoint = []  \n",
    "k = [] \n",
    "\n",
    "def animate(i):\n",
    "    \n",
    "    if i == 0 and len(xlabel) == 0:\n",
    "        #The first round will be ignored\n",
    "        xlabel.append(\"drop\")     \n",
    "        \n",
    "    else:\n",
    "        \n",
    "        data = open('animation.txt','r').read()\n",
    "        \n",
    "        if i == 0 and len(xlabel) != 0:\n",
    "            xlabel.clear()\n",
    "            prev_xlab=\"\"\n",
    "            line = data.split('\\n')[:1]\n",
    "            k.append(0)\n",
    "\n",
    "        else:\n",
    "            prev_xlab=max(xlabel)       \n",
    "            line = data.split('\\n')[i:i+1]\n",
    "            if i == 1:\n",
    "                del k[0]\n",
    "\n",
    "        if len(line) > 0:\n",
    "            #print(i)\n",
    "            #print(line[0].split(',')[:1][0])\n",
    "            #print()\n",
    "            \n",
    "            #Add the printable labels into the list\n",
    "            dttime = line[0].split(',')[:1][0]\n",
    "            x=datetime.strptime(dttime[:10], \"%Y-%m-%d\").date()\n",
    "            xlab=str(x.timetuple()[1]) + \"/\" + str(x.timetuple()[0])[2:]\n",
    "\n",
    "            if xlab != prev_xlab:\n",
    "                xlabel.append(xlab)\n",
    "            else:\n",
    "                xlabel.append(\"\")\n",
    "            #Add the values to lists for x and y in the plot\n",
    "            y = float(line[0].split(',')[3:4][0][:5])\n",
    "            #xs.append(md.date2num(x))\n",
    "            xs.append(x)\n",
    "            ys.append(y)\n",
    "            \n",
    "            #Add the arrow points to the plot\n",
    "            #print(line[0].split(',')[1:2][0])\n",
    "            if line[0].split(',')[2:3][0] == 'BIGNEG' :\n",
    "                arrow.append(30)\n",
    "                anno.append(line[0].split(',')[1:2][0])\n",
    "                xpoint.append(x) #+ timedelta(days=1))                \n",
    "                ypoint.append(y-250)\n",
    "                if line[0].split(',')[1:2][0] != \"\":\n",
    "                    k.append(max(k)+1)\n",
    "                else:\n",
    "                    k.append(0)                    \n",
    "                \n",
    "            elif line[0].split(',')[2:3][0] == 'BIGPOS' :\n",
    "                arrow.append(150)    \n",
    "                anno.append(line[0].split(',')[1:2][0])\n",
    "                xpoint.append(x + timedelta(days=2)) \n",
    "                ypoint.append(y+200)\n",
    "                if line[0].split(',')[1:2][0] != \"\":\n",
    "                    k.append(max(k)+1)\n",
    "                else:\n",
    "                    k.append(0)\n",
    "                \n",
    "            else:\n",
    "                #not showing the arrow\n",
    "                arrow.append(0)\n",
    "                anno.append(\"\")\n",
    "                xpoint.append(x)                \n",
    "                ypoint.append(y)\n",
    "                k.append(0)\n",
    "                 \n",
    "        ax.clear()\n",
    "        plt.ylim((23500,30000))\n",
    "        plt.xlim(xs[0]- timedelta(days=1),xs[0]+timedelta(days=130))\n",
    "        ax.plot(xs, ys)\n",
    "        monthsFmt = md.DateFormatter('%Y/%m')\n",
    "        ax.xaxis.set_major_locator(md.MonthLocator())\n",
    "        ax.xaxis.set_major_formatter(monthsFmt)\n",
    "        plt.xlabel('Monthly frequency', fontweight='bold', color = 'black', fontsize='10', horizontalalignment='center')\n",
    "        plt.ylabel('Stock market rate', fontweight='bold', color = 'black', fontsize='10', verticalalignment='center')\n",
    "    \n",
    "        #arrows\n",
    "        for j in range(len(xs)):\n",
    "            if xs[j] != 0:\n",
    "                if arrow[j] == 0:\n",
    "                    ax.scatter(xs[j], ys[j], marker=\".\", s=1, color='b')\n",
    "                else:\n",
    "                    ar=markers.MarkerStyle(marker=u'$\\u2193$')\n",
    "                    ar._transform = ar.get_transform().rotate_deg(arrow[j])\n",
    "                    #Tweets appearing in annotation\n",
    "                    if anno[j] != \"\":\n",
    "                        ax.scatter(xpoint[j], ypoint[j], marker=ar, s=300, color='g')\n",
    "                        text=textwrap.fill(str(xs[j]) + \". \" + anno[j], width=75)\n",
    "                        ax.annotate(text, xy=(xs[j], ys[j]), xytext=(min(xs), 29900-k[j]*700), fontsize=10) \n",
    "                    else:\n",
    "                        ax.scatter(xpoint[j], ypoint[j], marker=ar, s=300, color='r') \n",
    "                        ax.annotate(anno[j], xy=(xs[j], ys[j]), xytext=(min(xs), 0))    \n",
    "\n",
    "                \n",
    "ani = animation.FuncAnimation(fig, animate, interval=500)\n",
    "#HTML(ani.to_html5_video())\n",
    "\n",
    "rc('animation', html='html5')\n",
    "\n",
    "ani\n"
   ]
  },
  {
   "cell_type": "code",
   "execution_count": null,
   "metadata": {},
   "outputs": [],
   "source": [
    "#Checking if imagemagick is installed\n",
    "!brew install imagemagick"
   ]
  },
  {
   "cell_type": "code",
   "execution_count": null,
   "metadata": {},
   "outputs": [],
   "source": [
    "#Saving the gif\n",
    "ani.save('animation.gif', writer='imagemagick', fps=60)"
   ]
  },
  {
   "cell_type": "code",
   "execution_count": null,
   "metadata": {},
   "outputs": [],
   "source": [
    "#Checking if gif is saved as expected\n",
    "Image(url='/animation.gif')\n"
   ]
  }
 ],
 "metadata": {
  "kernelspec": {
   "display_name": "alphavantage",
   "language": "python",
   "name": "alphavantage"
  },
  "language_info": {
   "codemirror_mode": {
    "name": "ipython",
    "version": 3
   },
   "file_extension": ".py",
   "mimetype": "text/x-python",
   "name": "python",
   "nbconvert_exporter": "python",
   "pygments_lexer": "ipython3",
   "version": "3.6.6"
  }
 },
 "nbformat": 4,
 "nbformat_minor": 2
}
